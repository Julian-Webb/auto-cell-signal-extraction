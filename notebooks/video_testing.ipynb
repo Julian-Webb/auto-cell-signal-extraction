{
 "cells": [
  {
   "cell_type": "code",
   "outputs": [],
   "source": [
    "import os\n",
    "import tifffile as tf\n",
    "import numpy as np\n",
    "\n",
    "base_dir = '/Users/julian/development/PycharmProjects/glioblastoma'\n",
    "\n",
    "# calcium image\n",
    "calcium_img_dir = os.path.join(base_dir, 'data', '01_raw', '276_AZD3965_Mathieu')\n",
    "calcium_img_path = os.path.join(calcium_img_dir, '276_AZD3965_Mathieu.TIF')\n",
    "directory = calcium_img_dir\n",
    "image_path = calcium_img_path\n",
    "\n",
    "# test stack\n",
    "test_stack_dir = os.path.join(base_dir, 'data', '01_raw', 'high_res_test_stack')\n",
    "test_stack_path = os.path.join(test_stack_dir, 'high_res_test_stack.tif')\n",
    "directory = test_stack_dir\n",
    "image_path = test_stack_path\n",
    "\n",
    "# single image\n",
    "# single_image_dir = '/Users/julian/development/PycharmProjects/glioblastoma/data/01_raw/single_image/'\n",
    "# single_image_path = os.path.join(single_image_dir, 'single_image.tiff')\n",
    "\n"
   ],
   "metadata": {
    "collapsed": false,
    "ExecuteTime": {
     "end_time": "2024-03-20T11:28:03.976764Z",
     "start_time": "2024-03-20T11:28:03.972982Z"
    }
   },
   "id": "8b8b09b4b6f7e493",
   "execution_count": 12
  },
  {
   "cell_type": "code",
   "outputs": [],
   "source": [
    "clusters = [[(1, 1), (1, 2), (1, 3), (2, 1)],\n",
    "            [(0, 0), (0, 1), (0, 2), (0, 3), (1, 0), (2, 0), (2, 2), (2, 3), (3, 0), (3, 1)], [(3, 2)], [(3, 3)]]\n",
    "roi_clusters_dict = {(0, 0): 1, (0, 1): 1, (0, 2): 1, (0, 3): 1, (1, 0): 1, (1, 1): 0, (1, 2): 0, (1, 3): 0, (2, 0): 1,\n",
    "                     (2, 1): 0, (2, 2): 1, (2, 3): 1, (3, 0): 1, (3, 1): 1, (3, 2): 2, (3, 3): 3}\n",
    "\n",
    "representative_signals = np.array([[0., 0., 0., 0., 0., 0., 0., 0., 0., 0., 0., 0., 0.],\n",
    "                                   [0., 0., 0., 0., 4107.314, 10275.03, 15415.878, 10275.03, 0., 4107.314, 12936.118,\n",
    "                                    15415.878, 0.],\n",
    "                                   [0., 0., 0., 0., 0., 0., 0., 0., 0., 0., 0., 0., 0.],\n",
    "                                   [0., 0., 0., 0., 0., 0., 0., 0., 0., 0., 0., 0., 0.]])\n",
    "representative_signals = representative_signals.astype(np.uint16)\n",
    "\n",
    "n_clusters = 4\n",
    "n_horizontal = 4\n",
    "n_vertical = 4\n",
    "roi_dims = (2048 // 4, 1536 // 4)\n",
    "img_dims = (2048, 1536)"
   ],
   "metadata": {
    "collapsed": false,
    "ExecuteTime": {
     "end_time": "2024-03-20T12:55:58.279736Z",
     "start_time": "2024-03-20T12:55:58.275789Z"
    }
   },
   "id": "fdc977cd6a0762ce",
   "execution_count": 41
  },
  {
   "cell_type": "code",
   "outputs": [],
   "source": [
    "image = tf.imread(image_path)\n",
    "n_frames, vertical_pixels, horizontal_pixels = image.shape"
   ],
   "metadata": {
    "collapsed": false,
    "ExecuteTime": {
     "end_time": "2024-03-20T12:20:34.442749Z",
     "start_time": "2024-03-20T12:20:34.092090Z"
    }
   },
   "id": "e5d93ddc2e0bc9d4",
   "execution_count": 26
  },
  {
   "cell_type": "code",
   "outputs": [],
   "source": [
    "def create_signals_video():\n",
    "    # for each cluster, we need to determine the pixels which it affects\n",
    "    # Then for each frame, we need to set the pixel values of that frame to the signal value of the corresponding cluster\n",
    "    # we do this for each cluster\n",
    "\n",
    "    video_arr = np.zeros((n_frames, horizontal_pixels, vertical_pixels))\n"
   ],
   "metadata": {
    "collapsed": false,
    "ExecuteTime": {
     "end_time": "2024-03-20T12:20:36.707076Z",
     "start_time": "2024-03-20T12:20:36.704047Z"
    }
   },
   "id": "85d2765ae4490a36",
   "execution_count": 27
  },
  {
   "cell_type": "code",
   "outputs": [],
   "source": [
    "def create_frame(frame_idx: int):\n",
    "    roi_width, roi_height = roi_dims\n",
    "\n",
    "    frame_arr = np.zeros((horizontal_pixels, vertical_pixels))\n",
    "    \n",
    "    for roi, cluster in roi_clusters_dict.items():\n",
    "        signal_value = representative_signals[cluster, frame_idx]\n",
    "\n",
    "        # determine boundaries (they are exclusive, i.e. the upper value is not included)\n",
    "        x_left, y_top = roi\n",
    "        x_right, y_bottom = x_left + roi_width, y_top + roi_height\n",
    "\n",
    "        frame_arr[x_left: x_right, y_top: y_bottom] = signal_value\n",
    "\n",
    "    return frame_arr\n"
   ],
   "metadata": {
    "collapsed": false,
    "ExecuteTime": {
     "end_time": "2024-03-20T12:20:38.229518Z",
     "start_time": "2024-03-20T12:20:38.224707Z"
    }
   },
   "id": "1c3024674ae29993",
   "execution_count": 28
  },
  {
   "cell_type": "code",
   "outputs": [],
   "source": [
    "video_arr = np.zeros((1, horizontal_pixels, vertical_pixels))\n",
    "\n",
    "video_arr[0,:,:] = create_frame(1)\n",
    "tf.imwrite('frame1.tif', video_arr, photometric=tf.PHOTOMETRIC.MINISBLACK)"
   ],
   "metadata": {
    "collapsed": false,
    "ExecuteTime": {
     "end_time": "2024-03-20T12:31:16.656211Z",
     "start_time": "2024-03-20T12:31:16.638674Z"
    }
   },
   "id": "939647df88dcf270",
   "execution_count": 37
  },
  {
   "cell_type": "code",
   "outputs": [],
   "source": [
    "tf.imwrite('temp_C001T001.tif', np.random.rand(64, 64))"
   ],
   "metadata": {
    "collapsed": false
   },
   "id": "d643c1b7bf74a082",
   "execution_count": null
  },
  {
   "cell_type": "code",
   "outputs": [
    {
     "data": {
      "text/plain": "<PHOTOMETRIC.PALETTE: 3>"
     },
     "execution_count": 13,
     "metadata": {},
     "output_type": "execute_result"
    }
   ],
   "source": [
    "tif = tf.TiffFile(calcium_img_path)\n",
    "tif.pages[0].tags['PhotometricInterpretation'].value\n"
   ],
   "metadata": {
    "collapsed": false,
    "ExecuteTime": {
     "end_time": "2024-03-20T11:28:09.535291Z",
     "start_time": "2024-03-20T11:28:09.527149Z"
    }
   },
   "id": "ba9c52a626bfe70c",
   "execution_count": 13
  },
  {
   "cell_type": "code",
   "outputs": [],
   "source": [
    "image = tf.imread(test_stack_path)"
   ],
   "metadata": {
    "collapsed": false,
    "ExecuteTime": {
     "end_time": "2024-03-20T11:30:33.203969Z",
     "start_time": "2024-03-20T11:30:33.115080Z"
    }
   },
   "id": "ea29f6bb1d6d1511",
   "execution_count": 15
  },
  {
   "cell_type": "code",
   "outputs": [
    {
     "name": "stdout",
     "output_type": "stream",
     "text": [
      "0 : 255\n"
     ]
    }
   ],
   "source": [
    "print(image.min(), ':', image.max())\n"
   ],
   "metadata": {
    "collapsed": false,
    "ExecuteTime": {
     "end_time": "2024-03-20T12:16:55.355650Z",
     "start_time": "2024-03-20T12:16:51.766331Z"
    }
   },
   "id": "c4c4eb075f127774",
   "execution_count": 22
  },
  {
   "cell_type": "code",
   "outputs": [],
   "source": [
    "image = tf.imread(calcium_img_path)"
   ],
   "metadata": {
    "collapsed": false,
    "ExecuteTime": {
     "end_time": "2024-03-20T12:20:49.167652Z",
     "start_time": "2024-03-20T12:20:46.292565Z"
    }
   },
   "id": "43cc2f9a3d64ebf2",
   "execution_count": 30
  },
  {
   "cell_type": "code",
   "outputs": [],
   "source": [
    "tf.imwrite('calcium_image.tif', image)"
   ],
   "metadata": {
    "collapsed": false,
    "ExecuteTime": {
     "end_time": "2024-03-20T12:17:40.364604Z",
     "start_time": "2024-03-20T12:17:35.247202Z"
    }
   },
   "id": "559fc9c84a87199c",
   "execution_count": 23
  },
  {
   "cell_type": "code",
   "outputs": [],
   "source": [
    "import numpy as np\n",
    "import tifffile\n",
    "\n",
    "# Create a sample NumPy array representing grayscale images\n",
    "# Replace this with your actual numpy array\n",
    "n_frames = 10\n",
    "n_horizontal_pixels = 712\n",
    "n_vertical_pixels = 512\n",
    "data = np.random.randint(0, 2**16, size=(n_frames, n_horizontal_pixels, n_vertical_pixels), dtype=np.uint16)\n",
    "\n",
    "# Define the output file name\n",
    "output_file = 'output_multi_image.tif'\n",
    "\n",
    "# Write the multi-image TIFF file\n",
    "tf.imwrite(output_file, data.reshape(n_frames, n_vertical_pixels, n_horizontal_pixels))  # Adjust compress level as needed\n"
   ],
   "metadata": {
    "collapsed": false,
    "ExecuteTime": {
     "end_time": "2024-03-20T12:54:23.831282Z",
     "start_time": "2024-03-20T12:54:23.821468Z"
    }
   },
   "id": "bd6fa957be0fd320",
   "execution_count": 40
  },
  {
   "cell_type": "code",
   "outputs": [],
   "source": [],
   "metadata": {
    "collapsed": false
   },
   "id": "c2979f34ebaa4226",
   "execution_count": null
  }
 ],
 "metadata": {
  "kernelspec": {
   "display_name": "Python 3",
   "language": "python",
   "name": "python3"
  },
  "language_info": {
   "codemirror_mode": {
    "name": "ipython",
    "version": 2
   },
   "file_extension": ".py",
   "mimetype": "text/x-python",
   "name": "python",
   "nbconvert_exporter": "python",
   "pygments_lexer": "ipython2",
   "version": "2.7.6"
  }
 },
 "nbformat": 4,
 "nbformat_minor": 5
}
