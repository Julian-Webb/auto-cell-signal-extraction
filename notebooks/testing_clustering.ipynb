{
 "cells": [
  {
   "cell_type": "code",
   "execution_count": 14,
   "id": "initial_id",
   "metadata": {
    "collapsed": true,
    "ExecuteTime": {
     "end_time": "2024-03-15T13:36:43.046314Z",
     "start_time": "2024-03-15T13:36:43.041287Z"
    }
   },
   "outputs": [],
   "source": [
    "from sklearn.cluster import AgglomerativeClustering\n",
    "from sklearn.metrics.pairwise import pairwise_distances\n",
    "import pandas as pd"
   ]
  },
  {
   "cell_type": "code",
   "outputs": [],
   "source": [
    "# compute distances\n",
    "roi0 = [0.1, 0.2, 0.3, 0.5, 0.4]\n",
    "#roi1 = roi1.copy()\n",
    "roi1 = [0.7, 0.2, 0.4, 0.2, 0.0]\n",
    "roi2 = [0.1, 0.2, 0.3, 0.4, 0.4]\n",
    "roi3 = [0.6, 0.1, 0.2, 0.5, 0.9]\n",
    "rois = [roi0, roi1, roi2, roi3]\n",
    "\n",
    "pairwise_dist = pairwise_distances(rois)\n",
    "\n",
    "df = pd.DataFrame(pairwise_dist)\n"
   ],
   "metadata": {
    "collapsed": false,
    "ExecuteTime": {
     "end_time": "2024-03-15T15:10:27.045209Z",
     "start_time": "2024-03-15T15:10:27.025821Z"
    }
   },
   "id": "d6ed05e59a065f17",
   "execution_count": 20
  },
  {
   "cell_type": "code",
   "outputs": [],
   "source": [
    "# 2. Hierarchical Clustering\n",
    "n_clusters = 2  # Adjust the number of clusters as needed\n",
    "clustering = AgglomerativeClustering(n_clusters=n_clusters, linkage='average', metric='precomputed')\n",
    "cluster_labels = clustering.fit_predict(df)\n",
    "\n",
    "# 3. Extract Clusters\n",
    "clusters = {}\n",
    "for cluster_id in range(n_clusters):\n",
    "    clusters[cluster_id] = [i for i, label in enumerate(cluster_labels) if label == cluster_id]\n"
   ],
   "metadata": {
    "collapsed": false,
    "ExecuteTime": {
     "end_time": "2024-03-15T15:10:56.052531Z",
     "start_time": "2024-03-15T15:10:56.049235Z"
    }
   },
   "id": "a9fb8afc9703f7f1",
   "execution_count": 25
  },
  {
   "cell_type": "code",
   "outputs": [
    {
     "data": {
      "text/plain": "{0: [0, 2], 1: [1], 2: [3]}"
     },
     "execution_count": 24,
     "metadata": {},
     "output_type": "execute_result"
    }
   ],
   "source": [
    "clusters"
   ],
   "metadata": {
    "collapsed": false,
    "ExecuteTime": {
     "end_time": "2024-03-15T15:10:47.017457Z",
     "start_time": "2024-03-15T15:10:47.012152Z"
    }
   },
   "id": "d46db28fe3705bb4",
   "execution_count": 24
  },
  {
   "cell_type": "code",
   "outputs": [
    {
     "data": {
      "text/plain": "          0         1         2         3\n0  0.000000  0.787401  0.100000  0.721110\n1  0.787401  0.000000  0.754983  0.979796\n2  0.100000  0.754983  0.000000  0.728011\n3  0.721110  0.979796  0.728011  0.000000",
      "text/html": "<div>\n<style scoped>\n    .dataframe tbody tr th:only-of-type {\n        vertical-align: middle;\n    }\n\n    .dataframe tbody tr th {\n        vertical-align: top;\n    }\n\n    .dataframe thead th {\n        text-align: right;\n    }\n</style>\n<table border=\"1\" class=\"dataframe\">\n  <thead>\n    <tr style=\"text-align: right;\">\n      <th></th>\n      <th>0</th>\n      <th>1</th>\n      <th>2</th>\n      <th>3</th>\n    </tr>\n  </thead>\n  <tbody>\n    <tr>\n      <th>0</th>\n      <td>0.000000</td>\n      <td>0.787401</td>\n      <td>0.100000</td>\n      <td>0.721110</td>\n    </tr>\n    <tr>\n      <th>1</th>\n      <td>0.787401</td>\n      <td>0.000000</td>\n      <td>0.754983</td>\n      <td>0.979796</td>\n    </tr>\n    <tr>\n      <th>2</th>\n      <td>0.100000</td>\n      <td>0.754983</td>\n      <td>0.000000</td>\n      <td>0.728011</td>\n    </tr>\n    <tr>\n      <th>3</th>\n      <td>0.721110</td>\n      <td>0.979796</td>\n      <td>0.728011</td>\n      <td>0.000000</td>\n    </tr>\n  </tbody>\n</table>\n</div>"
     },
     "execution_count": 18,
     "metadata": {},
     "output_type": "execute_result"
    }
   ],
   "source": [
    "df"
   ],
   "metadata": {
    "collapsed": false,
    "ExecuteTime": {
     "end_time": "2024-03-15T13:37:33.630683Z",
     "start_time": "2024-03-15T13:37:33.624518Z"
    }
   },
   "id": "5b95e4c7f21263a2",
   "execution_count": 18
  },
  {
   "cell_type": "markdown",
   "source": [],
   "metadata": {
    "collapsed": false
   },
   "id": "746641e8e0a79dc9"
  },
  {
   "cell_type": "code",
   "outputs": [],
   "source": [],
   "metadata": {
    "collapsed": false
   },
   "id": "6ec4ab37bcc315d6"
  }
 ],
 "metadata": {
  "kernelspec": {
   "display_name": "Python 3",
   "language": "python",
   "name": "python3"
  },
  "language_info": {
   "codemirror_mode": {
    "name": "ipython",
    "version": 2
   },
   "file_extension": ".py",
   "mimetype": "text/x-python",
   "name": "python",
   "nbconvert_exporter": "python",
   "pygments_lexer": "ipython2",
   "version": "2.7.6"
  }
 },
 "nbformat": 4,
 "nbformat_minor": 5
}
