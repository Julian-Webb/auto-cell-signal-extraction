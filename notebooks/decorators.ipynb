{
 "cells": [
  {
   "cell_type": "code",
   "id": "initial_id",
   "metadata": {
    "collapsed": true,
    "ExecuteTime": {
     "end_time": "2024-05-13T12:12:52.679305Z",
     "start_time": "2024-05-13T12:12:52.675102Z"
    }
   },
   "source": [
    "import time\n",
    "\n",
    "\n",
    "def message_and_time(func: callable):\n",
    "    def decorator():\n",
    "        st = time.perf_counter()\n",
    "        print(f'{st=:.1f}')\n",
    "\n",
    "        func()\n",
    "        \n",
    "        print(f\"Elapsed time: {time.perf_counter() - st:.1f}s\")\n",
    "\n",
    "    return decorator\n",
    "\n",
    "def func_to_wrap():\n",
    "    print('I need to be decorated')\n",
    "\n",
    "message_and_time(func_to_wrap)()"
   ],
   "outputs": [
    {
     "name": "stdout",
     "output_type": "stream",
     "text": [
      "st=139479.4\n",
      "I need to be decorated\n",
      "Elapsed time: 0.0s\n"
     ]
    }
   ],
   "execution_count": 4
  },
  {
   "metadata": {
    "ExecuteTime": {
     "end_time": "2024-05-13T12:12:53.684326Z",
     "start_time": "2024-05-13T12:12:53.680538Z"
    }
   },
   "cell_type": "code",
   "source": [
    "import time\n",
    "from functools import wraps\n",
    "\n",
    "\n",
    "def message_and_time(func: callable):\n",
    "    @wraps(func)\n",
    "    def decorated(*args, **kwargs):\n",
    "        print(f'{func.__name__}...')\n",
    "        st = time.perf_counter()\n",
    "\n",
    "        func(*args, **kwargs)\n",
    "        \n",
    "        print(f\"Elapsed time: {time.perf_counter() - st:.1f}s\")\n",
    "\n",
    "    return decorated\n",
    "\n",
    "@message_and_time\n",
    "def func_to_wrap():\n",
    "    print('I need to be decorated')\n",
    "\n",
    "func_to_wrap()"
   ],
   "id": "fa13d9b52c9337a",
   "outputs": [
    {
     "name": "stdout",
     "output_type": "stream",
     "text": [
      "func_to_wrap...\n",
      "I need to be decorated\n",
      "Elapsed time: 0.0s\n"
     ]
    }
   ],
   "execution_count": 5
  },
  {
   "metadata": {},
   "cell_type": "markdown",
   "source": "# With Message",
   "id": "704243061c5f5c31"
  },
  {
   "metadata": {
    "ExecuteTime": {
     "end_time": "2024-05-13T12:14:55.513773Z",
     "start_time": "2024-05-13T12:14:55.509810Z"
    }
   },
   "cell_type": "code",
   "source": [
    "import time\n",
    "from functools import wraps\n",
    "\n",
    "\n",
    "def message_and_time(message: str = ''):\n",
    "    \"\"\"Decorator to print a message and the elapsed time of a function.\"\"\"\n",
    "    def decorated(func: callable):\n",
    "        @wraps(func)\n",
    "        def wrapped(*args, **kwargs):\n",
    "            if message != '':\n",
    "                print(message)\n",
    "            print(f'Executing {func.__name__}...')\n",
    "            st = time.perf_counter()\n",
    "            results = func(*args, **kwargs)\n",
    "            print(f\"Elapsed time: {time.perf_counter() - st:.1f}s\")\n",
    "            return results\n",
    "        return wrapped\n",
    "    return decorated\n",
    "\n",
    "@message_and_time('The function has a message 💌')\n",
    "def func_to_wrap():\n",
    "    print('In funct to wrap')\n",
    "\n",
    "func_to_wrap()"
   ],
   "id": "e3c063e7368b5ab6",
   "outputs": [
    {
     "name": "stdout",
     "output_type": "stream",
     "text": [
      "The function has a message 💌\n",
      "Executing func_to_wrap...\n",
      "In funct to wrap\n",
      "Elapsed time: 0.0s\n"
     ]
    }
   ],
   "execution_count": 11
  },
  {
   "metadata": {},
   "cell_type": "markdown",
   "source": "# With Arguments & return value",
   "id": "2c1eb7853efcd557"
  },
  {
   "metadata": {
    "ExecuteTime": {
     "end_time": "2024-05-13T12:17:08.684565Z",
     "start_time": "2024-05-13T12:17:08.678289Z"
    }
   },
   "cell_type": "code",
   "source": [
    "import time\n",
    "from functools import wraps\n",
    "\n",
    "\n",
    "def message_and_time(message: str = ''):\n",
    "    \"\"\"Decorator to print a message and the elapsed time of a function.\"\"\"\n",
    "    def decorated(func: callable):\n",
    "        @wraps(func)\n",
    "        def wrapped(*args, **kwargs):\n",
    "            if message != '':\n",
    "                print(message)\n",
    "            print(f'Executing {func.__name__}...')\n",
    "            st = time.perf_counter()\n",
    "            results = func(*args, **kwargs)\n",
    "            print(f\"Elapsed time: {time.perf_counter() - st:.1f}s\")\n",
    "            return results\n",
    "        return wrapped\n",
    "    return decorated\n",
    "\n",
    "# @message_and_time('The function has a message 💌')\n",
    "@message_and_time('')\n",
    "def func_to_wrap(arg1, arg2):\n",
    "    print('In funct to wrap. Args:', arg1, arg2)\n",
    "    return arg1 + arg2\n",
    "\n",
    "func_to_wrap(1, 2)"
   ],
   "id": "5abaf4018ed34022",
   "outputs": [
    {
     "name": "stdout",
     "output_type": "stream",
     "text": [
      "Executing func_to_wrap...\n",
      "In funct to wrap. Args: 1 2\n",
      "Elapsed time: 0.0s\n"
     ]
    },
    {
     "data": {
      "text/plain": [
       "3"
      ]
     },
     "execution_count": 17,
     "metadata": {},
     "output_type": "execute_result"
    }
   ],
   "execution_count": 17
  },
  {
   "metadata": {},
   "cell_type": "code",
   "outputs": [],
   "execution_count": null,
   "source": "",
   "id": "20594051b9a28c1"
  }
 ],
 "metadata": {
  "kernelspec": {
   "display_name": "Python 3",
   "language": "python",
   "name": "python3"
  },
  "language_info": {
   "codemirror_mode": {
    "name": "ipython",
    "version": 2
   },
   "file_extension": ".py",
   "mimetype": "text/x-python",
   "name": "python",
   "nbconvert_exporter": "python",
   "pygments_lexer": "ipython2",
   "version": "2.7.6"
  }
 },
 "nbformat": 4,
 "nbformat_minor": 5
}
