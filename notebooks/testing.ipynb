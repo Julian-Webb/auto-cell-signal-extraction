{
 "cells": [
  {
   "cell_type": "code",
   "execution_count": 2,
   "id": "initial_id",
   "metadata": {
    "collapsed": true,
    "ExecuteTime": {
     "end_time": "2024-03-22T09:08:05.812715Z",
     "start_time": "2024-03-22T09:08:05.563402Z"
    }
   },
   "source": [
    "import numpy as np\n",
    "import pandas as pd"
   ],
   "outputs": []
  },
  {
   "cell_type": "code",
   "source": [
    "n_cols = 16\n",
    "n_rows = 12\n",
    "grid_shape = (n_cols, n_rows)\n",
    "\n",
    "r1_tup = (12, 5)\n",
    "r1_lin = n_rows * r1_tup[0] + r1_tup[1]\n",
    "print('r1_lin: ', r1_lin)\n",
    "r1_tup = (5, 12)\n",
    "r2_lin = 17\n",
    "\n"
   ],
   "metadata": {
    "collapsed": false,
    "ExecuteTime": {
     "end_time": "2024-03-21T14:11:25.154374Z",
     "start_time": "2024-03-21T14:11:25.148664Z"
    }
   },
   "id": "77fd950fc8ee868c",
   "execution_count": 16,
   "outputs": []
  },
  {
   "cell_type": "code",
   "source": [
    "np.unravel_index(r1_lin, grid_shape, order='C')"
   ],
   "metadata": {
    "collapsed": false,
    "ExecuteTime": {
     "end_time": "2024-03-21T14:11:31.739854Z",
     "start_time": "2024-03-21T14:11:31.735462Z"
    }
   },
   "id": "752fcdb853a803e7",
   "execution_count": 18,
   "outputs": []
  },
  {
   "cell_type": "code",
   "source": [
    "n_horizontal, n_vertical, n_frames = 3, 2, 4\n",
    "shape = n_horizontal, n_vertical, n_frames\n",
    "n_values = n_horizontal * n_vertical * n_frames\n",
    "signals_arr = np.arange(start=0, stop=n_values)"
   ],
   "metadata": {
    "collapsed": false,
    "ExecuteTime": {
     "end_time": "2024-03-22T09:08:06.969539Z",
     "start_time": "2024-03-22T09:08:06.966183Z"
    }
   },
   "id": "67cbedf1731e3fb7",
   "execution_count": 3,
   "outputs": []
  },
  {
   "cell_type": "code",
   "source": [
    "signals_arr = signals_arr.reshape(shape)"
   ],
   "metadata": {
    "collapsed": false,
    "ExecuteTime": {
     "end_time": "2024-03-22T09:08:33.191324Z",
     "start_time": "2024-03-22T09:08:33.188282Z"
    }
   },
   "id": "657fc655cd12e200",
   "execution_count": 6,
   "outputs": []
  },
  {
   "cell_type": "code",
   "source": [
    "flattened = signals_arr.reshape((n_horizontal * n_vertical, n_frames), order='C')"
   ],
   "metadata": {
    "collapsed": false,
    "ExecuteTime": {
     "end_time": "2024-03-22T09:16:49.496654Z",
     "start_time": "2024-03-22T09:16:49.490158Z"
    }
   },
   "id": "3548329378ecdfa4",
   "execution_count": 19,
   "outputs": []
  },
  {
   "cell_type": "code",
   "source": [
    "flattened"
   ],
   "metadata": {
    "collapsed": false,
    "ExecuteTime": {
     "end_time": "2024-03-22T09:16:51.998441Z",
     "start_time": "2024-03-22T09:16:51.995873Z"
    }
   },
   "id": "2392ee507dd34eee",
   "execution_count": 20,
   "outputs": []
  },
  {
   "cell_type": "code",
   "source": [
    "class ROI:\n",
    "    width = None\n",
    "    height = None\n",
    "\n",
    "    def __init__(self, x_idx, y_idx):\n",
    "        self.x_idx = x_idx\n",
    "        self.y_idx = y_idx"
   ],
   "metadata": {
    "collapsed": false,
    "ExecuteTime": {
     "end_time": "2024-03-22T11:09:46.484831Z",
     "start_time": "2024-03-22T11:09:46.481199Z"
    }
   },
   "id": "e01e3fe4a8122e71",
   "execution_count": 21,
   "outputs": []
  },
  {
   "cell_type": "code",
   "source": [
    "ROI.width = 5"
   ],
   "metadata": {
    "collapsed": false,
    "ExecuteTime": {
     "end_time": "2024-03-22T11:09:53.498841Z",
     "start_time": "2024-03-22T11:09:53.497232Z"
    }
   },
   "id": "a88e52238826694a",
   "execution_count": 23,
   "outputs": []
  },
  {
   "cell_type": "code",
   "source": [
    "ROI.width"
   ],
   "metadata": {
    "collapsed": false,
    "ExecuteTime": {
     "end_time": "2024-03-22T11:09:55.715403Z",
     "start_time": "2024-03-22T11:09:55.712541Z"
    }
   },
   "id": "71cfe01ef9338e2d",
   "execution_count": 24,
   "outputs": []
  },
  {
   "cell_type": "code",
   "source": [
    "from src.B_generate_rois.generate_rois_from_size import generate_rois_from_size\n",
    "from src.utils.coordinate_system import Dimensions\n",
    "import src.analysis_options\n"
   ],
   "metadata": {
    "collapsed": false,
    "ExecuteTime": {
     "end_time": "2024-03-22T13:48:18.705283Z",
     "start_time": "2024-03-22T13:48:18.658374Z"
    }
   },
   "id": "43a236f17e6863ce",
   "execution_count": 1,
   "outputs": []
  },
  {
   "cell_type": "code",
   "source": [
    "\n",
    "img_dims = Dimensions(2048, 1536)\n",
    "rois = generate_rois_from_size(img_dims)"
   ],
   "metadata": {
    "collapsed": false,
    "ExecuteTime": {
     "end_time": "2024-03-22T13:48:18.852496Z",
     "start_time": "2024-03-22T13:48:18.850396Z"
    }
   },
   "id": "6c99af874895ae7e",
   "execution_count": 2,
   "outputs": []
  },
  {
   "cell_type": "code",
   "source": [
    "str(rois[0])"
   ],
   "metadata": {
    "collapsed": false,
    "ExecuteTime": {
     "end_time": "2024-03-22T13:48:19.037522Z",
     "start_time": "2024-03-22T13:48:19.033164Z"
    }
   },
   "id": "3ebbf16517b46e42",
   "execution_count": 3,
   "outputs": []
  },
  {
   "cell_type": "code",
   "source": [
    "rois[0]"
   ],
   "metadata": {
    "collapsed": false,
    "ExecuteTime": {
     "end_time": "2024-03-22T13:48:19.994177Z",
     "start_time": "2024-03-22T13:48:19.990987Z"
    }
   },
   "id": "2896dfcc00bb73ae",
   "execution_count": 4,
   "outputs": []
  },
  {
   "cell_type": "code",
   "source": [
    "import numpy as np\n",
    "import tifffile\n",
    "\n",
    "# Create a sample 3D array\n",
    "data = np.random.rand(10, 512, 512)  # 10 frames of 512x512 pixels each\n",
    "\n",
    "# Save the array with specified dimensions\n",
    "tifffile.imwrite('output.tif', data, shape=(0, 1, 2))  # Frames, Rows, Columns\n",
    "\n",
    "# Load the array with specified dimensions\n",
    "loaded_data = tifffile.imread('output.tif', shape=(0, 1, 2))  # Frames, Rows, Columns\n"
   ],
   "metadata": {
    "collapsed": false,
    "ExecuteTime": {
     "end_time": "2024-03-22T15:09:53.806984Z",
     "start_time": "2024-03-22T15:09:53.703602Z"
    }
   },
   "id": "dfb3b34fe14cd3de",
   "execution_count": 5,
   "outputs": []
  },
  {
   "cell_type": "code",
   "source": [
    "import numpy as np\n",
    "import matplotlib.pyplot as plt\n",
    "import matplotlib.colors as mcolors\n",
    "\n",
    "# Generate random standard deviations for each grid element\n",
    "grid_size = 10  # Change this to your desired grid size\n",
    "standard_deviations = np.random.randn(grid_size, grid_size)  # Using randn for unbounded values\n",
    "\n",
    "# Map standard deviations to the range [0, 1]\n",
    "min_std_dev = standard_deviations.min()\n",
    "max_std_dev = standard_deviations.max()\n",
    "normalized_std_dev = (standard_deviations - min_std_dev) / (max_std_dev - min_std_dev)\n",
    "\n",
    "# Create grid\n",
    "grid = np.zeros((grid_size, grid_size, 3))  # Initialize grid with zeros for RGB values\n",
    "\n",
    "# Assign brightness based on normalized standard deviation\n",
    "for i in range(grid_size):\n",
    "    for j in range(grid_size):\n",
    "        brightness = normalized_std_dev[i, j]\n",
    "        grid[i, j] = [brightness, brightness, brightness]  # Assign same brightness to R, G, and B channels\n",
    "\n",
    "# Display the grid\n",
    "plt.imshow(grid)\n",
    "plt.axis('off')\n",
    "plt.title('Grid with brightness reflecting standard deviation')\n",
    "\n",
    "# Create a colorbar legend\n",
    "norm = mcolors.Normalize(vmin=standard_deviations.min(), vmax=standard_deviations.max())\n",
    "sm = plt.cm.ScalarMappable(cmap=plt.cm.gray, norm=norm)\n",
    "sm.set_array([])  # dummy empty array\n",
    "cbar = plt.colorbar(sm)\n",
    "cbar.set_label('Standard Deviation')\n",
    "\n",
    "plt.show()\n",
    "\n"
   ],
   "metadata": {
    "collapsed": false,
    "ExecuteTime": {
     "end_time": "2024-04-10T08:16:31.746485Z",
     "start_time": "2024-04-10T08:16:31.089761Z"
    }
   },
   "id": "610f264fcb85c6ab",
   "execution_count": 5,
   "outputs": []
  },
  {
   "metadata": {
    "ExecuteTime": {
     "end_time": "2024-04-10T08:00:23.751566Z",
     "start_time": "2024-04-10T08:00:23.748203Z"
    }
   },
   "cell_type": "code",
   "source": "grid",
   "id": "6585c087e6c2096",
   "execution_count": 2,
   "outputs": []
  },
  {
   "metadata": {
    "ExecuteTime": {
     "end_time": "2024-04-10T08:00:42.978783Z",
     "start_time": "2024-04-10T08:00:42.976412Z"
    }
   },
   "cell_type": "code",
   "source": "grid.shape",
   "id": "4d42b9bbc3bbe74f",
   "execution_count": 4,
   "outputs": []
  },
  {
   "metadata": {
    "ExecuteTime": {
     "end_time": "2024-04-10T08:30:28.422258Z",
     "start_time": "2024-04-10T08:30:28.348398Z"
    }
   },
   "cell_type": "code",
   "source": [
    "fig, ax = plt.subplots()\n",
    "cmap = 'RdBu_r'\n",
    "\n",
    "pcm = ax.pcolormesh(np.random.random((20, 20)), cmap=cmap)\n",
    "\n",
    "# fig.colorbar(pcm, ax=ax, shrink=0.6)\n",
    "fig.colorbar(pcm)"
   ],
   "id": "3fe1b5909ddbd930",
   "execution_count": 9,
   "outputs": []
  },
  {
   "metadata": {
    "ExecuteTime": {
     "end_time": "2024-04-10T08:30:46.903449Z",
     "start_time": "2024-04-10T08:30:46.899996Z"
    }
   },
   "cell_type": "code",
   "source": "np.random.random((20, 20))",
   "id": "bd1427dd071306a",
   "execution_count": 10,
   "outputs": []
  },
  {
   "metadata": {
    "ExecuteTime": {
     "end_time": "2024-04-10T08:39:37.399990Z",
     "start_time": "2024-04-10T08:39:37.394287Z"
    }
   },
   "cell_type": "code",
   "source": "plt.colormaps()",
   "id": "ca8d305553a2116e",
   "execution_count": 12,
   "outputs": []
  },
  {
   "metadata": {
    "ExecuteTime": {
     "end_time": "2024-04-10T08:40:04.703286Z",
     "start_time": "2024-04-10T08:40:04.701141Z"
    }
   },
   "cell_type": "code",
   "source": "cmap = plt.colormaps['viridis']",
   "id": "1eaf57708cc38616",
   "execution_count": 13,
   "outputs": []
  },
  {
   "metadata": {
    "ExecuteTime": {
     "end_time": "2024-04-10T08:43:48.542904Z",
     "start_time": "2024-04-10T08:43:48.540400Z"
    }
   },
   "cell_type": "code",
   "source": "cmap(0)",
   "id": "2dcbe65ce970dbc6",
   "execution_count": 21,
   "outputs": []
  },
  {
   "metadata": {
    "ExecuteTime": {
     "end_time": "2024-04-10T09:06:18.620422Z",
     "start_time": "2024-04-10T09:06:18.616014Z"
    }
   },
   "cell_type": "code",
   "source": [
    "width, height, n_frames = 2, 3, 4\n",
    "arr = np.random.random(size=(width, height, n_frames))"
   ],
   "id": "c0f2b9fe66c7b9d4",
   "execution_count": 32,
   "outputs": []
  },
  {
   "metadata": {
    "ExecuteTime": {
     "end_time": "2024-04-10T09:06:18.942828Z",
     "start_time": "2024-04-10T09:06:18.938970Z"
    }
   },
   "cell_type": "code",
   "source": "arr",
   "id": "c66949003d33f85e",
   "execution_count": 33,
   "outputs": []
  },
  {
   "metadata": {
    "ExecuteTime": {
     "end_time": "2024-04-10T09:06:24.754195Z",
     "start_time": "2024-04-10T09:06:24.751807Z"
    }
   },
   "cell_type": "code",
   "source": "arr.std(axis=2)",
   "id": "8a69702159a910bb",
   "execution_count": 35,
   "outputs": []
  },
  {
   "metadata": {
    "ExecuteTime": {
     "end_time": "2024-04-29T09:58:18.469660Z",
     "start_time": "2024-04-29T09:58:18.465111Z"
    }
   },
   "cell_type": "code",
   "source": [
    "import pandas as pd\n",
    "from src.utils.ROI import ROI\n",
    "import numpy as np\n",
    "\n",
    "roi = ROI(0, 0)\n",
    "compare_to = [ROI(1, 0), ROI(1, 1), ROI(1, 2)]\n",
    "dists = np.array([1, 2, 3])\n",
    "ser = pd.Series(index=compare_to, name=roi)\n",
    "ser"
   ],
   "id": "9371e210e1b5fe30",
   "execution_count": 7,
   "outputs": []
  },
  {
   "metadata": {
    "ExecuteTime": {
     "end_time": "2024-04-29T09:58:18.766896Z",
     "start_time": "2024-04-29T09:58:18.764223Z"
    }
   },
   "cell_type": "code",
   "source": [
    "for i in range(3):\n",
    "    ser[compare_to[i]] = dists[i]"
   ],
   "id": "fd640b1159557dc9",
   "execution_count": 8,
   "outputs": []
  },
  {
   "metadata": {
    "ExecuteTime": {
     "end_time": "2024-04-29T09:58:19.062334Z",
     "start_time": "2024-04-29T09:58:19.058605Z"
    }
   },
   "cell_type": "code",
   "source": "ser",
   "id": "f144c360dc9d52ca",
   "execution_count": 9,
   "outputs": []
  },
  {
   "metadata": {
    "ExecuteTime": {
     "end_time": "2024-04-29T10:02:08.940042Z",
     "start_time": "2024-04-29T10:02:08.931136Z"
    }
   },
   "cell_type": "code",
   "source": [
    "df = pd.DataFrame()\n",
    "# for i in range(3):\n",
    "#     df.loc[roi, compare_to[i]] = dists[i]\n",
    "roi1 = ser.name\n",
    "for roi2, dist in ser.items():\n",
    "    df.loc[roi1, roi2] = dist\n",
    "    df.loc[roi2, roi1] = dist\n",
    "\n",
    "df"
   ],
   "id": "ec03c2aa89ef1946",
   "execution_count": 17,
   "outputs": []
  },
  {
   "metadata": {
    "ExecuteTime": {
     "end_time": "2024-05-13T08:41:44.953433Z",
     "start_time": "2024-05-13T08:41:44.949785Z"
    }
   },
   "cell_type": "code",
   "source": [
    "import pandas as pd\n",
    "\n",
    "# Sample DataFrame\n",
    "data = {\n",
    "    'A': [1, -1, 2, 3],\n",
    "    'B': [4, -10, 5, 6],\n",
    "    'C': [7, 8, 9, -4]\n",
    "}\n",
    "\n",
    "df = pd.DataFrame(data)\n",
    "\n",
    "# Get the column label of the overall maximum value\n",
    "max_col_label = df.idxmax().iloc[0]\n",
    "\n",
    "print(\"Column label of overall maximum value:\", max_col_label)\n"
   ],
   "id": "85de836abb4385eb",
   "execution_count": 7,
   "outputs": []
  },
  {
   "metadata": {
    "ExecuteTime": {
     "end_time": "2024-05-13T08:41:45.615795Z",
     "start_time": "2024-05-13T08:41:45.610892Z"
    }
   },
   "cell_type": "code",
   "source": "df",
   "id": "2eeea4aa804931e4",
   "execution_count": 8,
   "outputs": []
  },
  {
   "metadata": {
    "ExecuteTime": {
     "end_time": "2024-05-13T08:42:56.483958Z",
     "start_time": "2024-05-13T08:42:56.481125Z"
    }
   },
   "cell_type": "code",
   "source": "abs_df = df.abs()",
   "id": "c298d257fc73fe5b",
   "execution_count": 11,
   "outputs": []
  },
  {
   "metadata": {
    "ExecuteTime": {
     "end_time": "2024-05-13T08:42:57.064085Z",
     "start_time": "2024-05-13T08:42:57.060697Z"
    }
   },
   "cell_type": "code",
   "source": "abs_df.idxmax()",
   "id": "c6decdb6d9b06eb3",
   "execution_count": 12,
   "outputs": []
  },
  {
   "metadata": {
    "ExecuteTime": {
     "end_time": "2024-05-13T08:43:06.829930Z",
     "start_time": "2024-05-13T08:43:06.826585Z"
    }
   },
   "cell_type": "code",
   "source": "abs_df.max()",
   "id": "571dfc933acb5ae1",
   "execution_count": 13,
   "outputs": []
  },
  {
   "metadata": {
    "ExecuteTime": {
     "end_time": "2024-05-13T08:43:13.458840Z",
     "start_time": "2024-05-13T08:43:13.455820Z"
    }
   },
   "cell_type": "code",
   "source": "abs_df.max().idxmax()",
   "id": "b5a49188b66f1ea8",
   "execution_count": 14,
   "outputs": []
  },
  {
   "metadata": {
    "ExecuteTime": {
     "end_time": "2024-05-13T08:43:34.317955Z",
     "start_time": "2024-05-13T08:43:34.315243Z"
    }
   },
   "cell_type": "code",
   "source": [
    "abs_df = df.abs()\n",
    "max_per_column = abs_df.max()\n",
    "max_col_idx = max_per_column.idxmax()\n",
    "max_signal = df[max_col_idx]"
   ],
   "id": "b46a8a9b24c83cb5",
   "execution_count": 15,
   "outputs": []
  },
  {
   "metadata": {
    "ExecuteTime": {
     "end_time": "2024-05-13T08:43:38.483155Z",
     "start_time": "2024-05-13T08:43:38.480456Z"
    }
   },
   "cell_type": "code",
   "source": "max_signal",
   "id": "6ef5ff8fc26dbc8d",
   "execution_count": 16,
   "outputs": []
  },
  {
   "metadata": {
    "ExecuteTime": {
     "end_time": "2024-05-13T08:43:48.459198Z",
     "start_time": "2024-05-13T08:43:48.456856Z"
    }
   },
   "cell_type": "code",
   "source": "max_col_idx",
   "id": "95e2161f4aca43b3",
   "execution_count": 17,
   "outputs": []
  }
 ],
 "metadata": {
  "kernelspec": {
   "display_name": "Python 3",
   "language": "python",
   "name": "python3"
  },
  "language_info": {
   "codemirror_mode": {
    "name": "ipython",
    "version": 2
   },
   "file_extension": ".py",
   "mimetype": "text/x-python",
   "name": "python",
   "nbconvert_exporter": "python",
   "pygments_lexer": "ipython2",
   "version": "2.7.6"
  }
 },
 "nbformat": 4,
 "nbformat_minor": 5
}
