{
 "cells": [
  {
   "cell_type": "code",
   "execution_count": 2,
   "id": "initial_id",
   "metadata": {
    "collapsed": true,
    "ExecuteTime": {
     "end_time": "2024-03-22T09:08:05.812715Z",
     "start_time": "2024-03-22T09:08:05.563402Z"
    }
   },
   "outputs": [],
   "source": [
    "import numpy as np\n",
    "import pandas as pd"
   ]
  },
  {
   "cell_type": "code",
   "outputs": [
    {
     "name": "stdout",
     "output_type": "stream",
     "text": [
      "r1_lin:  149\n"
     ]
    }
   ],
   "source": [
    "n_cols = 16\n",
    "n_rows = 12\n",
    "grid_shape = (n_cols, n_rows)\n",
    "\n",
    "r1_tup = (12, 5)\n",
    "r1_lin = n_rows * r1_tup[0] + r1_tup[1]\n",
    "print('r1_lin: ', r1_lin)\n",
    "r1_tup = (5, 12)\n",
    "r2_lin = 17\n",
    "\n"
   ],
   "metadata": {
    "collapsed": false,
    "ExecuteTime": {
     "end_time": "2024-03-21T14:11:25.154374Z",
     "start_time": "2024-03-21T14:11:25.148664Z"
    }
   },
   "id": "77fd950fc8ee868c",
   "execution_count": 16
  },
  {
   "cell_type": "code",
   "outputs": [
    {
     "data": {
      "text/plain": "(12, 5)"
     },
     "execution_count": 18,
     "metadata": {},
     "output_type": "execute_result"
    }
   ],
   "source": [
    "np.unravel_index(r1_lin, grid_shape, order='C')"
   ],
   "metadata": {
    "collapsed": false,
    "ExecuteTime": {
     "end_time": "2024-03-21T14:11:31.739854Z",
     "start_time": "2024-03-21T14:11:31.735462Z"
    }
   },
   "id": "752fcdb853a803e7",
   "execution_count": 18
  },
  {
   "cell_type": "code",
   "outputs": [],
   "source": [
    "n_horizontal, n_vertical, n_frames = 3, 2, 4\n",
    "shape = n_horizontal, n_vertical, n_frames\n",
    "n_values = n_horizontal * n_vertical * n_frames\n",
    "signals_arr = np.arange(start=0, stop=n_values)"
   ],
   "metadata": {
    "collapsed": false,
    "ExecuteTime": {
     "end_time": "2024-03-22T09:08:06.969539Z",
     "start_time": "2024-03-22T09:08:06.966183Z"
    }
   },
   "id": "67cbedf1731e3fb7",
   "execution_count": 3
  },
  {
   "cell_type": "code",
   "outputs": [],
   "source": [
    "signals_arr = signals_arr.reshape(shape)"
   ],
   "metadata": {
    "collapsed": false,
    "ExecuteTime": {
     "end_time": "2024-03-22T09:08:33.191324Z",
     "start_time": "2024-03-22T09:08:33.188282Z"
    }
   },
   "id": "657fc655cd12e200",
   "execution_count": 6
  },
  {
   "cell_type": "code",
   "outputs": [],
   "source": [
    "flattened = signals_arr.reshape((n_horizontal * n_vertical, n_frames), order='C')"
   ],
   "metadata": {
    "collapsed": false,
    "ExecuteTime": {
     "end_time": "2024-03-22T09:16:49.496654Z",
     "start_time": "2024-03-22T09:16:49.490158Z"
    }
   },
   "id": "3548329378ecdfa4",
   "execution_count": 19
  },
  {
   "cell_type": "code",
   "outputs": [
    {
     "data": {
      "text/plain": "array([[ 0,  1,  2,  3],\n       [ 4,  5,  6,  7],\n       [ 8,  9, 10, 11],\n       [12, 13, 14, 15],\n       [16, 17, 18, 19],\n       [20, 21, 22, 23]])"
     },
     "execution_count": 20,
     "metadata": {},
     "output_type": "execute_result"
    }
   ],
   "source": [
    "flattened"
   ],
   "metadata": {
    "collapsed": false,
    "ExecuteTime": {
     "end_time": "2024-03-22T09:16:51.998441Z",
     "start_time": "2024-03-22T09:16:51.995873Z"
    }
   },
   "id": "2392ee507dd34eee",
   "execution_count": 20
  },
  {
   "cell_type": "code",
   "outputs": [],
   "source": [
    "class ROI:\n",
    "    width = None\n",
    "    height = None\n",
    "    \n",
    "    def __init__(self, x_idx, y_idx):\n",
    "        self.x_idx = x_idx\n",
    "        self.y_idx = y_idx"
   ],
   "metadata": {
    "collapsed": false,
    "ExecuteTime": {
     "end_time": "2024-03-22T11:09:46.484831Z",
     "start_time": "2024-03-22T11:09:46.481199Z"
    }
   },
   "id": "e01e3fe4a8122e71",
   "execution_count": 21
  },
  {
   "cell_type": "code",
   "outputs": [],
   "source": [
    "ROI.width = 5"
   ],
   "metadata": {
    "collapsed": false,
    "ExecuteTime": {
     "end_time": "2024-03-22T11:09:53.498841Z",
     "start_time": "2024-03-22T11:09:53.497232Z"
    }
   },
   "id": "a88e52238826694a",
   "execution_count": 23
  },
  {
   "cell_type": "code",
   "outputs": [
    {
     "data": {
      "text/plain": "5"
     },
     "execution_count": 24,
     "metadata": {},
     "output_type": "execute_result"
    }
   ],
   "source": [
    "ROI.width"
   ],
   "metadata": {
    "collapsed": false,
    "ExecuteTime": {
     "end_time": "2024-03-22T11:09:55.715403Z",
     "start_time": "2024-03-22T11:09:55.712541Z"
    }
   },
   "id": "71cfe01ef9338e2d",
   "execution_count": 24
  },
  {
   "cell_type": "code",
   "outputs": [],
   "source": [
    "from src.B_generate_rois.generate_rois_from_size import generate_rois_from_size\n",
    "from src.utils.coordinate_system import Dimensions\n",
    "import src.analysis_options  \n"
   ],
   "metadata": {
    "collapsed": false,
    "ExecuteTime": {
     "end_time": "2024-03-22T13:48:18.705283Z",
     "start_time": "2024-03-22T13:48:18.658374Z"
    }
   },
   "id": "43a236f17e6863ce",
   "execution_count": 1
  },
  {
   "cell_type": "code",
   "outputs": [],
   "source": [
    "\n",
    "img_dims = Dimensions(2048, 1536)\n",
    "rois = generate_rois_from_size(img_dims)"
   ],
   "metadata": {
    "collapsed": false,
    "ExecuteTime": {
     "end_time": "2024-03-22T13:48:18.852496Z",
     "start_time": "2024-03-22T13:48:18.850396Z"
    }
   },
   "id": "6c99af874895ae7e",
   "execution_count": 2
  },
  {
   "cell_type": "code",
   "outputs": [
    {
     "data": {
      "text/plain": "'(0; 0)'"
     },
     "execution_count": 3,
     "metadata": {},
     "output_type": "execute_result"
    }
   ],
   "source": [
    "str(rois[0])"
   ],
   "metadata": {
    "collapsed": false,
    "ExecuteTime": {
     "end_time": "2024-03-22T13:48:19.037522Z",
     "start_time": "2024-03-22T13:48:19.033164Z"
    }
   },
   "id": "3ebbf16517b46e42",
   "execution_count": 3
  },
  {
   "cell_type": "code",
   "outputs": [
    {
     "data": {
      "text/plain": "<ROI(x:0, y:0) at 0x107041a50>"
     },
     "execution_count": 4,
     "metadata": {},
     "output_type": "execute_result"
    }
   ],
   "source": [
    "rois[0]"
   ],
   "metadata": {
    "collapsed": false,
    "ExecuteTime": {
     "end_time": "2024-03-22T13:48:19.994177Z",
     "start_time": "2024-03-22T13:48:19.990987Z"
    }
   },
   "id": "2896dfcc00bb73ae",
   "execution_count": 4
  },
  {
   "cell_type": "code",
   "outputs": [
    {
     "ename": "ValueError",
     "evalue": "shape argument (0, 1, 2) does not match data shape (10, 512, 512)",
     "output_type": "error",
     "traceback": [
      "\u001B[0;31m---------------------------------------------------------------------------\u001B[0m",
      "\u001B[0;31mValueError\u001B[0m                                Traceback (most recent call last)",
      "\u001B[0;32m/var/folders/_2/p5k66wv51kvdr8c144rxy2j80000gn/T/ipykernel_45009/3957828337.py\u001B[0m in \u001B[0;36m?\u001B[0;34m()\u001B[0m\n\u001B[1;32m      4\u001B[0m \u001B[0;31m# Create a sample 3D array\u001B[0m\u001B[0;34m\u001B[0m\u001B[0;34m\u001B[0m\u001B[0m\n\u001B[1;32m      5\u001B[0m \u001B[0mdata\u001B[0m \u001B[0;34m=\u001B[0m \u001B[0mnp\u001B[0m\u001B[0;34m.\u001B[0m\u001B[0mrandom\u001B[0m\u001B[0;34m.\u001B[0m\u001B[0mrand\u001B[0m\u001B[0;34m(\u001B[0m\u001B[0;36m10\u001B[0m\u001B[0;34m,\u001B[0m \u001B[0;36m512\u001B[0m\u001B[0;34m,\u001B[0m \u001B[0;36m512\u001B[0m\u001B[0;34m)\u001B[0m  \u001B[0;31m# 10 frames of 512x512 pixels each\u001B[0m\u001B[0;34m\u001B[0m\u001B[0;34m\u001B[0m\u001B[0m\n\u001B[1;32m      6\u001B[0m \u001B[0;34m\u001B[0m\u001B[0m\n\u001B[1;32m      7\u001B[0m \u001B[0;31m# Save the array with specified dimensions\u001B[0m\u001B[0;34m\u001B[0m\u001B[0;34m\u001B[0m\u001B[0m\n\u001B[0;32m----> 8\u001B[0;31m \u001B[0mtifffile\u001B[0m\u001B[0;34m.\u001B[0m\u001B[0mimwrite\u001B[0m\u001B[0;34m(\u001B[0m\u001B[0;34m'output.tif'\u001B[0m\u001B[0;34m,\u001B[0m \u001B[0mdata\u001B[0m\u001B[0;34m,\u001B[0m \u001B[0mshape\u001B[0m\u001B[0;34m=\u001B[0m\u001B[0;34m(\u001B[0m\u001B[0;36m0\u001B[0m\u001B[0;34m,\u001B[0m \u001B[0;36m1\u001B[0m\u001B[0;34m,\u001B[0m \u001B[0;36m2\u001B[0m\u001B[0;34m)\u001B[0m\u001B[0;34m)\u001B[0m  \u001B[0;31m# Frames, Rows, Columns\u001B[0m\u001B[0;34m\u001B[0m\u001B[0;34m\u001B[0m\u001B[0m\n\u001B[0m\u001B[1;32m      9\u001B[0m \u001B[0;34m\u001B[0m\u001B[0m\n\u001B[1;32m     10\u001B[0m \u001B[0;31m# Load the array with specified dimensions\u001B[0m\u001B[0;34m\u001B[0m\u001B[0;34m\u001B[0m\u001B[0m\n\u001B[1;32m     11\u001B[0m \u001B[0mloaded_data\u001B[0m \u001B[0;34m=\u001B[0m \u001B[0mtifffile\u001B[0m\u001B[0;34m.\u001B[0m\u001B[0mimread\u001B[0m\u001B[0;34m(\u001B[0m\u001B[0;34m'output.tif'\u001B[0m\u001B[0;34m,\u001B[0m \u001B[0mshape\u001B[0m\u001B[0;34m=\u001B[0m\u001B[0;34m(\u001B[0m\u001B[0;36m0\u001B[0m\u001B[0;34m,\u001B[0m \u001B[0;36m1\u001B[0m\u001B[0;34m,\u001B[0m \u001B[0;36m2\u001B[0m\u001B[0;34m)\u001B[0m\u001B[0;34m)\u001B[0m  \u001B[0;31m# Frames, Rows, Columns\u001B[0m\u001B[0;34m\u001B[0m\u001B[0;34m\u001B[0m\u001B[0m\n",
      "\u001B[0;32m/opt/homebrew/anaconda3/envs/glioblastoma/lib/python3.11/site-packages/tifffile/tifffile.py\u001B[0m in \u001B[0;36m?\u001B[0;34m(file, data, mode, bigtiff, byteorder, imagej, ome, shaped, append, shape, dtype, photometric, planarconfig, extrasamples, volumetric, tile, rowsperstrip, bitspersample, compression, compressionargs, predictor, subsampling, jpegtables, colormap, description, datetime, resolution, resolutionunit, subfiletype, software, metadata, extratags, contiguous, truncate, align, maxworkers, buffersize, returnoffset)\u001B[0m\n\u001B[1;32m   1445\u001B[0m         \u001B[0mimagej\u001B[0m\u001B[0;34m=\u001B[0m\u001B[0mimagej\u001B[0m\u001B[0;34m,\u001B[0m\u001B[0;34m\u001B[0m\u001B[0;34m\u001B[0m\u001B[0m\n\u001B[1;32m   1446\u001B[0m         \u001B[0mome\u001B[0m\u001B[0;34m=\u001B[0m\u001B[0mome\u001B[0m\u001B[0;34m,\u001B[0m\u001B[0;34m\u001B[0m\u001B[0;34m\u001B[0m\u001B[0m\n\u001B[1;32m   1447\u001B[0m         \u001B[0mshaped\u001B[0m\u001B[0;34m=\u001B[0m\u001B[0mshaped\u001B[0m\u001B[0;34m,\u001B[0m\u001B[0;34m\u001B[0m\u001B[0;34m\u001B[0m\u001B[0m\n\u001B[1;32m   1448\u001B[0m     ) as tif:\n\u001B[0;32m-> 1449\u001B[0;31m         result = tif.write(\n\u001B[0m\u001B[1;32m   1450\u001B[0m             \u001B[0mdata\u001B[0m\u001B[0;34m,\u001B[0m\u001B[0;34m\u001B[0m\u001B[0;34m\u001B[0m\u001B[0m\n\u001B[1;32m   1451\u001B[0m             \u001B[0mshape\u001B[0m\u001B[0;34m=\u001B[0m\u001B[0mshape\u001B[0m\u001B[0;34m,\u001B[0m\u001B[0;34m\u001B[0m\u001B[0;34m\u001B[0m\u001B[0m\n\u001B[1;32m   1452\u001B[0m             \u001B[0mdtype\u001B[0m\u001B[0;34m=\u001B[0m\u001B[0mdtype\u001B[0m\u001B[0;34m,\u001B[0m\u001B[0;34m\u001B[0m\u001B[0;34m\u001B[0m\u001B[0m\n",
      "\u001B[0;32m/opt/homebrew/anaconda3/envs/glioblastoma/lib/python3.11/site-packages/tifffile/tifffile.py\u001B[0m in \u001B[0;36m?\u001B[0;34m(self, data, shape, dtype, photometric, planarconfig, extrasamples, volumetric, tile, rowsperstrip, bitspersample, compression, compressionargs, predictor, subsampling, jpegtables, colormap, description, datetime, resolution, resolutionunit, subfiletype, software, subifds, metadata, extratags, contiguous, truncate, align, maxworkers, buffersize, returnoffset)\u001B[0m\n\u001B[1;32m   2182\u001B[0m                     \u001B[0;34mf'dtype argument {dtype!r} does not match '\u001B[0m\u001B[0;34m\u001B[0m\u001B[0;34m\u001B[0m\u001B[0m\n\u001B[1;32m   2183\u001B[0m                     \u001B[0;34mf'data dtype {datadtype}'\u001B[0m\u001B[0;34m\u001B[0m\u001B[0;34m\u001B[0m\u001B[0m\n\u001B[1;32m   2184\u001B[0m                 )\n\u001B[1;32m   2185\u001B[0m             \u001B[0;32mif\u001B[0m \u001B[0mshape\u001B[0m \u001B[0;32mis\u001B[0m \u001B[0;32mnot\u001B[0m \u001B[0;32mNone\u001B[0m \u001B[0;32mand\u001B[0m \u001B[0mshape\u001B[0m \u001B[0;34m!=\u001B[0m \u001B[0mdataarray\u001B[0m\u001B[0;34m.\u001B[0m\u001B[0mshape\u001B[0m\u001B[0;34m:\u001B[0m\u001B[0;34m\u001B[0m\u001B[0;34m\u001B[0m\u001B[0m\n\u001B[0;32m-> 2186\u001B[0;31m                 raise ValueError(\n\u001B[0m\u001B[1;32m   2187\u001B[0m                     \u001B[0;34mf'shape argument {shape!r} does not match '\u001B[0m\u001B[0;34m\u001B[0m\u001B[0;34m\u001B[0m\u001B[0m\n\u001B[1;32m   2188\u001B[0m                     \u001B[0;34mf'data shape {dataarray.shape}'\u001B[0m\u001B[0;34m\u001B[0m\u001B[0;34m\u001B[0m\u001B[0m\n\u001B[1;32m   2189\u001B[0m                 )\n",
      "\u001B[0;31mValueError\u001B[0m: shape argument (0, 1, 2) does not match data shape (10, 512, 512)"
     ]
    }
   ],
   "source": [
    "import numpy as np\n",
    "import tifffile\n",
    "\n",
    "# Create a sample 3D array\n",
    "data = np.random.rand(10, 512, 512)  # 10 frames of 512x512 pixels each\n",
    "\n",
    "# Save the array with specified dimensions\n",
    "tifffile.imwrite('output.tif', data, shape=(0, 1, 2))  # Frames, Rows, Columns\n",
    "\n",
    "# Load the array with specified dimensions\n",
    "loaded_data = tifffile.imread('output.tif', shape=(0, 1, 2))  # Frames, Rows, Columns\n"
   ],
   "metadata": {
    "collapsed": false,
    "ExecuteTime": {
     "end_time": "2024-03-22T15:09:53.806984Z",
     "start_time": "2024-03-22T15:09:53.703602Z"
    }
   },
   "id": "dfb3b34fe14cd3de",
   "execution_count": 5
  },
  {
   "cell_type": "code",
   "source": [
    "import numpy as np\n",
    "import matplotlib.pyplot as plt\n",
    "import matplotlib.colors as mcolors\n",
    "\n",
    "# Generate random standard deviations for each grid element\n",
    "grid_size = 10  # Change this to your desired grid size\n",
    "standard_deviations = np.random.randn(grid_size, grid_size)  # Using randn for unbounded values\n",
    "\n",
    "# Map standard deviations to the range [0, 1]\n",
    "min_std_dev = standard_deviations.min()\n",
    "max_std_dev = standard_deviations.max()\n",
    "normalized_std_dev = (standard_deviations - min_std_dev) / (max_std_dev - min_std_dev)\n",
    "\n",
    "# Create grid\n",
    "grid = np.zeros((grid_size, grid_size, 3))  # Initialize grid with zeros for RGB values\n",
    "\n",
    "# Assign brightness based on normalized standard deviation\n",
    "for i in range(grid_size):\n",
    "    for j in range(grid_size):\n",
    "        brightness = normalized_std_dev[i, j]\n",
    "        grid[i, j] = [brightness, brightness, brightness]  # Assign same brightness to R, G, and B channels\n",
    "\n",
    "# Display the grid\n",
    "plt.imshow(grid)\n",
    "plt.axis('off')\n",
    "plt.title('Grid with brightness reflecting standard deviation')\n",
    "\n",
    "# Create a colorbar legend\n",
    "norm = mcolors.Normalize(vmin=standard_deviations.min(), vmax=standard_deviations.max())\n",
    "sm = plt.cm.ScalarMappable(cmap=plt.cm.gray, norm=norm)\n",
    "sm.set_array([])  # dummy empty array\n",
    "cbar = plt.colorbar(sm)\n",
    "cbar.set_label('Standard Deviation')\n",
    "\n",
    "plt.show()\n",
    "\n"
   ],
   "metadata": {
    "collapsed": false,
    "ExecuteTime": {
     "end_time": "2024-04-10T08:16:31.746485Z",
     "start_time": "2024-04-10T08:16:31.089761Z"
    }
   },
   "id": "610f264fcb85c6ab",
   "outputs": [
    {
     "ename": "ValueError",
     "evalue": "Unable to determine Axes to steal space for Colorbar. Either provide the *cax* argument to use as the Axes for the Colorbar, provide the *ax* argument to steal space from it, or add *mappable* to an Axes.",
     "output_type": "error",
     "traceback": [
      "\u001B[0;31m---------------------------------------------------------------------------\u001B[0m",
      "\u001B[0;31mValueError\u001B[0m                                Traceback (most recent call last)",
      "Cell \u001B[0;32mIn[5], line 32\u001B[0m\n\u001B[1;32m     30\u001B[0m sm \u001B[38;5;241m=\u001B[39m plt\u001B[38;5;241m.\u001B[39mcm\u001B[38;5;241m.\u001B[39mScalarMappable(cmap\u001B[38;5;241m=\u001B[39mplt\u001B[38;5;241m.\u001B[39mcm\u001B[38;5;241m.\u001B[39mgray, norm\u001B[38;5;241m=\u001B[39mnorm)\n\u001B[1;32m     31\u001B[0m sm\u001B[38;5;241m.\u001B[39mset_array([])  \u001B[38;5;66;03m# dummy empty array\u001B[39;00m\n\u001B[0;32m---> 32\u001B[0m cbar \u001B[38;5;241m=\u001B[39m plt\u001B[38;5;241m.\u001B[39mcolorbar(sm)\n\u001B[1;32m     33\u001B[0m cbar\u001B[38;5;241m.\u001B[39mset_label(\u001B[38;5;124m'\u001B[39m\u001B[38;5;124mStandard Deviation\u001B[39m\u001B[38;5;124m'\u001B[39m)\n\u001B[1;32m     35\u001B[0m plt\u001B[38;5;241m.\u001B[39mshow()\n",
      "File \u001B[0;32m/opt/homebrew/anaconda3/envs/glioblastoma/lib/python3.11/site-packages/matplotlib/pyplot.py:2341\u001B[0m, in \u001B[0;36mcolorbar\u001B[0;34m(mappable, cax, ax, **kwargs)\u001B[0m\n\u001B[1;32m   2336\u001B[0m     \u001B[38;5;28;01mif\u001B[39;00m mappable \u001B[38;5;129;01mis\u001B[39;00m \u001B[38;5;28;01mNone\u001B[39;00m:\n\u001B[1;32m   2337\u001B[0m         \u001B[38;5;28;01mraise\u001B[39;00m \u001B[38;5;167;01mRuntimeError\u001B[39;00m(\u001B[38;5;124m'\u001B[39m\u001B[38;5;124mNo mappable was found to use for colorbar \u001B[39m\u001B[38;5;124m'\u001B[39m\n\u001B[1;32m   2338\u001B[0m                            \u001B[38;5;124m'\u001B[39m\u001B[38;5;124mcreation. First define a mappable such as \u001B[39m\u001B[38;5;124m'\u001B[39m\n\u001B[1;32m   2339\u001B[0m                            \u001B[38;5;124m'\u001B[39m\u001B[38;5;124man image (with imshow) or a contour set (\u001B[39m\u001B[38;5;124m'\u001B[39m\n\u001B[1;32m   2340\u001B[0m                            \u001B[38;5;124m'\u001B[39m\u001B[38;5;124mwith contourf).\u001B[39m\u001B[38;5;124m'\u001B[39m)\n\u001B[0;32m-> 2341\u001B[0m ret \u001B[38;5;241m=\u001B[39m gcf()\u001B[38;5;241m.\u001B[39mcolorbar(mappable, cax\u001B[38;5;241m=\u001B[39mcax, ax\u001B[38;5;241m=\u001B[39max, \u001B[38;5;241m*\u001B[39m\u001B[38;5;241m*\u001B[39mkwargs)\n\u001B[1;32m   2342\u001B[0m \u001B[38;5;28;01mreturn\u001B[39;00m ret\n",
      "File \u001B[0;32m/opt/homebrew/anaconda3/envs/glioblastoma/lib/python3.11/site-packages/matplotlib/figure.py:1285\u001B[0m, in \u001B[0;36mFigureBase.colorbar\u001B[0;34m(self, mappable, cax, ax, use_gridspec, **kwargs)\u001B[0m\n\u001B[1;32m   1283\u001B[0m \u001B[38;5;28;01mif\u001B[39;00m cax \u001B[38;5;129;01mis\u001B[39;00m \u001B[38;5;28;01mNone\u001B[39;00m:\n\u001B[1;32m   1284\u001B[0m     \u001B[38;5;28;01mif\u001B[39;00m ax \u001B[38;5;129;01mis\u001B[39;00m \u001B[38;5;28;01mNone\u001B[39;00m:\n\u001B[0;32m-> 1285\u001B[0m         \u001B[38;5;28;01mraise\u001B[39;00m \u001B[38;5;167;01mValueError\u001B[39;00m(\n\u001B[1;32m   1286\u001B[0m             \u001B[38;5;124m'\u001B[39m\u001B[38;5;124mUnable to determine Axes to steal space for Colorbar. \u001B[39m\u001B[38;5;124m'\u001B[39m\n\u001B[1;32m   1287\u001B[0m             \u001B[38;5;124m'\u001B[39m\u001B[38;5;124mEither provide the *cax* argument to use as the Axes for \u001B[39m\u001B[38;5;124m'\u001B[39m\n\u001B[1;32m   1288\u001B[0m             \u001B[38;5;124m'\u001B[39m\u001B[38;5;124mthe Colorbar, provide the *ax* argument to steal space \u001B[39m\u001B[38;5;124m'\u001B[39m\n\u001B[1;32m   1289\u001B[0m             \u001B[38;5;124m'\u001B[39m\u001B[38;5;124mfrom it, or add *mappable* to an Axes.\u001B[39m\u001B[38;5;124m'\u001B[39m)\n\u001B[1;32m   1290\u001B[0m     fig \u001B[38;5;241m=\u001B[39m (  \u001B[38;5;66;03m# Figure of first axes; logic copied from make_axes.\u001B[39;00m\n\u001B[1;32m   1291\u001B[0m         [\u001B[38;5;241m*\u001B[39max\u001B[38;5;241m.\u001B[39mflat] \u001B[38;5;28;01mif\u001B[39;00m \u001B[38;5;28misinstance\u001B[39m(ax, np\u001B[38;5;241m.\u001B[39mndarray)\n\u001B[1;32m   1292\u001B[0m         \u001B[38;5;28;01melse\u001B[39;00m [\u001B[38;5;241m*\u001B[39max] \u001B[38;5;28;01mif\u001B[39;00m np\u001B[38;5;241m.\u001B[39miterable(ax)\n\u001B[1;32m   1293\u001B[0m         \u001B[38;5;28;01melse\u001B[39;00m [ax])[\u001B[38;5;241m0\u001B[39m]\u001B[38;5;241m.\u001B[39mfigure\n\u001B[1;32m   1294\u001B[0m     current_ax \u001B[38;5;241m=\u001B[39m fig\u001B[38;5;241m.\u001B[39mgca()\n",
      "\u001B[0;31mValueError\u001B[0m: Unable to determine Axes to steal space for Colorbar. Either provide the *cax* argument to use as the Axes for the Colorbar, provide the *ax* argument to steal space from it, or add *mappable* to an Axes."
     ]
    },
    {
     "data": {
      "text/plain": [
       "<Figure size 640x480 with 1 Axes>"
      ],
      "image/png": "[encoded data removed]"
     },
     "metadata": {},
     "output_type": "display_data"
    }
   ],
   "execution_count": 5
  },
  {
   "metadata": {
    "ExecuteTime": {
     "end_time": "2024-04-10T08:00:23.751566Z",
     "start_time": "2024-04-10T08:00:23.748203Z"
    }
   },
   "cell_type": "code",
   "source": "grid",
   "id": "6585c087e6c2096",
   "outputs": [
    {
     "data": {
      "text/plain": [
       "array([[[0.07599774, 0.07599774, 0.07599774],\n",
       "        [0.68621832, 0.68621832, 0.68621832],\n",
       "        [0.03318754, 0.03318754, 0.03318754],\n",
       "        [0.33009415, 0.33009415, 0.33009415],\n",
       "        [0.41144153, 0.41144153, 0.41144153],\n",
       "        [0.42881059, 0.42881059, 0.42881059],\n",
       "        [0.05195549, 0.05195549, 0.05195549],\n",
       "        [0.28608458, 0.28608458, 0.28608458],\n",
       "        [0.19181401, 0.19181401, 0.19181401],\n",
       "        [0.55384139, 0.55384139, 0.55384139]],\n",
       "\n",
       "       [[0.94478657, 0.94478657, 0.94478657],\n",
       "        [0.15946546, 0.15946546, 0.15946546],\n",
       "        [0.17164335, 0.17164335, 0.17164335],\n",
       "        [0.15370997, 0.15370997, 0.15370997],\n",
       "        [0.08227806, 0.08227806, 0.08227806],\n",
       "        [0.28013962, 0.28013962, 0.28013962],\n",
       "        [0.02315387, 0.02315387, 0.02315387],\n",
       "        [0.20078647, 0.20078647, 0.20078647],\n",
       "        [0.95669068, 0.95669068, 0.95669068],\n",
       "        [0.55399204, 0.55399204, 0.55399204]],\n",
       "\n",
       "       [[0.94126855, 0.94126855, 0.94126855],\n",
       "        [0.65597071, 0.65597071, 0.65597071],\n",
       "        [0.33256288, 0.33256288, 0.33256288],\n",
       "        [0.65024885, 0.65024885, 0.65024885],\n",
       "        [0.00911064, 0.00911064, 0.00911064],\n",
       "        [0.21859109, 0.21859109, 0.21859109],\n",
       "        [0.99700597, 0.99700597, 0.99700597],\n",
       "        [0.21806345, 0.21806345, 0.21806345],\n",
       "        [0.57518834, 0.57518834, 0.57518834],\n",
       "        [0.26183938, 0.26183938, 0.26183938]],\n",
       "\n",
       "       [[0.65083419, 0.65083419, 0.65083419],\n",
       "        [0.06995986, 0.06995986, 0.06995986],\n",
       "        [0.29436649, 0.29436649, 0.29436649],\n",
       "        [0.54830672, 0.54830672, 0.54830672],\n",
       "        [0.99882616, 0.99882616, 0.99882616],\n",
       "        [0.61197478, 0.61197478, 0.61197478],\n",
       "        [0.97347322, 0.97347322, 0.97347322],\n",
       "        [0.25539538, 0.25539538, 0.25539538],\n",
       "        [0.11563564, 0.11563564, 0.11563564],\n",
       "        [0.34409406, 0.34409406, 0.34409406]],\n",
       "\n",
       "       [[0.15722775, 0.15722775, 0.15722775],\n",
       "        [0.55697022, 0.55697022, 0.55697022],\n",
       "        [0.72754378, 0.72754378, 0.72754378],\n",
       "        [0.05696702, 0.05696702, 0.05696702],\n",
       "        [0.59642568, 0.59642568, 0.59642568],\n",
       "        [0.77718296, 0.77718296, 0.77718296],\n",
       "        [0.22138925, 0.22138925, 0.22138925],\n",
       "        [0.51979242, 0.51979242, 0.51979242],\n",
       "        [0.00309719, 0.00309719, 0.00309719],\n",
       "        [0.51723223, 0.51723223, 0.51723223]],\n",
       "\n",
       "       [[0.22365456, 0.22365456, 0.22365456],\n",
       "        [0.27148895, 0.27148895, 0.27148895],\n",
       "        [0.24952432, 0.24952432, 0.24952432],\n",
       "        [0.50477965, 0.50477965, 0.50477965],\n",
       "        [0.93471558, 0.93471558, 0.93471558],\n",
       "        [1.        , 1.        , 1.        ],\n",
       "        [0.8561441 , 0.8561441 , 0.8561441 ],\n",
       "        [0.82914613, 0.82914613, 0.82914613],\n",
       "        [0.15421612, 0.15421612, 0.15421612],\n",
       "        [0.        , 0.        , 0.        ]],\n",
       "\n",
       "       [[0.54787714, 0.54787714, 0.54787714],\n",
       "        [0.43009897, 0.43009897, 0.43009897],\n",
       "        [0.43500382, 0.43500382, 0.43500382],\n",
       "        [0.9355242 , 0.9355242 , 0.9355242 ],\n",
       "        [0.90372075, 0.90372075, 0.90372075],\n",
       "        [0.6335143 , 0.6335143 , 0.6335143 ],\n",
       "        [0.58368959, 0.58368959, 0.58368959],\n",
       "        [0.49233489, 0.49233489, 0.49233489],\n",
       "        [0.65268137, 0.65268137, 0.65268137],\n",
       "        [0.12803763, 0.12803763, 0.12803763]],\n",
       "\n",
       "       [[0.02978256, 0.02978256, 0.02978256],\n",
       "        [0.22152809, 0.22152809, 0.22152809],\n",
       "        [0.40323362, 0.40323362, 0.40323362],\n",
       "        [0.33079155, 0.33079155, 0.33079155],\n",
       "        [0.57789293, 0.57789293, 0.57789293],\n",
       "        [0.8138804 , 0.8138804 , 0.8138804 ],\n",
       "        [0.98069611, 0.98069611, 0.98069611],\n",
       "        [0.31942862, 0.31942862, 0.31942862],\n",
       "        [0.40516189, 0.40516189, 0.40516189],\n",
       "        [0.25720251, 0.25720251, 0.25720251]],\n",
       "\n",
       "       [[0.74376735, 0.74376735, 0.74376735],\n",
       "        [0.35239511, 0.35239511, 0.35239511],\n",
       "        [0.80948793, 0.80948793, 0.80948793],\n",
       "        [0.31762034, 0.31762034, 0.31762034],\n",
       "        [0.01578738, 0.01578738, 0.01578738],\n",
       "        [0.7115634 , 0.7115634 , 0.7115634 ],\n",
       "        [0.52336965, 0.52336965, 0.52336965],\n",
       "        [0.5003693 , 0.5003693 , 0.5003693 ],\n",
       "        [0.46214391, 0.46214391, 0.46214391],\n",
       "        [0.93068274, 0.93068274, 0.93068274]],\n",
       "\n",
       "       [[0.15596838, 0.15596838, 0.15596838],\n",
       "        [0.26250498, 0.26250498, 0.26250498],\n",
       "        [0.18651309, 0.18651309, 0.18651309],\n",
       "        [0.92448448, 0.92448448, 0.92448448],\n",
       "        [0.59247319, 0.59247319, 0.59247319],\n",
       "        [0.76773376, 0.76773376, 0.76773376],\n",
       "        [0.94141497, 0.94141497, 0.94141497],\n",
       "        [0.03009042, 0.03009042, 0.03009042],\n",
       "        [0.72902618, 0.72902618, 0.72902618],\n",
       "        [0.7584653 , 0.7584653 , 0.7584653 ]]])"
      ]
     },
     "execution_count": 2,
     "metadata": {},
     "output_type": "execute_result"
    }
   ],
   "execution_count": 2
  },
  {
   "metadata": {
    "ExecuteTime": {
     "end_time": "2024-04-10T08:00:42.978783Z",
     "start_time": "2024-04-10T08:00:42.976412Z"
    }
   },
   "cell_type": "code",
   "source": "grid.shape",
   "id": "4d42b9bbc3bbe74f",
   "outputs": [
    {
     "data": {
      "text/plain": [
       "(10, 10, 3)"
      ]
     },
     "execution_count": 4,
     "metadata": {},
     "output_type": "execute_result"
    }
   ],
   "execution_count": 4
  },
  {
   "metadata": {
    "ExecuteTime": {
     "end_time": "2024-04-10T08:30:28.422258Z",
     "start_time": "2024-04-10T08:30:28.348398Z"
    }
   },
   "cell_type": "code",
   "source": [
    "fig, ax = plt.subplots()\n",
    "cmap = 'RdBu_r'\n",
    "\n",
    "pcm = ax.pcolormesh(np.random.random((20, 20)), cmap=cmap)\n",
    "\n",
    "# fig.colorbar(pcm, ax=ax, shrink=0.6)\n",
    "fig.colorbar(pcm)"
   ],
   "id": "3fe1b5909ddbd930",
   "outputs": [
    {
     "data": {
      "text/plain": [
       "<matplotlib.colorbar.Colorbar at 0x12262d590>"
      ]
     },
     "execution_count": 9,
     "metadata": {},
     "output_type": "execute_result"
    },
    {
     "data": {
      "text/plain": [
       "<Figure size 640x480 with 2 Axes>"
      ],
      "image/png": "[encoded data removed]"
     },
     "metadata": {},
     "output_type": "display_data"
    }
   ],
   "execution_count": 9
  },
  {
   "metadata": {
    "ExecuteTime": {
     "end_time": "2024-04-10T08:30:46.903449Z",
     "start_time": "2024-04-10T08:30:46.899996Z"
    }
   },
   "cell_type": "code",
   "source": "np.random.random((20, 20))",
   "id": "bd1427dd071306a",
   "outputs": [
    {
     "data": {
      "text/plain": [
       "array([[0.17132319, 0.72270011, 0.29148894, 0.90261971, 0.86099152,\n",
       "        0.49150668, 0.4384489 , 0.21174529, 0.81770964, 0.13532857,\n",
       "        0.39756344, 0.53239809, 0.21212549, 0.2012099 , 0.72388239,\n",
       "        0.18269111, 0.95656736, 0.1959251 , 0.50836631, 0.59562185],\n",
       "       [0.35683695, 0.27303702, 0.43976385, 0.43525314, 0.84409825,\n",
       "        0.24365706, 0.82457746, 0.28947306, 0.88410598, 0.2576015 ,\n",
       "        0.62419387, 0.7520921 , 0.77549888, 0.54241723, 0.94394496,\n",
       "        0.75834416, 0.42449347, 0.79902498, 0.7518184 , 0.40742063],\n",
       "       [0.39861846, 0.44140479, 0.92913608, 0.03519999, 0.19845117,\n",
       "        0.49075734, 0.82678097, 0.63189759, 0.61073674, 0.32376009,\n",
       "        0.10160892, 0.9901627 , 0.50847606, 0.1031542 , 0.33370006,\n",
       "        0.37960175, 0.21484137, 0.32783318, 0.36844715, 0.26876421],\n",
       "       [0.14041479, 0.81299736, 0.21744061, 0.60766936, 0.46333503,\n",
       "        0.02928044, 0.67184584, 0.97383001, 0.11367601, 0.54894603,\n",
       "        0.19466715, 0.44077973, 0.2978149 , 0.07079828, 0.71815364,\n",
       "        0.85891091, 0.3091059 , 0.68754977, 0.28933587, 0.80899012],\n",
       "       [0.62981576, 0.50943865, 0.29269002, 0.41336046, 0.51980922,\n",
       "        0.77720602, 0.7916965 , 0.14478049, 0.09355042, 0.94904323,\n",
       "        0.86639301, 0.44889788, 0.48163799, 0.12655249, 0.43031156,\n",
       "        0.82416274, 0.86250841, 0.65858201, 0.50483821, 0.37909601],\n",
       "       [0.52646037, 0.98884081, 0.32799733, 0.05776669, 0.32496746,\n",
       "        0.48650089, 0.76542733, 0.85239946, 0.4607588 , 0.53900237,\n",
       "        0.39568536, 0.62839983, 0.2426717 , 0.0738052 , 0.41734809,\n",
       "        0.79939079, 0.87309371, 0.7538305 , 0.55833125, 0.71914083],\n",
       "       [0.2119935 , 0.05867691, 0.23591475, 0.39337991, 0.41585685,\n",
       "        0.88758246, 0.22170542, 0.30756883, 0.42877662, 0.86804196,\n",
       "        0.92986716, 0.27958945, 0.35088889, 0.87417264, 0.10052373,\n",
       "        0.09332336, 0.95784944, 0.91244452, 0.04216474, 0.20133101],\n",
       "       [0.82817355, 0.34806853, 0.84910777, 0.98636068, 0.26410959,\n",
       "        0.6485106 , 0.61217438, 0.50571935, 0.88824824, 0.2292159 ,\n",
       "        0.13380877, 0.66669217, 0.40677074, 0.59837925, 0.1274553 ,\n",
       "        0.86329641, 0.05857604, 0.41625803, 0.03832592, 0.95475746],\n",
       "       [0.97799548, 0.26100238, 0.95710682, 0.67762869, 0.8914846 ,\n",
       "        0.08993726, 0.9822271 , 0.39973985, 0.41413588, 0.95852659,\n",
       "        0.83214904, 0.32144536, 0.9274819 , 0.79865967, 0.9609037 ,\n",
       "        0.81884513, 0.46498046, 0.14847699, 0.48207394, 0.82611478],\n",
       "       [0.09824805, 0.17166831, 0.07989129, 0.12377801, 0.34999693,\n",
       "        0.44520008, 0.97900648, 0.64618479, 0.44272852, 0.32218016,\n",
       "        0.55305378, 0.81960709, 0.37837461, 0.91550631, 0.02039789,\n",
       "        0.40166082, 0.39088402, 0.92455644, 0.48412401, 0.87501581],\n",
       "       [0.60993312, 0.37574022, 0.99453958, 0.35385311, 0.03142822,\n",
       "        0.70130856, 0.44644429, 0.18915759, 0.68577202, 0.09181409,\n",
       "        0.57664806, 0.90521576, 0.38318492, 0.83309488, 0.96425687,\n",
       "        0.37538099, 0.41431881, 0.01458382, 0.22659227, 0.70289496],\n",
       "       [0.41314597, 0.39487748, 0.54118418, 0.22522521, 0.37748949,\n",
       "        0.90760271, 0.7735585 , 0.20299517, 0.04753025, 0.1077744 ,\n",
       "        0.71742202, 0.38274899, 0.2394303 , 0.37881669, 0.1111453 ,\n",
       "        0.70988125, 0.36822824, 0.44335424, 0.56147842, 0.0712472 ],\n",
       "       [0.90004394, 0.50972889, 0.36453554, 0.75371214, 0.01373125,\n",
       "        0.86711593, 0.70116528, 0.04906699, 0.908713  , 0.45355641,\n",
       "        0.69915649, 0.14665261, 0.82197929, 0.17060024, 0.18454539,\n",
       "        0.63656472, 0.17209128, 0.1853135 , 0.29032822, 0.94053383],\n",
       "       [0.04461327, 0.13754562, 0.23397938, 0.87993671, 0.2790024 ,\n",
       "        0.76602418, 0.01075463, 0.91232425, 0.71329921, 0.13509358,\n",
       "        0.17583824, 0.88299998, 0.75900389, 0.79945785, 0.83451189,\n",
       "        0.49497309, 0.98292649, 0.70969326, 0.23969024, 0.95743016],\n",
       "       [0.89181886, 0.14672652, 0.57355297, 0.13052674, 0.6579007 ,\n",
       "        0.84732021, 0.83574089, 0.91056125, 0.03728835, 0.71197633,\n",
       "        0.0459938 , 0.80320294, 0.44780566, 0.08990897, 0.00737921,\n",
       "        0.74373145, 0.88267139, 0.04690842, 0.30420921, 0.26055792],\n",
       "       [0.84106561, 0.94594803, 0.75607754, 0.1407229 , 0.59348427,\n",
       "        0.52507891, 0.13272477, 0.62088355, 0.61661339, 0.24196813,\n",
       "        0.17372063, 0.70942211, 0.96984528, 0.12892205, 0.79147645,\n",
       "        0.0653457 , 0.09091708, 0.47787492, 0.60078491, 0.34443546],\n",
       "       [0.24219941, 0.39341231, 0.98075514, 0.54291679, 0.32449079,\n",
       "        0.36785026, 0.26684847, 0.07297437, 0.81087555, 0.2977203 ,\n",
       "        0.38154357, 0.31079157, 0.96252803, 0.70112259, 0.04862097,\n",
       "        0.56249481, 0.83806721, 0.46640664, 0.58169006, 0.32330708],\n",
       "       [0.37233646, 0.92339778, 0.23736218, 0.58014013, 0.00872013,\n",
       "        0.97196092, 0.61599641, 0.75988516, 0.51135504, 0.81922329,\n",
       "        0.11604595, 0.69425134, 0.67714588, 0.38785759, 0.20001948,\n",
       "        0.00578981, 0.88462642, 0.45694057, 0.08120804, 0.7544307 ],\n",
       "       [0.24289496, 0.46909045, 0.45585983, 0.12649144, 0.33679858,\n",
       "        0.42135409, 0.25755949, 0.98651178, 0.78754207, 0.73945369,\n",
       "        0.79453491, 0.18149096, 0.53528499, 0.29988122, 0.29743216,\n",
       "        0.50456482, 0.95354128, 0.63467527, 0.49255024, 0.67403727],\n",
       "       [0.66824039, 0.98079909, 0.2415077 , 0.93356912, 0.86257575,\n",
       "        0.76352874, 0.25683706, 0.80005088, 0.78598751, 0.3194502 ,\n",
       "        0.52410927, 0.08594843, 0.07383475, 0.14796417, 0.24522298,\n",
       "        0.49714911, 0.80682661, 0.99893839, 0.51410556, 0.80887528]])"
      ]
     },
     "execution_count": 10,
     "metadata": {},
     "output_type": "execute_result"
    }
   ],
   "execution_count": 10
  },
  {
   "metadata": {
    "ExecuteTime": {
     "end_time": "2024-04-10T08:39:37.399990Z",
     "start_time": "2024-04-10T08:39:37.394287Z"
    }
   },
   "cell_type": "code",
   "source": "plt.colormaps()",
   "id": "ca8d305553a2116e",
   "outputs": [
    {
     "data": {
      "text/plain": [
       "['magma',\n",
       " 'inferno',\n",
       " 'plasma',\n",
       " 'viridis',\n",
       " 'cividis',\n",
       " 'twilight',\n",
       " 'twilight_shifted',\n",
       " 'turbo',\n",
       " 'Blues',\n",
       " 'BrBG',\n",
       " 'BuGn',\n",
       " 'BuPu',\n",
       " 'CMRmap',\n",
       " 'GnBu',\n",
       " 'Greens',\n",
       " 'Greys',\n",
       " 'OrRd',\n",
       " 'Oranges',\n",
       " 'PRGn',\n",
       " 'PiYG',\n",
       " 'PuBu',\n",
       " 'PuBuGn',\n",
       " 'PuOr',\n",
       " 'PuRd',\n",
       " 'Purples',\n",
       " 'RdBu',\n",
       " 'RdGy',\n",
       " 'RdPu',\n",
       " 'RdYlBu',\n",
       " 'RdYlGn',\n",
       " 'Reds',\n",
       " 'Spectral',\n",
       " 'Wistia',\n",
       " 'YlGn',\n",
       " 'YlGnBu',\n",
       " 'YlOrBr',\n",
       " 'YlOrRd',\n",
       " 'afmhot',\n",
       " 'autumn',\n",
       " 'binary',\n",
       " 'bone',\n",
       " 'brg',\n",
       " 'bwr',\n",
       " 'cool',\n",
       " 'coolwarm',\n",
       " 'copper',\n",
       " 'cubehelix',\n",
       " 'flag',\n",
       " 'gist_earth',\n",
       " 'gist_gray',\n",
       " 'gist_heat',\n",
       " 'gist_ncar',\n",
       " 'gist_rainbow',\n",
       " 'gist_stern',\n",
       " 'gist_yarg',\n",
       " 'gnuplot',\n",
       " 'gnuplot2',\n",
       " 'gray',\n",
       " 'hot',\n",
       " 'hsv',\n",
       " 'jet',\n",
       " 'nipy_spectral',\n",
       " 'ocean',\n",
       " 'pink',\n",
       " 'prism',\n",
       " 'rainbow',\n",
       " 'seismic',\n",
       " 'spring',\n",
       " 'summer',\n",
       " 'terrain',\n",
       " 'winter',\n",
       " 'Accent',\n",
       " 'Dark2',\n",
       " 'Paired',\n",
       " 'Pastel1',\n",
       " 'Pastel2',\n",
       " 'Set1',\n",
       " 'Set2',\n",
       " 'Set3',\n",
       " 'tab10',\n",
       " 'tab20',\n",
       " 'tab20b',\n",
       " 'tab20c',\n",
       " 'grey',\n",
       " 'gist_grey',\n",
       " 'gist_yerg',\n",
       " 'Grays',\n",
       " 'magma_r',\n",
       " 'inferno_r',\n",
       " 'plasma_r',\n",
       " 'viridis_r',\n",
       " 'cividis_r',\n",
       " 'twilight_r',\n",
       " 'twilight_shifted_r',\n",
       " 'turbo_r',\n",
       " 'Blues_r',\n",
       " 'BrBG_r',\n",
       " 'BuGn_r',\n",
       " 'BuPu_r',\n",
       " 'CMRmap_r',\n",
       " 'GnBu_r',\n",
       " 'Greens_r',\n",
       " 'Greys_r',\n",
       " 'OrRd_r',\n",
       " 'Oranges_r',\n",
       " 'PRGn_r',\n",
       " 'PiYG_r',\n",
       " 'PuBu_r',\n",
       " 'PuBuGn_r',\n",
       " 'PuOr_r',\n",
       " 'PuRd_r',\n",
       " 'Purples_r',\n",
       " 'RdBu_r',\n",
       " 'RdGy_r',\n",
       " 'RdPu_r',\n",
       " 'RdYlBu_r',\n",
       " 'RdYlGn_r',\n",
       " 'Reds_r',\n",
       " 'Spectral_r',\n",
       " 'Wistia_r',\n",
       " 'YlGn_r',\n",
       " 'YlGnBu_r',\n",
       " 'YlOrBr_r',\n",
       " 'YlOrRd_r',\n",
       " 'afmhot_r',\n",
       " 'autumn_r',\n",
       " 'binary_r',\n",
       " 'bone_r',\n",
       " 'brg_r',\n",
       " 'bwr_r',\n",
       " 'cool_r',\n",
       " 'coolwarm_r',\n",
       " 'copper_r',\n",
       " 'cubehelix_r',\n",
       " 'flag_r',\n",
       " 'gist_earth_r',\n",
       " 'gist_gray_r',\n",
       " 'gist_heat_r',\n",
       " 'gist_ncar_r',\n",
       " 'gist_rainbow_r',\n",
       " 'gist_stern_r',\n",
       " 'gist_yarg_r',\n",
       " 'gnuplot_r',\n",
       " 'gnuplot2_r',\n",
       " 'gray_r',\n",
       " 'hot_r',\n",
       " 'hsv_r',\n",
       " 'jet_r',\n",
       " 'nipy_spectral_r',\n",
       " 'ocean_r',\n",
       " 'pink_r',\n",
       " 'prism_r',\n",
       " 'rainbow_r',\n",
       " 'seismic_r',\n",
       " 'spring_r',\n",
       " 'summer_r',\n",
       " 'terrain_r',\n",
       " 'winter_r',\n",
       " 'Accent_r',\n",
       " 'Dark2_r',\n",
       " 'Paired_r',\n",
       " 'Pastel1_r',\n",
       " 'Pastel2_r',\n",
       " 'Set1_r',\n",
       " 'Set2_r',\n",
       " 'Set3_r',\n",
       " 'tab10_r',\n",
       " 'tab20_r',\n",
       " 'tab20b_r',\n",
       " 'tab20c_r']"
      ]
     },
     "execution_count": 12,
     "metadata": {},
     "output_type": "execute_result"
    }
   ],
   "execution_count": 12
  },
  {
   "metadata": {
    "ExecuteTime": {
     "end_time": "2024-04-10T08:40:04.703286Z",
     "start_time": "2024-04-10T08:40:04.701141Z"
    }
   },
   "cell_type": "code",
   "source": "cmap = plt.colormaps['viridis']",
   "id": "1eaf57708cc38616",
   "outputs": [],
   "execution_count": 13
  },
  {
   "metadata": {
    "ExecuteTime": {
     "end_time": "2024-04-10T08:43:48.542904Z",
     "start_time": "2024-04-10T08:43:48.540400Z"
    }
   },
   "cell_type": "code",
   "source": "cmap(0)",
   "id": "2dcbe65ce970dbc6",
   "outputs": [
    {
     "data": {
      "text/plain": [
       "(0.267004, 0.004874, 0.329415, 1.0)"
      ]
     },
     "execution_count": 21,
     "metadata": {},
     "output_type": "execute_result"
    }
   ],
   "execution_count": 21
  },
  {
   "metadata": {
    "ExecuteTime": {
     "end_time": "2024-04-10T09:06:18.620422Z",
     "start_time": "2024-04-10T09:06:18.616014Z"
    }
   },
   "cell_type": "code",
   "source": [
    "width, height, n_frames = 2, 3, 4\n",
    "arr = np.random.random(size=(width, height, n_frames))"
   ],
   "id": "c0f2b9fe66c7b9d4",
   "outputs": [],
   "execution_count": 32
  },
  {
   "metadata": {
    "ExecuteTime": {
     "end_time": "2024-04-10T09:06:18.942828Z",
     "start_time": "2024-04-10T09:06:18.938970Z"
    }
   },
   "cell_type": "code",
   "source": "arr",
   "id": "c66949003d33f85e",
   "outputs": [
    {
     "data": {
      "text/plain": [
       "array([[[1.17955604e-02, 1.50452360e-02, 2.74989969e-01, 6.88138300e-01],\n",
       "        [9.67473110e-01, 9.89035504e-01, 2.84743204e-01, 2.37171100e-01],\n",
       "        [4.49201475e-01, 1.19731302e-01, 9.33689028e-04, 7.64950353e-01]],\n",
       "\n",
       "       [[9.95574570e-02, 9.30817986e-01, 8.08866585e-01, 3.87246084e-01],\n",
       "        [5.86725711e-01, 6.35573598e-01, 2.41164145e-01, 8.56656473e-01],\n",
       "        [5.70842632e-01, 1.75254494e-02, 5.95219403e-01, 4.63741830e-01]]])"
      ]
     },
     "execution_count": 33,
     "metadata": {},
     "output_type": "execute_result"
    }
   ],
   "execution_count": 33
  },
  {
   "metadata": {
    "ExecuteTime": {
     "end_time": "2024-04-10T09:06:24.754195Z",
     "start_time": "2024-04-10T09:06:24.751807Z"
    }
   },
   "cell_type": "code",
   "source": "arr.std(axis=2)",
   "id": "8a69702159a910bb",
   "outputs": [
    {
     "data": {
      "text/plain": [
       "array([[0.27591195, 0.35912367, 0.2982589 ],\n",
       "       [0.33213181, 0.22050068, 0.23296331]])"
      ]
     },
     "execution_count": 35,
     "metadata": {},
     "output_type": "execute_result"
    }
   ],
   "execution_count": 35
  },
  {
   "metadata": {},
   "cell_type": "code",
   "outputs": [],
   "execution_count": null,
   "source": "",
   "id": "5522fd7e90d8458f"
  }
 ],
 "metadata": {
  "kernelspec": {
   "display_name": "Python 3",
   "language": "python",
   "name": "python3"
  },
  "language_info": {
   "codemirror_mode": {
    "name": "ipython",
    "version": 2
   },
   "file_extension": ".py",
   "mimetype": "text/x-python",
   "name": "python",
   "nbconvert_exporter": "python",
   "pygments_lexer": "ipython2",
   "version": "2.7.6"
  }
 },
 "nbformat": 4,
 "nbformat_minor": 5
}
