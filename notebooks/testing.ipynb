{
 "cells": [
  {
   "cell_type": "code",
   "execution_count": 2,
   "id": "initial_id",
   "metadata": {
    "collapsed": true,
    "ExecuteTime": {
     "end_time": "2024-03-22T09:08:05.812715Z",
     "start_time": "2024-03-22T09:08:05.563402Z"
    }
   },
   "outputs": [],
   "source": [
    "import numpy as np\n",
    "import pandas as pd"
   ]
  },
  {
   "cell_type": "code",
   "outputs": [
    {
     "name": "stdout",
     "output_type": "stream",
     "text": [
      "r1_lin:  149\n"
     ]
    }
   ],
   "source": [
    "n_cols = 16\n",
    "n_rows = 12\n",
    "grid_shape = (n_cols, n_rows)\n",
    "\n",
    "r1_tup = (12, 5)\n",
    "r1_lin = n_rows * r1_tup[0] + r1_tup[1]\n",
    "print('r1_lin: ', r1_lin)\n",
    "r1_tup = (5, 12)\n",
    "r2_lin = 17\n",
    "\n"
   ],
   "metadata": {
    "collapsed": false,
    "ExecuteTime": {
     "end_time": "2024-03-21T14:11:25.154374Z",
     "start_time": "2024-03-21T14:11:25.148664Z"
    }
   },
   "id": "77fd950fc8ee868c",
   "execution_count": 16
  },
  {
   "cell_type": "code",
   "outputs": [
    {
     "data": {
      "text/plain": "(12, 5)"
     },
     "execution_count": 18,
     "metadata": {},
     "output_type": "execute_result"
    }
   ],
   "source": [
    "np.unravel_index(r1_lin, grid_shape, order='C')"
   ],
   "metadata": {
    "collapsed": false,
    "ExecuteTime": {
     "end_time": "2024-03-21T14:11:31.739854Z",
     "start_time": "2024-03-21T14:11:31.735462Z"
    }
   },
   "id": "752fcdb853a803e7",
   "execution_count": 18
  },
  {
   "cell_type": "code",
   "outputs": [],
   "source": [
    "n_horizontal, n_vertical, n_frames = 3, 2, 4\n",
    "shape = n_horizontal, n_vertical, n_frames\n",
    "n_values = n_horizontal * n_vertical * n_frames\n",
    "signals_arr = np.arange(start=0, stop=n_values)"
   ],
   "metadata": {
    "collapsed": false,
    "ExecuteTime": {
     "end_time": "2024-03-22T09:08:06.969539Z",
     "start_time": "2024-03-22T09:08:06.966183Z"
    }
   },
   "id": "67cbedf1731e3fb7",
   "execution_count": 3
  },
  {
   "cell_type": "code",
   "outputs": [],
   "source": [
    "signals_arr = signals_arr.reshape(shape)"
   ],
   "metadata": {
    "collapsed": false,
    "ExecuteTime": {
     "end_time": "2024-03-22T09:08:33.191324Z",
     "start_time": "2024-03-22T09:08:33.188282Z"
    }
   },
   "id": "657fc655cd12e200",
   "execution_count": 6
  },
  {
   "cell_type": "code",
   "outputs": [],
   "source": [
    "flattened = signals_arr.reshape((n_horizontal * n_vertical, n_frames), order='C')"
   ],
   "metadata": {
    "collapsed": false,
    "ExecuteTime": {
     "end_time": "2024-03-22T09:16:49.496654Z",
     "start_time": "2024-03-22T09:16:49.490158Z"
    }
   },
   "id": "3548329378ecdfa4",
   "execution_count": 19
  },
  {
   "cell_type": "code",
   "outputs": [
    {
     "data": {
      "text/plain": "array([[ 0,  1,  2,  3],\n       [ 4,  5,  6,  7],\n       [ 8,  9, 10, 11],\n       [12, 13, 14, 15],\n       [16, 17, 18, 19],\n       [20, 21, 22, 23]])"
     },
     "execution_count": 20,
     "metadata": {},
     "output_type": "execute_result"
    }
   ],
   "source": [
    "flattened"
   ],
   "metadata": {
    "collapsed": false,
    "ExecuteTime": {
     "end_time": "2024-03-22T09:16:51.998441Z",
     "start_time": "2024-03-22T09:16:51.995873Z"
    }
   },
   "id": "2392ee507dd34eee",
   "execution_count": 20
  },
  {
   "cell_type": "code",
   "outputs": [],
   "source": [
    "class ROI:\n",
    "    width = None\n",
    "    height = None\n",
    "    \n",
    "    def __init__(self, x_idx, y_idx):\n",
    "        self.x_idx = x_idx\n",
    "        self.y_idx = y_idx"
   ],
   "metadata": {
    "collapsed": false,
    "ExecuteTime": {
     "end_time": "2024-03-22T11:09:46.484831Z",
     "start_time": "2024-03-22T11:09:46.481199Z"
    }
   },
   "id": "e01e3fe4a8122e71",
   "execution_count": 21
  },
  {
   "cell_type": "code",
   "outputs": [],
   "source": [
    "ROI.width = 5"
   ],
   "metadata": {
    "collapsed": false,
    "ExecuteTime": {
     "end_time": "2024-03-22T11:09:53.498841Z",
     "start_time": "2024-03-22T11:09:53.497232Z"
    }
   },
   "id": "a88e52238826694a",
   "execution_count": 23
  },
  {
   "cell_type": "code",
   "outputs": [
    {
     "data": {
      "text/plain": "5"
     },
     "execution_count": 24,
     "metadata": {},
     "output_type": "execute_result"
    }
   ],
   "source": [
    "ROI.width"
   ],
   "metadata": {
    "collapsed": false,
    "ExecuteTime": {
     "end_time": "2024-03-22T11:09:55.715403Z",
     "start_time": "2024-03-22T11:09:55.712541Z"
    }
   },
   "id": "71cfe01ef9338e2d",
   "execution_count": 24
  },
  {
   "cell_type": "code",
   "outputs": [],
   "source": [
    "from src.B_generate_rois.generate_rois_from_size import generate_rois_from_size\n",
    "from src.utils.coordinate_system import Dimensions\n",
    "import src.analysis_options  \n"
   ],
   "metadata": {
    "collapsed": false,
    "ExecuteTime": {
     "end_time": "2024-03-22T13:48:18.705283Z",
     "start_time": "2024-03-22T13:48:18.658374Z"
    }
   },
   "id": "43a236f17e6863ce",
   "execution_count": 1
  },
  {
   "cell_type": "code",
   "outputs": [],
   "source": [
    "\n",
    "img_dims = Dimensions(2048, 1536)\n",
    "rois = generate_rois_from_size(img_dims)"
   ],
   "metadata": {
    "collapsed": false,
    "ExecuteTime": {
     "end_time": "2024-03-22T13:48:18.852496Z",
     "start_time": "2024-03-22T13:48:18.850396Z"
    }
   },
   "id": "6c99af874895ae7e",
   "execution_count": 2
  },
  {
   "cell_type": "code",
   "outputs": [
    {
     "data": {
      "text/plain": "'(0; 0)'"
     },
     "execution_count": 3,
     "metadata": {},
     "output_type": "execute_result"
    }
   ],
   "source": [
    "str(rois[0])"
   ],
   "metadata": {
    "collapsed": false,
    "ExecuteTime": {
     "end_time": "2024-03-22T13:48:19.037522Z",
     "start_time": "2024-03-22T13:48:19.033164Z"
    }
   },
   "id": "3ebbf16517b46e42",
   "execution_count": 3
  },
  {
   "cell_type": "code",
   "outputs": [
    {
     "data": {
      "text/plain": "<ROI(x:0, y:0) at 0x107041a50>"
     },
     "execution_count": 4,
     "metadata": {},
     "output_type": "execute_result"
    }
   ],
   "source": [
    "rois[0]"
   ],
   "metadata": {
    "collapsed": false,
    "ExecuteTime": {
     "end_time": "2024-03-22T13:48:19.994177Z",
     "start_time": "2024-03-22T13:48:19.990987Z"
    }
   },
   "id": "2896dfcc00bb73ae",
   "execution_count": 4
  },
  {
   "cell_type": "code",
   "outputs": [
    {
     "ename": "ValueError",
     "evalue": "shape argument (0, 1, 2) does not match data shape (10, 512, 512)",
     "output_type": "error",
     "traceback": [
      "\u001B[0;31m---------------------------------------------------------------------------\u001B[0m",
      "\u001B[0;31mValueError\u001B[0m                                Traceback (most recent call last)",
      "\u001B[0;32m/var/folders/_2/p5k66wv51kvdr8c144rxy2j80000gn/T/ipykernel_45009/3957828337.py\u001B[0m in \u001B[0;36m?\u001B[0;34m()\u001B[0m\n\u001B[1;32m      4\u001B[0m \u001B[0;31m# Create a sample 3D array\u001B[0m\u001B[0;34m\u001B[0m\u001B[0;34m\u001B[0m\u001B[0m\n\u001B[1;32m      5\u001B[0m \u001B[0mdata\u001B[0m \u001B[0;34m=\u001B[0m \u001B[0mnp\u001B[0m\u001B[0;34m.\u001B[0m\u001B[0mrandom\u001B[0m\u001B[0;34m.\u001B[0m\u001B[0mrand\u001B[0m\u001B[0;34m(\u001B[0m\u001B[0;36m10\u001B[0m\u001B[0;34m,\u001B[0m \u001B[0;36m512\u001B[0m\u001B[0;34m,\u001B[0m \u001B[0;36m512\u001B[0m\u001B[0;34m)\u001B[0m  \u001B[0;31m# 10 frames of 512x512 pixels each\u001B[0m\u001B[0;34m\u001B[0m\u001B[0;34m\u001B[0m\u001B[0m\n\u001B[1;32m      6\u001B[0m \u001B[0;34m\u001B[0m\u001B[0m\n\u001B[1;32m      7\u001B[0m \u001B[0;31m# Save the array with specified dimensions\u001B[0m\u001B[0;34m\u001B[0m\u001B[0;34m\u001B[0m\u001B[0m\n\u001B[0;32m----> 8\u001B[0;31m \u001B[0mtifffile\u001B[0m\u001B[0;34m.\u001B[0m\u001B[0mimwrite\u001B[0m\u001B[0;34m(\u001B[0m\u001B[0;34m'output.tif'\u001B[0m\u001B[0;34m,\u001B[0m \u001B[0mdata\u001B[0m\u001B[0;34m,\u001B[0m \u001B[0mshape\u001B[0m\u001B[0;34m=\u001B[0m\u001B[0;34m(\u001B[0m\u001B[0;36m0\u001B[0m\u001B[0;34m,\u001B[0m \u001B[0;36m1\u001B[0m\u001B[0;34m,\u001B[0m \u001B[0;36m2\u001B[0m\u001B[0;34m)\u001B[0m\u001B[0;34m)\u001B[0m  \u001B[0;31m# Frames, Rows, Columns\u001B[0m\u001B[0;34m\u001B[0m\u001B[0;34m\u001B[0m\u001B[0m\n\u001B[0m\u001B[1;32m      9\u001B[0m \u001B[0;34m\u001B[0m\u001B[0m\n\u001B[1;32m     10\u001B[0m \u001B[0;31m# Load the array with specified dimensions\u001B[0m\u001B[0;34m\u001B[0m\u001B[0;34m\u001B[0m\u001B[0m\n\u001B[1;32m     11\u001B[0m \u001B[0mloaded_data\u001B[0m \u001B[0;34m=\u001B[0m \u001B[0mtifffile\u001B[0m\u001B[0;34m.\u001B[0m\u001B[0mimread\u001B[0m\u001B[0;34m(\u001B[0m\u001B[0;34m'output.tif'\u001B[0m\u001B[0;34m,\u001B[0m \u001B[0mshape\u001B[0m\u001B[0;34m=\u001B[0m\u001B[0;34m(\u001B[0m\u001B[0;36m0\u001B[0m\u001B[0;34m,\u001B[0m \u001B[0;36m1\u001B[0m\u001B[0;34m,\u001B[0m \u001B[0;36m2\u001B[0m\u001B[0;34m)\u001B[0m\u001B[0;34m)\u001B[0m  \u001B[0;31m# Frames, Rows, Columns\u001B[0m\u001B[0;34m\u001B[0m\u001B[0;34m\u001B[0m\u001B[0m\n",
      "\u001B[0;32m/opt/homebrew/anaconda3/envs/glioblastoma/lib/python3.11/site-packages/tifffile/tifffile.py\u001B[0m in \u001B[0;36m?\u001B[0;34m(file, data, mode, bigtiff, byteorder, imagej, ome, shaped, append, shape, dtype, photometric, planarconfig, extrasamples, volumetric, tile, rowsperstrip, bitspersample, compression, compressionargs, predictor, subsampling, jpegtables, colormap, description, datetime, resolution, resolutionunit, subfiletype, software, metadata, extratags, contiguous, truncate, align, maxworkers, buffersize, returnoffset)\u001B[0m\n\u001B[1;32m   1445\u001B[0m         \u001B[0mimagej\u001B[0m\u001B[0;34m=\u001B[0m\u001B[0mimagej\u001B[0m\u001B[0;34m,\u001B[0m\u001B[0;34m\u001B[0m\u001B[0;34m\u001B[0m\u001B[0m\n\u001B[1;32m   1446\u001B[0m         \u001B[0mome\u001B[0m\u001B[0;34m=\u001B[0m\u001B[0mome\u001B[0m\u001B[0;34m,\u001B[0m\u001B[0;34m\u001B[0m\u001B[0;34m\u001B[0m\u001B[0m\n\u001B[1;32m   1447\u001B[0m         \u001B[0mshaped\u001B[0m\u001B[0;34m=\u001B[0m\u001B[0mshaped\u001B[0m\u001B[0;34m,\u001B[0m\u001B[0;34m\u001B[0m\u001B[0;34m\u001B[0m\u001B[0m\n\u001B[1;32m   1448\u001B[0m     ) as tif:\n\u001B[0;32m-> 1449\u001B[0;31m         result = tif.write(\n\u001B[0m\u001B[1;32m   1450\u001B[0m             \u001B[0mdata\u001B[0m\u001B[0;34m,\u001B[0m\u001B[0;34m\u001B[0m\u001B[0;34m\u001B[0m\u001B[0m\n\u001B[1;32m   1451\u001B[0m             \u001B[0mshape\u001B[0m\u001B[0;34m=\u001B[0m\u001B[0mshape\u001B[0m\u001B[0;34m,\u001B[0m\u001B[0;34m\u001B[0m\u001B[0;34m\u001B[0m\u001B[0m\n\u001B[1;32m   1452\u001B[0m             \u001B[0mdtype\u001B[0m\u001B[0;34m=\u001B[0m\u001B[0mdtype\u001B[0m\u001B[0;34m,\u001B[0m\u001B[0;34m\u001B[0m\u001B[0;34m\u001B[0m\u001B[0m\n",
      "\u001B[0;32m/opt/homebrew/anaconda3/envs/glioblastoma/lib/python3.11/site-packages/tifffile/tifffile.py\u001B[0m in \u001B[0;36m?\u001B[0;34m(self, data, shape, dtype, photometric, planarconfig, extrasamples, volumetric, tile, rowsperstrip, bitspersample, compression, compressionargs, predictor, subsampling, jpegtables, colormap, description, datetime, resolution, resolutionunit, subfiletype, software, subifds, metadata, extratags, contiguous, truncate, align, maxworkers, buffersize, returnoffset)\u001B[0m\n\u001B[1;32m   2182\u001B[0m                     \u001B[0;34mf'dtype argument {dtype!r} does not match '\u001B[0m\u001B[0;34m\u001B[0m\u001B[0;34m\u001B[0m\u001B[0m\n\u001B[1;32m   2183\u001B[0m                     \u001B[0;34mf'data dtype {datadtype}'\u001B[0m\u001B[0;34m\u001B[0m\u001B[0;34m\u001B[0m\u001B[0m\n\u001B[1;32m   2184\u001B[0m                 )\n\u001B[1;32m   2185\u001B[0m             \u001B[0;32mif\u001B[0m \u001B[0mshape\u001B[0m \u001B[0;32mis\u001B[0m \u001B[0;32mnot\u001B[0m \u001B[0;32mNone\u001B[0m \u001B[0;32mand\u001B[0m \u001B[0mshape\u001B[0m \u001B[0;34m!=\u001B[0m \u001B[0mdataarray\u001B[0m\u001B[0;34m.\u001B[0m\u001B[0mshape\u001B[0m\u001B[0;34m:\u001B[0m\u001B[0;34m\u001B[0m\u001B[0;34m\u001B[0m\u001B[0m\n\u001B[0;32m-> 2186\u001B[0;31m                 raise ValueError(\n\u001B[0m\u001B[1;32m   2187\u001B[0m                     \u001B[0;34mf'shape argument {shape!r} does not match '\u001B[0m\u001B[0;34m\u001B[0m\u001B[0;34m\u001B[0m\u001B[0m\n\u001B[1;32m   2188\u001B[0m                     \u001B[0;34mf'data shape {dataarray.shape}'\u001B[0m\u001B[0;34m\u001B[0m\u001B[0;34m\u001B[0m\u001B[0m\n\u001B[1;32m   2189\u001B[0m                 )\n",
      "\u001B[0;31mValueError\u001B[0m: shape argument (0, 1, 2) does not match data shape (10, 512, 512)"
     ]
    }
   ],
   "source": [
    "import numpy as np\n",
    "import tifffile\n",
    "\n",
    "# Create a sample 3D array\n",
    "data = np.random.rand(10, 512, 512)  # 10 frames of 512x512 pixels each\n",
    "\n",
    "# Save the array with specified dimensions\n",
    "tifffile.imwrite('output.tif', data, shape=(0, 1, 2))  # Frames, Rows, Columns\n",
    "\n",
    "# Load the array with specified dimensions\n",
    "loaded_data = tifffile.imread('output.tif', shape=(0, 1, 2))  # Frames, Rows, Columns\n"
   ],
   "metadata": {
    "collapsed": false,
    "ExecuteTime": {
     "end_time": "2024-03-22T15:09:53.806984Z",
     "start_time": "2024-03-22T15:09:53.703602Z"
    }
   },
   "id": "dfb3b34fe14cd3de",
   "execution_count": 5
  },
  {
   "cell_type": "code",
   "outputs": [],
   "source": [],
   "metadata": {
    "collapsed": false
   },
   "id": "610f264fcb85c6ab"
  }
 ],
 "metadata": {
  "kernelspec": {
   "display_name": "Python 3",
   "language": "python",
   "name": "python3"
  },
  "language_info": {
   "codemirror_mode": {
    "name": "ipython",
    "version": 2
   },
   "file_extension": ".py",
   "mimetype": "text/x-python",
   "name": "python",
   "nbconvert_exporter": "python",
   "pygments_lexer": "ipython2",
   "version": "2.7.6"
  }
 },
 "nbformat": 4,
 "nbformat_minor": 5
}
