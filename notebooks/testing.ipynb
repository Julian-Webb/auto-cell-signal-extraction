{
 "cells": [
  {
   "cell_type": "code",
   "execution_count": 2,
   "id": "initial_id",
   "metadata": {
    "collapsed": true,
    "ExecuteTime": {
     "end_time": "2024-03-22T09:08:05.812715Z",
     "start_time": "2024-03-22T09:08:05.563402Z"
    }
   },
   "outputs": [],
   "source": [
    "import numpy as np\n",
    "import pandas as pd"
   ]
  },
  {
   "cell_type": "code",
   "outputs": [
    {
     "name": "stdout",
     "output_type": "stream",
     "text": [
      "r1_lin:  149\n"
     ]
    }
   ],
   "source": [
    "n_cols = 16\n",
    "n_rows = 12\n",
    "grid_shape = (n_cols, n_rows)\n",
    "\n",
    "r1_tup = (12, 5)\n",
    "r1_lin = n_rows * r1_tup[0] + r1_tup[1]\n",
    "print('r1_lin: ', r1_lin)\n",
    "r1_tup = (5, 12)\n",
    "r2_lin = 17\n",
    "\n"
   ],
   "metadata": {
    "collapsed": false,
    "ExecuteTime": {
     "end_time": "2024-03-21T14:11:25.154374Z",
     "start_time": "2024-03-21T14:11:25.148664Z"
    }
   },
   "id": "77fd950fc8ee868c",
   "execution_count": 16
  },
  {
   "cell_type": "code",
   "outputs": [
    {
     "data": {
      "text/plain": "(12, 5)"
     },
     "execution_count": 18,
     "metadata": {},
     "output_type": "execute_result"
    }
   ],
   "source": [
    "np.unravel_index(r1_lin, grid_shape, order='C')"
   ],
   "metadata": {
    "collapsed": false,
    "ExecuteTime": {
     "end_time": "2024-03-21T14:11:31.739854Z",
     "start_time": "2024-03-21T14:11:31.735462Z"
    }
   },
   "id": "752fcdb853a803e7",
   "execution_count": 18
  },
  {
   "cell_type": "code",
   "outputs": [],
   "source": [
    "n_horizontal, n_vertical, n_frames = 3, 2, 4\n",
    "shape = n_horizontal, n_vertical, n_frames\n",
    "n_values = n_horizontal * n_vertical * n_frames\n",
    "signals_arr = np.arange(start=0, stop=n_values)"
   ],
   "metadata": {
    "collapsed": false,
    "ExecuteTime": {
     "end_time": "2024-03-22T09:08:06.969539Z",
     "start_time": "2024-03-22T09:08:06.966183Z"
    }
   },
   "id": "67cbedf1731e3fb7",
   "execution_count": 3
  },
  {
   "cell_type": "code",
   "outputs": [],
   "source": [
    "signals_arr = signals_arr.reshape(shape)"
   ],
   "metadata": {
    "collapsed": false,
    "ExecuteTime": {
     "end_time": "2024-03-22T09:08:33.191324Z",
     "start_time": "2024-03-22T09:08:33.188282Z"
    }
   },
   "id": "657fc655cd12e200",
   "execution_count": 6
  },
  {
   "cell_type": "code",
   "outputs": [],
   "source": [
    "flattened = signals_arr.reshape((n_horizontal * n_vertical, n_frames), order='C')"
   ],
   "metadata": {
    "collapsed": false,
    "ExecuteTime": {
     "end_time": "2024-03-22T09:16:49.496654Z",
     "start_time": "2024-03-22T09:16:49.490158Z"
    }
   },
   "id": "3548329378ecdfa4",
   "execution_count": 19
  },
  {
   "cell_type": "code",
   "outputs": [
    {
     "data": {
      "text/plain": "array([[ 0,  1,  2,  3],\n       [ 4,  5,  6,  7],\n       [ 8,  9, 10, 11],\n       [12, 13, 14, 15],\n       [16, 17, 18, 19],\n       [20, 21, 22, 23]])"
     },
     "execution_count": 20,
     "metadata": {},
     "output_type": "execute_result"
    }
   ],
   "source": [
    "flattened"
   ],
   "metadata": {
    "collapsed": false,
    "ExecuteTime": {
     "end_time": "2024-03-22T09:16:51.998441Z",
     "start_time": "2024-03-22T09:16:51.995873Z"
    }
   },
   "id": "2392ee507dd34eee",
   "execution_count": 20
  },
  {
   "cell_type": "code",
   "outputs": [],
   "source": [],
   "metadata": {
    "collapsed": false
   },
   "id": "e01e3fe4a8122e71"
  }
 ],
 "metadata": {
  "kernelspec": {
   "display_name": "Python 3",
   "language": "python",
   "name": "python3"
  },
  "language_info": {
   "codemirror_mode": {
    "name": "ipython",
    "version": 2
   },
   "file_extension": ".py",
   "mimetype": "text/x-python",
   "name": "python",
   "nbconvert_exporter": "python",
   "pygments_lexer": "ipython2",
   "version": "2.7.6"
  }
 },
 "nbformat": 4,
 "nbformat_minor": 5
}
