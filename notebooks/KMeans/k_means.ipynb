{
 "cells": [
  {
   "metadata": {},
   "cell_type": "markdown",
   "source": "# 1. Practicing k Means",
   "id": "22604e54038149fb"
  },
  {
   "cell_type": "code",
   "id": "initial_id",
   "metadata": {
    "collapsed": true,
    "ExecuteTime": {
     "end_time": "2024-05-16T13:11:48.873979Z",
     "start_time": "2024-05-16T13:11:48.862787Z"
    }
   },
   "source": [
    "import seaborn as sns\n",
    "import matplotlib.pyplot as plt\n",
    "%matplotlib inline"
   ],
   "execution_count": 1,
   "outputs": []
  },
  {
   "metadata": {
    "ExecuteTime": {
     "end_time": "2024-05-16T13:11:49.013003Z",
     "start_time": "2024-05-16T13:11:48.874938Z"
    }
   },
   "cell_type": "code",
   "source": [
    "from sklearn.datasets import make_blobs\n",
    "\n",
    "data = make_blobs(n_samples=200, n_features=2, centers=4, cluster_std=1.8, random_state=101)\n",
    "print(f'{data[0].shape=}')\n",
    "data[0][:10, :]"
   ],
   "id": "989788c189b40aad",
   "execution_count": 2,
   "outputs": []
  },
  {
   "metadata": {
    "ExecuteTime": {
     "end_time": "2024-05-16T13:11:49.087138Z",
     "start_time": "2024-05-16T13:11:49.013859Z"
    }
   },
   "cell_type": "code",
   "source": "plt.scatter(data[0][:, 0], data[0][:, 1], c=data[1], cmap='rainbow')",
   "id": "6724f585d2c45eac",
   "execution_count": 3,
   "outputs": []
  },
  {
   "metadata": {
    "ExecuteTime": {
     "end_time": "2024-05-16T13:11:49.252797Z",
     "start_time": "2024-05-16T13:11:49.087702Z"
    }
   },
   "cell_type": "code",
   "source": [
    "from sklearn.cluster import KMeans\n",
    "\n",
    "kmeans = KMeans(n_clusters=4,\n",
    "                # n_init='auto'\n",
    "                )\n",
    "kmeans.fit(data[0])"
   ],
   "id": "ea738b3e508a538e",
   "execution_count": 4,
   "outputs": []
  },
  {
   "metadata": {
    "ExecuteTime": {
     "end_time": "2024-05-16T13:11:49.256666Z",
     "start_time": "2024-05-16T13:11:49.254345Z"
    }
   },
   "cell_type": "code",
   "source": "kmeans.cluster_centers_",
   "id": "c9e12197301303e2",
   "execution_count": 5,
   "outputs": []
  },
  {
   "metadata": {
    "ExecuteTime": {
     "end_time": "2024-05-16T13:11:49.259436Z",
     "start_time": "2024-05-16T13:11:49.257234Z"
    }
   },
   "cell_type": "code",
   "source": "kmeans.labels_",
   "id": "492efc6cb0c06721",
   "execution_count": 6,
   "outputs": []
  },
  {
   "metadata": {
    "ExecuteTime": {
     "end_time": "2024-05-16T13:11:49.398046Z",
     "start_time": "2024-05-16T13:11:49.260006Z"
    }
   },
   "cell_type": "code",
   "source": [
    "fig, (ax1, ax2) = plt.subplots(1, 2, sharey=True, figsize=(10, 6))\n",
    "ax1.set_title('K Means')\n",
    "ax1.scatter(data[0][:, 0], data[0][:, 1], c=kmeans.labels_, cmap='rainbow')\n",
    "\n",
    "ax2.set_title('Original')\n",
    "ax2.scatter(data[0][:, 0], data[0][:, 1], c=data[1], cmap='rainbow')"
   ],
   "id": "7deb45c8ed72fc47",
   "execution_count": 7,
   "outputs": []
  },
  {
   "metadata": {},
   "cell_type": "markdown",
   "source": [
    "# K Means with Spatial Location\n",
    "The weights would be higher for the spatial location of the ROIs"
   ],
   "id": "22fdfc6237cfe783"
  },
  {
   "metadata": {
    "ExecuteTime": {
     "end_time": "2024-05-16T14:40:21.378118Z",
     "start_time": "2024-05-16T14:40:21.376262Z"
    }
   },
   "cell_type": "code",
   "source": [
    "# init\n",
    "import numpy as np\n",
    "from src.utils.ROI import ROI\n",
    "import pandas as pd\n",
    "\n",
    "n_frames = 10000"
   ],
   "id": "2229d22cb46811a9",
   "execution_count": 63,
   "outputs": []
  },
  {
   "metadata": {
    "ExecuteTime": {
     "end_time": "2024-05-16T14:40:21.674392Z",
     "start_time": "2024-05-16T14:40:21.665546Z"
    }
   },
   "cell_type": "code",
   "source": [
    "# generate signals\n",
    "rois = [ROI(x, y) for x in range(4) for y in range(4)]\n",
    "roi_signals = {roi: np.random.uniform(low=-50, high=50, size=n_frames) for roi in rois}\n",
    "signals_df = pd.DataFrame(roi_signals)\n",
    "print(f'{signals_df.shape=}')\n",
    "signals_df.head()"
   ],
   "id": "43b39d01962b3aa7",
   "execution_count": 64,
   "outputs": []
  },
  {
   "metadata": {
    "ExecuteTime": {
     "end_time": "2024-05-16T14:40:22.980399Z",
     "start_time": "2024-05-16T14:40:22.966067Z"
    }
   },
   "cell_type": "code",
   "source": [
    "# add spatial indexes\n",
    "ROI.WIDTH_PIXELS = ROI.HEIGHT_PIXELS = 16\n",
    "\n",
    "spatial_idxs = {roi: [roi.center_pixels().x, roi.center_pixels().y] for roi in rois}\n",
    "spatial_idxs = pd.DataFrame(spatial_idxs, index=['x_center', 'y_center'])\n",
    "\n",
    "# normalizing signals\n",
    "max_absolute_signal_value = signals_df.abs().max().max()\n",
    "normalized_signals = signals_df / max_absolute_signal_value\n",
    "\n",
    "# concatenate signals and spatial indexes\n",
    "signals_indexes = pd.concat([spatial_idxs, normalized_signals])\n",
    "\n",
    "# we convert the index to str because KMeans doesn't accept mixed indexes\n",
    "signals_indexes.index = signals_indexes.index.astype(str)\n",
    "\n",
    "print(f'{signals_indexes.shape=}')\n",
    "\n",
    "signals_indexes\n",
    "# normalized_signals"
   ],
   "id": "6bce5da0e6ade8ba",
   "execution_count": 65,
   "outputs": []
  },
  {
   "metadata": {
    "ExecuteTime": {
     "end_time": "2024-05-16T14:40:26.169525Z",
     "start_time": "2024-05-16T14:40:26.162471Z"
    }
   },
   "cell_type": "code",
   "source": [
    "# testing distances \n",
    "from scipy.spatial.distance import euclidean\n",
    "\n",
    "roi00 = rois[0]\n",
    "roi11 = rois[5]\n",
    "\n",
    "dists = {\n",
    "    'Original Signals:': euclidean(signals_df[roi00], signals_df[roi11]),\n",
    "    'Normalized Signals:': euclidean(normalized_signals[roi00], normalized_signals[roi11]),\n",
    "    'Spatial Distance:': euclidean(spatial_idxs[roi00], spatial_idxs[roi11]),\n",
    "    'Normalized Signals with spatial indexes:': euclidean(signals_indexes[roi00], signals_indexes[roi11]),\n",
    "}\n",
    "\n",
    "for key, value in dists.items():\n",
    "    print(f'{key}: {value:.2f}')\n",
    "\n",
    "print(f'| {n_frames} |', end='')\n",
    "for _, value in dists.items():\n",
    "    print(f'{value:.2f}', end=' | ')\n"
   ],
   "id": "f192c7644fe22eb9",
   "execution_count": 66,
   "outputs": []
  },
  {
   "metadata": {},
   "cell_type": "markdown",
   "source": [
    "Distances:\n",
    "\n",
    "| n_frames | Original Signals: | Normalized Signals: | Spatial Distance: | Normalized Signals with spatial indexes: |\n",
    "|----------|-------------------|---------------------|-------------------|------------------------------------------|\n",
    "| 10000    | 4088.13           | 81.76               | 22.63             | 84.84                                    |\n",
    "| 1000     | 1239.32           | 24.79               | 22.63             | 33.56                                    |\n",
    "| 100      | 414.84            | 8.30                | 22.63             | 24.10                                    |\n",
    "| 20       | 162.93            | 3.27                | 22.62             | 22.86                                    |\n",
    "| 20       | 188.51            | 3.77                | 22.63             | 22.94                                    |\n",
    "| 3        | 39.95             | 0.82                | 22.63             | 22.64                                    |\n",
    "\n",
    "-> The final distance depends heavily on the number of frames. The more frames, the more the spatial indexes will weigh. \n",
    "We don't want this. The signal distance should not be taken into account more, if there are more frames.\n",
    "-> Hence, we need to weigh/normalize based on the dimensions of the image, the amplitude of the signal, and the number of frames (time steps)."
   ],
   "id": "610d3773e09be345"
  },
  {
   "metadata": {
    "ExecuteTime": {
     "end_time": "2024-05-16T13:14:31.125688Z",
     "start_time": "2024-05-16T13:14:31.114867Z"
    }
   },
   "cell_type": "code",
   "source": [
    "from sklearn.cluster import KMeans\n",
    "\n",
    "kmeans = KMeans(n_clusters=4, n_init='auto')\n",
    "# IMPORTANT: signals_df needs to be transposed here because a format of (n_samples, n_features) is expected\n",
    "# n_samples is the number of ROIs and n_features is the number of frames + the 2 spatial indexes\n",
    "kmeans.fit(signals_indexes.T)"
   ],
   "id": "d941f9526e9a0ab0",
   "execution_count": 19,
   "outputs": []
  },
  {
   "metadata": {
    "ExecuteTime": {
     "end_time": "2024-05-16T13:14:31.831682Z",
     "start_time": "2024-05-16T13:14:31.828045Z"
    }
   },
   "cell_type": "code",
   "source": "kmeans.labels_",
   "id": "82d464d4277f5c3e",
   "execution_count": 20,
   "outputs": []
  },
  {
   "metadata": {
    "ExecuteTime": {
     "end_time": "2024-05-16T14:41:49.582361Z",
     "start_time": "2024-05-16T14:41:49.580194Z"
    }
   },
   "cell_type": "code",
   "source": "roi_cluster_dict = dict(zip(rois, kmeans.labels_))",
   "id": "c6b5b9fbb996fb29",
   "execution_count": 67,
   "outputs": []
  },
  {
   "metadata": {},
   "cell_type": "markdown",
   "source": [
    "# 3. Weighted K Means\n",
    "\n",
    "We need to weigh/normalize based on the dimensions of the image, the amplitude of the signal, and the number of frames (time steps).\n",
    "\n",
    "We want to introduce a factor that lets us weigh the spatial indexes more than the signals.\n"
   ],
   "id": "c0ef8780c6795400"
  },
  {
   "metadata": {
    "ExecuteTime": {
     "end_time": "2024-05-16T13:23:54.750995Z",
     "start_time": "2024-05-16T13:23:54.747942Z"
    }
   },
   "cell_type": "code",
   "source": [
    "from collections import namedtuple\n",
    "# init\n",
    "import numpy as np\n",
    "from src.utils.ROI import ROI\n",
    "import pandas as pd\n",
    "\n",
    "Dimensions = namedtuple('Dimensions', ['width', 'height'])"
   ],
   "id": "a3ffe33fb86416d9",
   "execution_count": 28,
   "outputs": []
  },
  {
   "metadata": {
    "ExecuteTime": {
     "end_time": "2024-05-16T13:24:44.359947Z",
     "start_time": "2024-05-16T13:24:44.357078Z"
    }
   },
   "cell_type": "code",
   "source": [
    "# Vars\n",
    "n_frames = 4\n",
    "ROI.N_VERTICAL = ROI.N_HORIZONTAL = 4\n",
    "ROI.HEIGHT_PIXELS = ROI.WIDTH_PIXELS = 32\n",
    "img_dims = Dimensions(ROI.WIDTH_PIXELS * ROI.N_HORIZONTAL, ROI.HEIGHT_PIXELS * ROI.N_VERTICAL)\n",
    "print(f'{img_dims=}')"
   ],
   "id": "ba9d2777375f3253",
   "execution_count": 35,
   "outputs": []
  },
  {
   "metadata": {
    "ExecuteTime": {
     "end_time": "2024-05-16T13:24:54.224292Z",
     "start_time": "2024-05-16T13:24:54.219711Z"
    }
   },
   "cell_type": "code",
   "source": [
    "# generate signals\n",
    "rois = [ROI(x, y) for x in range(4) for y in range(4)]\n",
    "signals_df = pd.DataFrame({roi: np.random.uniform(low=-50, high=50, size=n_frames) for roi in rois})\n",
    "print(f'{signals_df.shape=}')\n",
    "# signals_df.head()"
   ],
   "id": "1d542d2a9d4a756e",
   "execution_count": 36,
   "outputs": []
  },
  {
   "metadata": {
    "ExecuteTime": {
     "end_time": "2024-05-16T13:26:03.957655Z",
     "start_time": "2024-05-16T13:26:03.951871Z"
    }
   },
   "cell_type": "code",
   "source": [
    "# generate indexes\n",
    "spatial_indexes = pd.DataFrame({roi: [roi.center_pixels().x, roi.center_pixels().y] for roi in rois}, index=['x_center', 'y_center'])\n",
    "spatial_indexes"
   ],
   "id": "c656a390988b8ffe",
   "execution_count": 38,
   "outputs": []
  },
  {
   "metadata": {
    "ExecuteTime": {
     "end_time": "2024-05-16T14:17:49.443175Z",
     "start_time": "2024-05-16T14:17:49.430347Z"
    }
   },
   "cell_type": "code",
   "source": [
    "# normalize signals based on the spatial to signal ratio (how much the spatial indexes should weigh)\n",
    "spatial_weight = 0.2\n",
    "signals_df"
   ],
   "id": "647454d4b20b6e47",
   "execution_count": 39,
   "outputs": []
  },
  {
   "metadata": {},
   "cell_type": "code",
   "execution_count": null,
   "source": "",
   "id": "efe322003a2f4e54",
   "outputs": []
  }
 ],
 "metadata": {
  "kernelspec": {
   "display_name": "Python 3",
   "language": "python",
   "name": "python3"
  },
  "language_info": {
   "codemirror_mode": {
    "name": "ipython",
    "version": 2
   },
   "file_extension": ".py",
   "mimetype": "text/x-python",
   "name": "python",
   "nbconvert_exporter": "python",
   "pygments_lexer": "ipython2",
   "version": "2.7.6"
  }
 },
 "nbformat": 4,
 "nbformat_minor": 5
}
