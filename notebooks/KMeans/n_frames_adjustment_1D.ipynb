{
 "cells": [
  {
   "metadata": {},
   "cell_type": "markdown",
   "source": "## 1-Dimensional ROIs",
   "id": "10f44774efe2066b"
  },
  {
   "metadata": {},
   "cell_type": "markdown",
   "source": "## Adjusting for the number of frames",
   "id": "77f1b685510ebba1"
  },
  {
   "cell_type": "code",
   "id": "initial_id",
   "metadata": {
    "collapsed": true,
    "ExecuteTime": {
     "end_time": "2024-05-17T09:27:26.807822Z",
     "start_time": "2024-05-17T09:27:26.805496Z"
    }
   },
   "source": [
    "# init\n",
    "import numpy as np\n",
    "import pandas as pd\n",
    "from statistics import mean\n",
    "\n",
    "\n",
    "class Roi1D:\n",
    "    N_HORIZONTAL: int = None\n",
    "    WIDTH: int = None\n",
    "\n",
    "    def __init__(self, x_idx):\n",
    "        self.x_idx = x_idx\n",
    "\n",
    "    def __repr__(self):\n",
    "        return f'Roi1D({self.x_idx})'\n",
    "\n",
    "    def __str__(self):\n",
    "        return f'Roi1D({self.x_idx})'\n",
    "\n",
    "    def coordinates(self):\n",
    "        \"\"\"Inclusive lower and upper pixel indexes\"\"\"\n",
    "        left = self.x_idx * Roi1D.WIDTH\n",
    "        return [left, left + Roi1D.WIDTH - 1]\n",
    "\n",
    "    def center(self):\n",
    "        return mean(self.coordinates())"
   ],
   "outputs": [],
   "execution_count": 1
  },
  {
   "metadata": {
    "ExecuteTime": {
     "end_time": "2024-05-17T09:27:26.810603Z",
     "start_time": "2024-05-17T09:27:26.808482Z"
    }
   },
   "cell_type": "code",
   "source": [
    "def make_vars(n_horizontal, roi_width, n_frames):\n",
    "    Roi1D.N_HORIZONTAL = n_horizontal\n",
    "    Roi1D.WIDTH = roi_width\n",
    "    rois = [Roi1D(x) for x in range(Roi1D.N_HORIZONTAL)]\n",
    "    signals_df = pd.DataFrame({roi: np.full(shape=n_frames, fill_value=roi.center()) for roi in rois})\n",
    "    spatial_indexes = pd.DataFrame({roi: [roi.center()] for roi in rois}, index=['center'])\n",
    "    signals_indexes = pd.concat([spatial_indexes, signals_df])\n",
    "    return rois, signals_df, spatial_indexes, signals_indexes"
   ],
   "id": "5a8d7f2a6a61c632",
   "outputs": [],
   "execution_count": 2
  },
  {
   "metadata": {
    "ExecuteTime": {
     "end_time": "2024-05-17T09:27:26.939534Z",
     "start_time": "2024-05-17T09:27:26.811830Z"
    }
   },
   "cell_type": "code",
   "source": [
    "n_frames = 10\n",
    "rois, signals_df, spatial_indexes, signals_indexes = make_vars(n_horizontal=4, roi_width=4, n_frames=n_frames)\n",
    "signals_df.plot()"
   ],
   "id": "bfb8de5cb7e192fe",
   "outputs": [
    {
     "data": {
      "text/plain": [
       "<Axes: >"
      ]
     },
     "execution_count": 3,
     "metadata": {},
     "output_type": "execute_result"
    },
    {
     "data": {
      "text/plain": [
       "<Figure size 640x480 with 1 Axes>"
      ],
      "image/png": "[encoded data removed]"
     },
     "metadata": {},
     "output_type": "display_data"
    }
   ],
   "execution_count": 3
  },
  {
   "metadata": {
    "ExecuteTime": {
     "end_time": "2024-05-17T09:27:26.945743Z",
     "start_time": "2024-05-17T09:27:26.940107Z"
    }
   },
   "cell_type": "code",
   "source": "signals_indexes",
   "id": "d67c887ff67efe6e",
   "outputs": [
    {
     "data": {
      "text/plain": [
       "        Roi1D(0)  Roi1D(1)  Roi1D(2)  Roi1D(3)\n",
       "center       1.5       5.5       9.5      13.5\n",
       "0            1.5       5.5       9.5      13.5\n",
       "1            1.5       5.5       9.5      13.5\n",
       "2            1.5       5.5       9.5      13.5\n",
       "3            1.5       5.5       9.5      13.5\n",
       "4            1.5       5.5       9.5      13.5\n",
       "5            1.5       5.5       9.5      13.5\n",
       "6            1.5       5.5       9.5      13.5\n",
       "7            1.5       5.5       9.5      13.5\n",
       "8            1.5       5.5       9.5      13.5\n",
       "9            1.5       5.5       9.5      13.5"
      ],
      "text/html": [
       "<div>\n",
       "<style scoped>\n",
       "    .dataframe tbody tr th:only-of-type {\n",
       "        vertical-align: middle;\n",
       "    }\n",
       "\n",
       "    .dataframe tbody tr th {\n",
       "        vertical-align: top;\n",
       "    }\n",
       "\n",
       "    .dataframe thead th {\n",
       "        text-align: right;\n",
       "    }\n",
       "</style>\n",
       "<table border=\"1\" class=\"dataframe\">\n",
       "  <thead>\n",
       "    <tr style=\"text-align: right;\">\n",
       "      <th></th>\n",
       "      <th>Roi1D(0)</th>\n",
       "      <th>Roi1D(1)</th>\n",
       "      <th>Roi1D(2)</th>\n",
       "      <th>Roi1D(3)</th>\n",
       "    </tr>\n",
       "  </thead>\n",
       "  <tbody>\n",
       "    <tr>\n",
       "      <th>center</th>\n",
       "      <td>1.5</td>\n",
       "      <td>5.5</td>\n",
       "      <td>9.5</td>\n",
       "      <td>13.5</td>\n",
       "    </tr>\n",
       "    <tr>\n",
       "      <th>0</th>\n",
       "      <td>1.5</td>\n",
       "      <td>5.5</td>\n",
       "      <td>9.5</td>\n",
       "      <td>13.5</td>\n",
       "    </tr>\n",
       "    <tr>\n",
       "      <th>1</th>\n",
       "      <td>1.5</td>\n",
       "      <td>5.5</td>\n",
       "      <td>9.5</td>\n",
       "      <td>13.5</td>\n",
       "    </tr>\n",
       "    <tr>\n",
       "      <th>2</th>\n",
       "      <td>1.5</td>\n",
       "      <td>5.5</td>\n",
       "      <td>9.5</td>\n",
       "      <td>13.5</td>\n",
       "    </tr>\n",
       "    <tr>\n",
       "      <th>3</th>\n",
       "      <td>1.5</td>\n",
       "      <td>5.5</td>\n",
       "      <td>9.5</td>\n",
       "      <td>13.5</td>\n",
       "    </tr>\n",
       "    <tr>\n",
       "      <th>4</th>\n",
       "      <td>1.5</td>\n",
       "      <td>5.5</td>\n",
       "      <td>9.5</td>\n",
       "      <td>13.5</td>\n",
       "    </tr>\n",
       "    <tr>\n",
       "      <th>5</th>\n",
       "      <td>1.5</td>\n",
       "      <td>5.5</td>\n",
       "      <td>9.5</td>\n",
       "      <td>13.5</td>\n",
       "    </tr>\n",
       "    <tr>\n",
       "      <th>6</th>\n",
       "      <td>1.5</td>\n",
       "      <td>5.5</td>\n",
       "      <td>9.5</td>\n",
       "      <td>13.5</td>\n",
       "    </tr>\n",
       "    <tr>\n",
       "      <th>7</th>\n",
       "      <td>1.5</td>\n",
       "      <td>5.5</td>\n",
       "      <td>9.5</td>\n",
       "      <td>13.5</td>\n",
       "    </tr>\n",
       "    <tr>\n",
       "      <th>8</th>\n",
       "      <td>1.5</td>\n",
       "      <td>5.5</td>\n",
       "      <td>9.5</td>\n",
       "      <td>13.5</td>\n",
       "    </tr>\n",
       "    <tr>\n",
       "      <th>9</th>\n",
       "      <td>1.5</td>\n",
       "      <td>5.5</td>\n",
       "      <td>9.5</td>\n",
       "      <td>13.5</td>\n",
       "    </tr>\n",
       "  </tbody>\n",
       "</table>\n",
       "</div>"
      ]
     },
     "execution_count": 4,
     "metadata": {},
     "output_type": "execute_result"
    }
   ],
   "execution_count": 4
  },
  {
   "metadata": {
    "ExecuteTime": {
     "end_time": "2024-05-17T09:54:46.123536Z",
     "start_time": "2024-05-17T09:54:46.119594Z"
    }
   },
   "cell_type": "code",
   "source": [
    "from scipy.spatial.distance import euclidean\n",
    "\n",
    "def add_distances_to_df(dists, n_frames, roi0, roi1, signals_df, spatial_indexes, signals_indexes):\n",
    "        dists.loc[n_frames, 'Original Signal Distance'] = euclidean(signals_df[roi0], signals_df[roi1])\n",
    "        #     # 'Normalized Signals:': euclidean(normalized_signals[roi0], normalized_signals[roi1]),\n",
    "        dists.loc[n_frames, 'Spatial Distance'] = euclidean(spatial_indexes[roi0], spatial_indexes[roi1])\n",
    "        dists.loc[n_frames, 'Signals and spatial indexes Distance'] = euclidean(signals_indexes[roi0],\n",
    "                                                                                signals_indexes[roi1])"
   ],
   "id": "f64b53af1d6b4a0f",
   "outputs": [],
   "execution_count": 18
  },
  {
   "metadata": {
    "ExecuteTime": {
     "end_time": "2024-05-17T09:54:46.704566Z",
     "start_time": "2024-05-17T09:54:46.682243Z"
    }
   },
   "cell_type": "code",
   "source": [
    "distances = pd.DataFrame()\n",
    "for n_frames in [1, 2, 3, 5, 10, 50, 100, 1_000, 10_000, 100_000]:\n",
    "    rois, signals_df, spatial_indexes, signals_indexes = make_vars(n_horizontal=4, roi_width=4, n_frames=n_frames)\n",
    "    add_distances_to_df(distances, n_frames, rois[0], rois[1], signals_df, spatial_indexes, signals_indexes)\n",
    "distances"
   ],
   "id": "2bfa742c2141d579",
   "outputs": [
    {
     "data": {
      "text/plain": [
       "        Original Signal Distance  Spatial Distance  \\\n",
       "1                       4.000000               4.0   \n",
       "2                       5.656854               4.0   \n",
       "3                       6.928203               4.0   \n",
       "5                       8.944272               4.0   \n",
       "10                     12.649111               4.0   \n",
       "50                     28.284271               4.0   \n",
       "100                    40.000000               4.0   \n",
       "1000                  126.491106               4.0   \n",
       "10000                 400.000000               4.0   \n",
       "100000               1264.911064               4.0   \n",
       "\n",
       "        Signals and spatial indexes Distance  \n",
       "1                                   5.656854  \n",
       "2                                   6.928203  \n",
       "3                                   8.000000  \n",
       "5                                   9.797959  \n",
       "10                                 13.266499  \n",
       "50                                 28.565714  \n",
       "100                                40.199502  \n",
       "1000                              126.554336  \n",
       "10000                             400.020000  \n",
       "100000                           1264.917389  "
      ],
      "text/html": [
       "<div>\n",
       "<style scoped>\n",
       "    .dataframe tbody tr th:only-of-type {\n",
       "        vertical-align: middle;\n",
       "    }\n",
       "\n",
       "    .dataframe tbody tr th {\n",
       "        vertical-align: top;\n",
       "    }\n",
       "\n",
       "    .dataframe thead th {\n",
       "        text-align: right;\n",
       "    }\n",
       "</style>\n",
       "<table border=\"1\" class=\"dataframe\">\n",
       "  <thead>\n",
       "    <tr style=\"text-align: right;\">\n",
       "      <th></th>\n",
       "      <th>Original Signal Distance</th>\n",
       "      <th>Spatial Distance</th>\n",
       "      <th>Signals and spatial indexes Distance</th>\n",
       "    </tr>\n",
       "  </thead>\n",
       "  <tbody>\n",
       "    <tr>\n",
       "      <th>1</th>\n",
       "      <td>4.000000</td>\n",
       "      <td>4.0</td>\n",
       "      <td>5.656854</td>\n",
       "    </tr>\n",
       "    <tr>\n",
       "      <th>2</th>\n",
       "      <td>5.656854</td>\n",
       "      <td>4.0</td>\n",
       "      <td>6.928203</td>\n",
       "    </tr>\n",
       "    <tr>\n",
       "      <th>3</th>\n",
       "      <td>6.928203</td>\n",
       "      <td>4.0</td>\n",
       "      <td>8.000000</td>\n",
       "    </tr>\n",
       "    <tr>\n",
       "      <th>5</th>\n",
       "      <td>8.944272</td>\n",
       "      <td>4.0</td>\n",
       "      <td>9.797959</td>\n",
       "    </tr>\n",
       "    <tr>\n",
       "      <th>10</th>\n",
       "      <td>12.649111</td>\n",
       "      <td>4.0</td>\n",
       "      <td>13.266499</td>\n",
       "    </tr>\n",
       "    <tr>\n",
       "      <th>50</th>\n",
       "      <td>28.284271</td>\n",
       "      <td>4.0</td>\n",
       "      <td>28.565714</td>\n",
       "    </tr>\n",
       "    <tr>\n",
       "      <th>100</th>\n",
       "      <td>40.000000</td>\n",
       "      <td>4.0</td>\n",
       "      <td>40.199502</td>\n",
       "    </tr>\n",
       "    <tr>\n",
       "      <th>1000</th>\n",
       "      <td>126.491106</td>\n",
       "      <td>4.0</td>\n",
       "      <td>126.554336</td>\n",
       "    </tr>\n",
       "    <tr>\n",
       "      <th>10000</th>\n",
       "      <td>400.000000</td>\n",
       "      <td>4.0</td>\n",
       "      <td>400.020000</td>\n",
       "    </tr>\n",
       "    <tr>\n",
       "      <th>100000</th>\n",
       "      <td>1264.911064</td>\n",
       "      <td>4.0</td>\n",
       "      <td>1264.917389</td>\n",
       "    </tr>\n",
       "  </tbody>\n",
       "</table>\n",
       "</div>"
      ]
     },
     "execution_count": 19,
     "metadata": {},
     "output_type": "execute_result"
    }
   ],
   "execution_count": 19
  },
  {
   "metadata": {},
   "cell_type": "markdown",
   "source": [
    "## Formulas\n",
    "#### Euclidean Distance\n",
    "$a$: roi1  \n",
    "$b$: roi2  \n",
    "$c$: center  \n",
    "$s$: signal  \n",
    "$n$: number of frames  \n",
    "$E(a,b) = \\sqrt{ (c^{(a)} - c^{(b)})^2 + \\sum_{i=0}^{n-1} (s^{(a)}_i - s^{(b)}_i)^2}$"
   ],
   "id": "11e660bb60d73933"
  },
  {
   "metadata": {},
   "cell_type": "markdown",
   "source": [
    "-> The left and right terms should be weighed equally, because the spatial distance should be weighed as heavily as the signal distance, but if $n>1$ the right part larger than the left part.  \n",
    "-> To compensate for this, we multiply the left part by $n$.  \n",
    "This gives us $n(c^{(a)} - c^{(b)})^2 $\n",
    "$=(\\sqrt n c^{(a)} - \\sqrt n c^{(b)})^2$  \n",
    "-> Thus, we scale the centers by $\\sqrt n$ to weigh them equally and get the following formula:\n",
    "\n",
    "$E(a,b) = \\sqrt{ (\\sqrt n c^{(a)} - \\sqrt n c^{(b)})^2 + \\sum_{i=0}^{n-1} (s^{(a)}_i - s^{(b)}_i)^2}$"
   ],
   "id": "fc1eeedf33e8f681"
  },
  {
   "metadata": {
    "ExecuteTime": {
     "end_time": "2024-05-17T09:54:57.972642Z",
     "start_time": "2024-05-17T09:54:57.944047Z"
    }
   },
   "cell_type": "code",
   "source": [
    "distances = pd.DataFrame()\n",
    "for n_frames in [1, 2, 3, 5, 10, 50, 100, 1_000, 10_000, 100_000]:\n",
    "    rois, signals_df, spatial_indexes, _ = make_vars(n_horizontal=4, roi_width=4, n_frames=n_frames)\n",
    "    # -------------------------- THIS IS THE IMPORTANT ADJUSTMENT: -----------\n",
    "    spatial_indexes *= np.sqrt(n_frames)\n",
    "    # ------------------------------------------------------------------------\n",
    "    signals_indexes = pd.concat([spatial_indexes, signals_df])\n",
    "    add_distances_to_df(distances, n_frames, rois[1], rois[3], signals_df, spatial_indexes, signals_indexes)\n",
    "distances"
   ],
   "id": "18b1f9a2c67841a3",
   "outputs": [
    {
     "data": {
      "text/plain": [
       "        Original Signal Distance  Spatial Distance  \\\n",
       "1                       8.000000          8.000000   \n",
       "2                      11.313708         11.313708   \n",
       "3                      13.856406         13.856406   \n",
       "5                      17.888544         17.888544   \n",
       "10                     25.298221         25.298221   \n",
       "50                     56.568542         56.568542   \n",
       "100                    80.000000         80.000000   \n",
       "1000                  252.982213        252.982213   \n",
       "10000                 800.000000        800.000000   \n",
       "100000               2529.822128       2529.822128   \n",
       "\n",
       "        Signals and spatial indexes Distance  \n",
       "1                                  11.313708  \n",
       "2                                  16.000000  \n",
       "3                                  19.595918  \n",
       "5                                  25.298221  \n",
       "10                                 35.777088  \n",
       "50                                 80.000000  \n",
       "100                               113.137085  \n",
       "1000                              357.770876  \n",
       "10000                            1131.370850  \n",
       "100000                           3577.708764  "
      ],
      "text/html": [
       "<div>\n",
       "<style scoped>\n",
       "    .dataframe tbody tr th:only-of-type {\n",
       "        vertical-align: middle;\n",
       "    }\n",
       "\n",
       "    .dataframe tbody tr th {\n",
       "        vertical-align: top;\n",
       "    }\n",
       "\n",
       "    .dataframe thead th {\n",
       "        text-align: right;\n",
       "    }\n",
       "</style>\n",
       "<table border=\"1\" class=\"dataframe\">\n",
       "  <thead>\n",
       "    <tr style=\"text-align: right;\">\n",
       "      <th></th>\n",
       "      <th>Original Signal Distance</th>\n",
       "      <th>Spatial Distance</th>\n",
       "      <th>Signals and spatial indexes Distance</th>\n",
       "    </tr>\n",
       "  </thead>\n",
       "  <tbody>\n",
       "    <tr>\n",
       "      <th>1</th>\n",
       "      <td>8.000000</td>\n",
       "      <td>8.000000</td>\n",
       "      <td>11.313708</td>\n",
       "    </tr>\n",
       "    <tr>\n",
       "      <th>2</th>\n",
       "      <td>11.313708</td>\n",
       "      <td>11.313708</td>\n",
       "      <td>16.000000</td>\n",
       "    </tr>\n",
       "    <tr>\n",
       "      <th>3</th>\n",
       "      <td>13.856406</td>\n",
       "      <td>13.856406</td>\n",
       "      <td>19.595918</td>\n",
       "    </tr>\n",
       "    <tr>\n",
       "      <th>5</th>\n",
       "      <td>17.888544</td>\n",
       "      <td>17.888544</td>\n",
       "      <td>25.298221</td>\n",
       "    </tr>\n",
       "    <tr>\n",
       "      <th>10</th>\n",
       "      <td>25.298221</td>\n",
       "      <td>25.298221</td>\n",
       "      <td>35.777088</td>\n",
       "    </tr>\n",
       "    <tr>\n",
       "      <th>50</th>\n",
       "      <td>56.568542</td>\n",
       "      <td>56.568542</td>\n",
       "      <td>80.000000</td>\n",
       "    </tr>\n",
       "    <tr>\n",
       "      <th>100</th>\n",
       "      <td>80.000000</td>\n",
       "      <td>80.000000</td>\n",
       "      <td>113.137085</td>\n",
       "    </tr>\n",
       "    <tr>\n",
       "      <th>1000</th>\n",
       "      <td>252.982213</td>\n",
       "      <td>252.982213</td>\n",
       "      <td>357.770876</td>\n",
       "    </tr>\n",
       "    <tr>\n",
       "      <th>10000</th>\n",
       "      <td>800.000000</td>\n",
       "      <td>800.000000</td>\n",
       "      <td>1131.370850</td>\n",
       "    </tr>\n",
       "    <tr>\n",
       "      <th>100000</th>\n",
       "      <td>2529.822128</td>\n",
       "      <td>2529.822128</td>\n",
       "      <td>3577.708764</td>\n",
       "    </tr>\n",
       "  </tbody>\n",
       "</table>\n",
       "</div>"
      ]
     },
     "execution_count": 20,
     "metadata": {},
     "output_type": "execute_result"
    }
   ],
   "execution_count": 20
  },
  {
   "metadata": {},
   "cell_type": "markdown",
   "source": "#### -> The spatial and signal distance is now weighed equally for all `n_frames`.",
   "id": "4a39e048ef4fb2ca"
  },
  {
   "metadata": {},
   "cell_type": "code",
   "outputs": [],
   "execution_count": null,
   "source": "",
   "id": "908207ef2aa9f650"
  }
 ],
 "metadata": {
  "kernelspec": {
   "display_name": "Python 3",
   "language": "python",
   "name": "python3"
  },
  "language_info": {
   "codemirror_mode": {
    "name": "ipython",
    "version": 2
   },
   "file_extension": ".py",
   "mimetype": "text/x-python",
   "name": "python",
   "nbconvert_exporter": "python",
   "pygments_lexer": "ipython2",
   "version": "2.7.6"
  }
 },
 "nbformat": 4,
 "nbformat_minor": 5
}
