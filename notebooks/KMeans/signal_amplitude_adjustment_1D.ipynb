{
 "cells": [
  {
   "metadata": {},
   "cell_type": "markdown",
   "source": [
    "# 1D ROIs\n",
    "We have already for the number of frames (see n_frames_adjustment_1D) and the image size (see image_size_adjustment_1D.ipynb). Now we just need to adjust for the amplitude of the signal. \n",
    "\n",
    "## Adjusting for signal amplitude\n",
    "The issue is that if the signal has a high amplitude, it will be factored in more by the euclidian distance than the centers. We want to adjust for this by normalizing the signal."
   ],
   "id": "df7a8485b34739c2"
  },
  {
   "metadata": {},
   "cell_type": "markdown",
   "source": [
    "So far, this is how the distances are calculated:  \n",
    "\n",
    "$E(a,b) = \\sqrt{ (c^{(a)} - c^{(b)})^2 + \\sum_{i=0}^{n-1} (s^{(a)}_i - s^{(b)}_i)^2}$"
   ],
   "id": "a6f53aa5622c99ad"
  },
  {
   "metadata": {},
   "cell_type": "markdown",
   "source": [
    "$a$: roi1  \n",
    "$b$: roi2  \n",
    "$c$: center (in centimeters)  \n",
    "$s$: detrended signal  \n",
    "$n$: number of frames   "
   ],
   "id": "c9898376a28c9c25"
  },
  {
   "metadata": {},
   "cell_type": "markdown",
   "source": [
    "Let $s_i = p \\cdot g_i$  with  \n",
    "$p$: the maximum amplitude of any signal  \n",
    "$g_i$: the signal normalized with $p$\n",
    "\n",
    "Then the euclidian distance becomes:\n",
    "$E(a,b) = \\sqrt{ (c^{(a)} - c^{(b)})^2 + \\sum_{i=0}^{n-1} (pg^{(a)}_i - pg^{(b)}_i)^2}$"
   ],
   "id": "b07ad0fa8c7acde8"
  },
  {
   "metadata": {},
   "cell_type": "markdown",
   "source": [
    "If we factor $p$ out of the brackets, we get: \n",
    "$E(a,b) = \\sqrt{ (c^{(a)} - c^{(b)})^2 + p^2 \\sum_{i=0}^{n-1} (g^{(a)}_i - g^{(b)}_i)^2}$\n"
   ],
   "id": "673026530b80547a"
  },
  {
   "metadata": {},
   "cell_type": "markdown",
   "source": [
    "-> Now we can clearly see that a higher signal amplitude leads to the euclidian distance being more influenced by the signal than the center. We want to adjust for this by normalizing the signal.  \n",
    "-> We can do this by dividing the signal by the maximum amplitude of any signal.  \n",
    "-> To not weigh the right part more heavily, we simply leave $p^2$ out of the equation."
   ],
   "id": "f74b11779215e0e3"
  },
  {
   "metadata": {},
   "cell_type": "markdown",
   "source": [
    "When we also take into account the number of frames (see n_frames_adjustment_1D), we get:  \n",
    "$E(a,b) = \\sqrt{ (\\sqrt n c^{(a)} - \\sqrt n c^{(b)})^2 + \\sum_{i=0}^{n-1} (g^{(a)}_i - g^{(b)}_i)^2}$\n"
   ],
   "id": "e3011bb788eb47eb"
  },
  {
   "metadata": {},
   "cell_type": "markdown",
   "source": [
    "Now, we want to introduce a factor that lets us regulate how much the spatial distance vs. the signal distance is taken into account:  \n",
    "$w$: spatial weight  \n",
    "\n",
    "$E(a,b) = \\sqrt{ w (\\sqrt n c^{(a)} - \\sqrt n c^{(b)})^2 + \\sum_{i=0}^{n-1} (g^{(a)}_i - g^{(b)}_i)^2}$\n",
    "\n",
    "If $w = 1$, the spatial distance and the signal distance are weighted equally. If $w > 1$, the spatial distance is weighted more heavily. If $w < 1$, the signal distance is weighted more heavily."
   ],
   "id": "d1de93f4113589db"
  },
  {
   "metadata": {},
   "cell_type": "markdown",
   "source": [
    "When we do this for 2 dimensions, we get the final formula:  \n",
    "$E(a,b) = \\sqrt{ w ((\\sqrt n c^{(a)}_x - \\sqrt n c^{(b)}_x)^2 + (\\sqrt n c^{(a)}_y - \\sqrt n c^{(b)}_y)^2) + \\sum_{i=0}^{n-1} (g^{(a)}_i - g^{(b)}_i)^2}$"
   ],
   "id": "c6f8c7c9fe5244a"
  },
  {
   "metadata": {},
   "cell_type": "markdown",
   "source": [
    "where   \n",
    "$a$: roi1  \n",
    "$b$: roi2  \n",
    "$w$: spatial weight  \n",
    "$c_x, c_y$: center x- and y-coordinates (in centimeters)  \n",
    "$n$: number of frames   \n",
    "$s$: detrended signal   \n",
    "$p$: the maximum amplitude of any signal  \n",
    "$g = s / p$: the signal normalized with $p$  \n",
    "\n",
    "Note: The vectors' indexes start at 0, which is how it works in python."
   ],
   "id": "be9385751e4d7e3f"
  },
  {
   "metadata": {},
   "cell_type": "code",
   "outputs": [],
   "execution_count": null,
   "source": "",
   "id": "dbaa4429a89ba92e"
  }
 ],
 "metadata": {
  "kernelspec": {
   "display_name": "Python 3",
   "language": "python",
   "name": "python3"
  },
  "language_info": {
   "codemirror_mode": {
    "name": "ipython",
    "version": 2
   },
   "file_extension": ".py",
   "mimetype": "text/x-python",
   "name": "python",
   "nbconvert_exporter": "python",
   "pygments_lexer": "ipython2",
   "version": "2.7.6"
  }
 },
 "nbformat": 4,
 "nbformat_minor": 5
}
