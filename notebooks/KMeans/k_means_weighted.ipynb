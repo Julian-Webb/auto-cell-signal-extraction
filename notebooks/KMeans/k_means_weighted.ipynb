{
 "cells": [
  {
   "metadata": {},
   "cell_type": "markdown",
   "source": [
    "# 3. Weighted K Means\n",
    "\n",
    "We need to weigh/normalize based on the dimensions of the image, the amplitude of the signal, and the number of frames (time steps).\n",
    "\n",
    "We want to introduce a factor that lets us weigh the spatial indexes more than the signals.\n"
   ],
   "id": "c0ef8780c6795400"
  },
  {
   "metadata": {},
   "cell_type": "markdown",
   "source": "## 2-Dimensional ROIs",
   "id": "cea03ff9f3f9fc88"
  },
  {
   "metadata": {
    "ExecuteTime": {
     "end_time": "2024-05-22T14:39:24.643699Z",
     "start_time": "2024-05-22T14:39:24.641493Z"
    }
   },
   "cell_type": "code",
   "source": "PIXELS_PER_CM = 8",
   "id": "43c6555712f03c94",
   "execution_count": 2,
   "outputs": []
  },
  {
   "metadata": {
    "ExecuteTime": {
     "end_time": "2024-05-22T14:39:24.650210Z",
     "start_time": "2024-05-22T14:39:24.645019Z"
    }
   },
   "cell_type": "code",
   "source": [
    "import numpy as np\n",
    "import pandas as pd\n",
    "from collections import namedtuple\n",
    "Dimensions = namedtuple('Dimensions', ['width', 'height'])\n",
    "Point = namedtuple('Point', ['x', 'y'])\n",
    "\n",
    "class ROI:\n",
    "    \"\"\"Represents a region of interest (ROI). This is a rectangle which specifies a certain region of an image.\"\"\"\n",
    "    WIDTH_PIXELS: int = None  # the width of all ROIs in pixels\n",
    "    HEIGHT_PIXELS: int = None  # the height of all ROIs in pixels\n",
    "\n",
    "    N_HORIZONTAL: int = None  # the number of ROIs along the x-axis\n",
    "    N_VERTICAL: int = None  # the number of ROIs along the y-axis\n",
    "\n",
    "    @classmethod\n",
    "    @property\n",
    "    def width_cm(cls) -> float:\n",
    "        \"\"\"The width in cm\"\"\"\n",
    "        return cls.WIDTH_PIXELS / PIXELS_PER_CM\n",
    "\n",
    "    @classmethod\n",
    "    @property\n",
    "    def height_cm(cls) -> float:\n",
    "        \"\"\"The height in cm\"\"\"\n",
    "        return cls.HEIGHT_PIXELS / PIXELS_PER_CM\n",
    "\n",
    "    def __init__(self, x_idx, y_idx):\n",
    "        self.x_idx = x_idx  # the x index on the grid of ROIs\n",
    "        self.y_idx = y_idx\n",
    "\n",
    "    def __str__(self):\n",
    "        return self.__repr__()\n",
    "\n",
    "    def __repr__(self):\n",
    "        return f'ROI({self.x_idx};{self.y_idx})'\n",
    "\n",
    "    def corners_pixels(self) -> tuple[Point, Point]:\n",
    "        \"\"\"Returns the upper left and lower right corners (in pixels) of the ROI as Point objects. The corner points and edges \\\n",
    "        should be *included* in the ROI\"\"\"\n",
    "        x_ul = self.x_idx * ROI.WIDTH_PIXELS  # upper left x\n",
    "        y_ul = self.y_idx * ROI.HEIGHT_PIXELS  # upper left y\n",
    "        x_lr = x_ul + ROI.WIDTH_PIXELS - 1  # lower right x\n",
    "        y_lr = y_ul + ROI.HEIGHT_PIXELS - 1  # lower right y\n",
    "\n",
    "        return Point(x_ul, y_ul), Point(x_lr, y_lr)\n",
    "\n",
    "    def center_pixels(self) -> Point:\n",
    "        \"\"\"Returns the center of the ROI as a Point object.\"\"\"\n",
    "        x = self.x_idx * ROI.WIDTH_PIXELS + ROI.WIDTH_PIXELS / 2 - 0.5\n",
    "        y = self.y_idx * ROI.HEIGHT_PIXELS + ROI.HEIGHT_PIXELS / 2 - 0.5\n",
    "        return Point(x, y)\n",
    "\n",
    "    def corners_cm(self) -> Point:\n",
    "        \"\"\"Returns the upper left and lower right corners (in cm) of the ROI as Point objects.\"\"\"\n",
    "        # upper left corner:\n",
    "        x_ul = self.x_idx * ROI.width_cm\n",
    "        y_ul = self.y_idx * ROI.height_cm\n",
    "        # lower right corner:\n",
    "        x_lr = x_ul + ROI.width_cm\n",
    "        y_lr = y_ul + ROI.height_cm\n",
    "        return Point(x_ul, y_ul), Point(x_lr, y_lr)\n",
    "\n",
    "    def center_cm(self) -> Point:\n",
    "        \"\"\"Returns the center of the ROI in cm.\"\"\"\n",
    "        x_idx_center = self.x_idx + 0.5\n",
    "        y_idx_center = self.y_idx + 0.5\n",
    "\n",
    "        return Point(\n",
    "            x_idx_center * ROI.width_cm,\n",
    "            y_idx_center * ROI.height_cm\n",
    "        )"
   ],
   "id": "a14979968aa2a2ab",
   "execution_count": 3,
   "outputs": []
  },
  {
   "metadata": {
    "ExecuteTime": {
     "end_time": "2024-05-22T14:39:24.653035Z",
     "start_time": "2024-05-22T14:39:24.651027Z"
    }
   },
   "cell_type": "code",
   "source": [
    "# Vars\n",
    "spatial_weight = 2\n",
    "img_dims = Dimensions(16, 16)\n",
    "n_frames = 20\n",
    "ROI.WIDTH_PIXELS = 8\n",
    "ROI.HEIGHT_PIXELS = 4\n",
    "ROI.N_HORIZONTAL = img_dims.width // ROI.WIDTH_PIXELS\n",
    "ROI.N_VERTICAL = img_dims.height // ROI.HEIGHT_PIXELS\n",
    "print(f'{ROI.N_HORIZONTAL=}, {ROI.N_VERTICAL=}')"
   ],
   "id": "692b353201ea5aca",
   "execution_count": 4,
   "outputs": []
  },
  {
   "metadata": {
    "ExecuteTime": {
     "end_time": "2024-05-22T14:39:24.658758Z",
     "start_time": "2024-05-22T14:39:24.654053Z"
    }
   },
   "cell_type": "code",
   "source": [
    "# generate Data\n",
    "rois = [ROI(x, y) for x in range(ROI.N_HORIZONTAL) for y in range(ROI.N_VERTICAL)]\n",
    "\n",
    "signals_df = pd.DataFrame(\n",
    "    {roi: np.random.uniform(low=-50, high=50, size=n_frames) for roi in rois}\n",
    ")\n",
    "\n",
    "roi_centers = pd.DataFrame(\n",
    "    {roi: [roi.center_cm().x, roi.center_cm().y] for roi in rois},\n",
    "    index=['x_center_cm', 'y_center_cm']\n",
    ")"
   ],
   "id": "e0fa42ce7e476a24",
   "execution_count": 5,
   "outputs": []
  },
  {
   "metadata": {
    "ExecuteTime": {
     "end_time": "2024-05-22T14:39:24.662936Z",
     "start_time": "2024-05-22T14:39:24.659367Z"
    }
   },
   "cell_type": "code",
   "source": [
    "# Normalizing\n",
    "max_amplitude_overall = signals_df.abs().max().max()\n",
    "normalized_signals = signals_df / max_amplitude_overall\n",
    "\n",
    "# adjust spatial indexes for n_frames and scale by spatial weight\n",
    "roi_centers *= np.sqrt(n_frames) * spatial_weight\n",
    "\n",
    "signals_indexes = pd.concat([roi_centers, normalized_signals])\n",
    "signals_indexes.index = signals_indexes.index.astype(str)"
   ],
   "id": "f359a6e8204ad4a6",
   "execution_count": 6,
   "outputs": []
  },
  {
   "metadata": {
    "ExecuteTime": {
     "end_time": "2024-05-22T14:39:25.151929Z",
     "start_time": "2024-05-22T14:39:24.667202Z"
    }
   },
   "cell_type": "code",
   "source": [
    "from sklearn.cluster import KMeans\n",
    "\n",
    "kmeans = KMeans(n_clusters=4, n_init='auto')\n",
    "kmeans.fit(signals_indexes.T)"
   ],
   "id": "d7acd3356290de76",
   "execution_count": 7,
   "outputs": []
  },
  {
   "metadata": {
    "ExecuteTime": {
     "end_time": "2024-05-22T14:39:25.155960Z",
     "start_time": "2024-05-22T14:39:25.153111Z"
    }
   },
   "cell_type": "code",
   "source": "kmeans.labels_",
   "id": "7640d1f9b18aff18",
   "execution_count": 8,
   "outputs": []
  },
  {
   "metadata": {
    "ExecuteTime": {
     "end_time": "2024-05-22T14:39:25.158033Z",
     "start_time": "2024-05-22T14:39:25.156840Z"
    }
   },
   "cell_type": "code",
   "source": "",
   "id": "5fe0aa357c9e1cc",
   "execution_count": 8,
   "outputs": []
  }
 ],
 "metadata": {
  "kernelspec": {
   "display_name": "Python 3",
   "language": "python",
   "name": "python3"
  },
  "language_info": {
   "codemirror_mode": {
    "name": "ipython",
    "version": 2
   },
   "file_extension": ".py",
   "mimetype": "text/x-python",
   "name": "python",
   "nbconvert_exporter": "python",
   "pygments_lexer": "ipython2",
   "version": "2.7.6"
  }
 },
 "nbformat": 4,
 "nbformat_minor": 5
}
