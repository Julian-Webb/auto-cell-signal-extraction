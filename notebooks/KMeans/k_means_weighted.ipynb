{
 "cells": [
  {
   "metadata": {},
   "cell_type": "markdown",
   "source": [
    "# 3. Weighted K Means\n",
    "\n",
    "We need to weigh/normalize based on the dimensions of the image, the amplitude of the signal, and the number of frames (time steps).\n",
    "\n",
    "We want to introduce a factor that lets us weigh the spatial indexes more than the signals.\n"
   ],
   "id": "c0ef8780c6795400"
  },
  {
   "metadata": {},
   "cell_type": "markdown",
   "source": "## 2-Dimensional ROIs",
   "id": "cea03ff9f3f9fc88"
  },
  {
   "metadata": {
    "ExecuteTime": {
     "end_time": "2024-05-22T14:39:24.643699Z",
     "start_time": "2024-05-22T14:39:24.641493Z"
    }
   },
   "cell_type": "code",
   "source": "PIXELS_PER_CM = 8",
   "id": "43c6555712f03c94",
   "outputs": [],
   "execution_count": 2
  },
  {
   "metadata": {
    "ExecuteTime": {
     "end_time": "2024-05-22T14:39:24.650210Z",
     "start_time": "2024-05-22T14:39:24.645019Z"
    }
   },
   "cell_type": "code",
   "source": [
    "import numpy as np\n",
    "import pandas as pd\n",
    "from collections import namedtuple\n",
    "Dimensions = namedtuple('Dimensions', ['width', 'height'])\n",
    "Point = namedtuple('Point', ['x', 'y'])\n",
    "\n",
    "class ROI:\n",
    "    \"\"\"Represents a region of interest (ROI). This is a rectangle which specifies a certain region of an image.\"\"\"\n",
    "    WIDTH_PIXELS: int = None  # the width of all ROIs in pixels\n",
    "    HEIGHT_PIXELS: int = None  # the height of all ROIs in pixels\n",
    "\n",
    "    N_HORIZONTAL: int = None  # the number of ROIs along the x-axis\n",
    "    N_VERTICAL: int = None  # the number of ROIs along the y-axis\n",
    "\n",
    "    @classmethod\n",
    "    @property\n",
    "    def width_cm(cls) -> float:\n",
    "        \"\"\"The width in cm\"\"\"\n",
    "        return cls.WIDTH_PIXELS / PIXELS_PER_CM\n",
    "\n",
    "    @classmethod\n",
    "    @property\n",
    "    def height_cm(cls) -> float:\n",
    "        \"\"\"The height in cm\"\"\"\n",
    "        return cls.HEIGHT_PIXELS / PIXELS_PER_CM\n",
    "\n",
    "    def __init__(self, x_idx, y_idx):\n",
    "        self.x_idx = x_idx  # the x index on the grid of ROIs\n",
    "        self.y_idx = y_idx\n",
    "\n",
    "    def __str__(self):\n",
    "        return self.__repr__()\n",
    "\n",
    "    def __repr__(self):\n",
    "        return f'ROI({self.x_idx};{self.y_idx})'\n",
    "\n",
    "    def corners_pixels(self) -> tuple[Point, Point]:\n",
    "        \"\"\"Returns the upper left and lower right corners (in pixels) of the ROI as Point objects. The corner points and edges \\\n",
    "        should be *included* in the ROI\"\"\"\n",
    "        x_ul = self.x_idx * ROI.WIDTH_PIXELS  # upper left x\n",
    "        y_ul = self.y_idx * ROI.HEIGHT_PIXELS  # upper left y\n",
    "        x_lr = x_ul + ROI.WIDTH_PIXELS - 1  # lower right x\n",
    "        y_lr = y_ul + ROI.HEIGHT_PIXELS - 1  # lower right y\n",
    "\n",
    "        return Point(x_ul, y_ul), Point(x_lr, y_lr)\n",
    "\n",
    "    def center_pixels(self) -> Point:\n",
    "        \"\"\"Returns the center of the ROI as a Point object.\"\"\"\n",
    "        x = self.x_idx * ROI.WIDTH_PIXELS + ROI.WIDTH_PIXELS / 2 - 0.5\n",
    "        y = self.y_idx * ROI.HEIGHT_PIXELS + ROI.HEIGHT_PIXELS / 2 - 0.5\n",
    "        return Point(x, y)\n",
    "\n",
    "    def corners_cm(self) -> Point:\n",
    "        \"\"\"Returns the upper left and lower right corners (in cm) of the ROI as Point objects.\"\"\"\n",
    "        # upper left corner:\n",
    "        x_ul = self.x_idx * ROI.width_cm\n",
    "        y_ul = self.y_idx * ROI.height_cm\n",
    "        # lower right corner:\n",
    "        x_lr = x_ul + ROI.width_cm\n",
    "        y_lr = y_ul + ROI.height_cm\n",
    "        return Point(x_ul, y_ul), Point(x_lr, y_lr)\n",
    "\n",
    "    def center_cm(self) -> Point:\n",
    "        \"\"\"Returns the center of the ROI in cm.\"\"\"\n",
    "        x_idx_center = self.x_idx + 0.5\n",
    "        y_idx_center = self.y_idx + 0.5\n",
    "\n",
    "        return Point(\n",
    "            x_idx_center * ROI.width_cm,\n",
    "            y_idx_center * ROI.height_cm\n",
    "        )"
   ],
   "id": "a14979968aa2a2ab",
   "outputs": [],
   "execution_count": 3
  },
  {
   "metadata": {
    "ExecuteTime": {
     "end_time": "2024-05-22T14:39:24.653035Z",
     "start_time": "2024-05-22T14:39:24.651027Z"
    }
   },
   "cell_type": "code",
   "source": [
    "# Vars\n",
    "spatial_weight = 2\n",
    "img_dims = Dimensions(16, 16)\n",
    "n_frames = 20\n",
    "ROI.WIDTH_PIXELS = 8\n",
    "ROI.HEIGHT_PIXELS = 4\n",
    "ROI.N_HORIZONTAL = img_dims.width // ROI.WIDTH_PIXELS\n",
    "ROI.N_VERTICAL = img_dims.height // ROI.HEIGHT_PIXELS\n",
    "print(f'{ROI.N_HORIZONTAL=}, {ROI.N_VERTICAL=}')"
   ],
   "id": "692b353201ea5aca",
   "outputs": [
    {
     "name": "stdout",
     "output_type": "stream",
     "text": [
      "ROI.N_HORIZONTAL=2, ROI.N_VERTICAL=4\n"
     ]
    }
   ],
   "execution_count": 4
  },
  {
   "metadata": {
    "ExecuteTime": {
     "end_time": "2024-05-22T14:39:24.658758Z",
     "start_time": "2024-05-22T14:39:24.654053Z"
    }
   },
   "cell_type": "code",
   "source": [
    "# generate Data\n",
    "rois = [ROI(x, y) for x in range(ROI.N_HORIZONTAL) for y in range(ROI.N_VERTICAL)]\n",
    "\n",
    "signals_df = pd.DataFrame(\n",
    "    {roi: np.random.uniform(low=-50, high=50, size=n_frames) for roi in rois}\n",
    ")\n",
    "\n",
    "roi_centers = pd.DataFrame(\n",
    "    {roi: [roi.center_cm().x, roi.center_cm().y] for roi in rois},\n",
    "    index=['x_center_cm', 'y_center_cm']\n",
    ")"
   ],
   "id": "e0fa42ce7e476a24",
   "outputs": [],
   "execution_count": 5
  },
  {
   "metadata": {
    "ExecuteTime": {
     "end_time": "2024-05-22T14:39:24.662936Z",
     "start_time": "2024-05-22T14:39:24.659367Z"
    }
   },
   "cell_type": "code",
   "source": [
    "# Normalizing\n",
    "max_amplitude_overall = signals_df.abs().max().max()\n",
    "normalized_signals = signals_df / max_amplitude_overall\n",
    "\n",
    "# adjust spatial indexes for n_frames and scale by spatial weight\n",
    "roi_centers *= np.sqrt(n_frames) * spatial_weight\n",
    "\n",
    "signals_indexes = pd.concat([roi_centers, normalized_signals])\n",
    "signals_indexes.index = signals_indexes.index.astype(str)"
   ],
   "id": "f359a6e8204ad4a6",
   "outputs": [],
   "execution_count": 6
  },
  {
   "metadata": {
    "ExecuteTime": {
     "end_time": "2024-05-22T14:39:25.151929Z",
     "start_time": "2024-05-22T14:39:24.667202Z"
    }
   },
   "cell_type": "code",
   "source": [
    "from sklearn.cluster import KMeans\n",
    "\n",
    "kmeans = KMeans(n_clusters=4, n_init='auto')\n",
    "kmeans.fit(signals_indexes.T)"
   ],
   "id": "d7acd3356290de76",
   "outputs": [
    {
     "data": {
      "text/plain": [
       "KMeans(n_clusters=4, n_init='auto')"
      ],
      "text/html": [
       "<style>#sk-container-id-1 {color: black;}#sk-container-id-1 pre{padding: 0;}#sk-container-id-1 div.sk-toggleable {background-color: white;}#sk-container-id-1 label.sk-toggleable__label {cursor: pointer;display: block;width: 100%;margin-bottom: 0;padding: 0.3em;box-sizing: border-box;text-align: center;}#sk-container-id-1 label.sk-toggleable__label-arrow:before {content: \"▸\";float: left;margin-right: 0.25em;color: #696969;}#sk-container-id-1 label.sk-toggleable__label-arrow:hover:before {color: black;}#sk-container-id-1 div.sk-estimator:hover label.sk-toggleable__label-arrow:before {color: black;}#sk-container-id-1 div.sk-toggleable__content {max-height: 0;max-width: 0;overflow: hidden;text-align: left;background-color: #f0f8ff;}#sk-container-id-1 div.sk-toggleable__content pre {margin: 0.2em;color: black;border-radius: 0.25em;background-color: #f0f8ff;}#sk-container-id-1 input.sk-toggleable__control:checked~div.sk-toggleable__content {max-height: 200px;max-width: 100%;overflow: auto;}#sk-container-id-1 input.sk-toggleable__control:checked~label.sk-toggleable__label-arrow:before {content: \"▾\";}#sk-container-id-1 div.sk-estimator input.sk-toggleable__control:checked~label.sk-toggleable__label {background-color: #d4ebff;}#sk-container-id-1 div.sk-label input.sk-toggleable__control:checked~label.sk-toggleable__label {background-color: #d4ebff;}#sk-container-id-1 input.sk-hidden--visually {border: 0;clip: rect(1px 1px 1px 1px);clip: rect(1px, 1px, 1px, 1px);height: 1px;margin: -1px;overflow: hidden;padding: 0;position: absolute;width: 1px;}#sk-container-id-1 div.sk-estimator {font-family: monospace;background-color: #f0f8ff;border: 1px dotted black;border-radius: 0.25em;box-sizing: border-box;margin-bottom: 0.5em;}#sk-container-id-1 div.sk-estimator:hover {background-color: #d4ebff;}#sk-container-id-1 div.sk-parallel-item::after {content: \"\";width: 100%;border-bottom: 1px solid gray;flex-grow: 1;}#sk-container-id-1 div.sk-label:hover label.sk-toggleable__label {background-color: #d4ebff;}#sk-container-id-1 div.sk-serial::before {content: \"\";position: absolute;border-left: 1px solid gray;box-sizing: border-box;top: 0;bottom: 0;left: 50%;z-index: 0;}#sk-container-id-1 div.sk-serial {display: flex;flex-direction: column;align-items: center;background-color: white;padding-right: 0.2em;padding-left: 0.2em;position: relative;}#sk-container-id-1 div.sk-item {position: relative;z-index: 1;}#sk-container-id-1 div.sk-parallel {display: flex;align-items: stretch;justify-content: center;background-color: white;position: relative;}#sk-container-id-1 div.sk-item::before, #sk-container-id-1 div.sk-parallel-item::before {content: \"\";position: absolute;border-left: 1px solid gray;box-sizing: border-box;top: 0;bottom: 0;left: 50%;z-index: -1;}#sk-container-id-1 div.sk-parallel-item {display: flex;flex-direction: column;z-index: 1;position: relative;background-color: white;}#sk-container-id-1 div.sk-parallel-item:first-child::after {align-self: flex-end;width: 50%;}#sk-container-id-1 div.sk-parallel-item:last-child::after {align-self: flex-start;width: 50%;}#sk-container-id-1 div.sk-parallel-item:only-child::after {width: 0;}#sk-container-id-1 div.sk-dashed-wrapped {border: 1px dashed gray;margin: 0 0.4em 0.5em 0.4em;box-sizing: border-box;padding-bottom: 0.4em;background-color: white;}#sk-container-id-1 div.sk-label label {font-family: monospace;font-weight: bold;display: inline-block;line-height: 1.2em;}#sk-container-id-1 div.sk-label-container {text-align: center;}#sk-container-id-1 div.sk-container {/* jupyter's `normalize.less` sets `[hidden] { display: none; }` but bootstrap.min.css set `[hidden] { display: none !important; }` so we also need the `!important` here to be able to override the default hidden behavior on the sphinx rendered scikit-learn.org. See: https://github.com/scikit-learn/scikit-learn/issues/21755 */display: inline-block !important;position: relative;}#sk-container-id-1 div.sk-text-repr-fallback {display: none;}</style><div id=\"sk-container-id-1\" class=\"sk-top-container\"><div class=\"sk-text-repr-fallback\"><pre>KMeans(n_clusters=4, n_init=&#x27;auto&#x27;)</pre><b>In a Jupyter environment, please rerun this cell to show the HTML representation or trust the notebook. <br />On GitHub, the HTML representation is unable to render, please try loading this page with nbviewer.org.</b></div><div class=\"sk-container\" hidden><div class=\"sk-item\"><div class=\"sk-estimator sk-toggleable\"><input class=\"sk-toggleable__control sk-hidden--visually\" id=\"sk-estimator-id-1\" type=\"checkbox\" checked><label for=\"sk-estimator-id-1\" class=\"sk-toggleable__label sk-toggleable__label-arrow\">KMeans</label><div class=\"sk-toggleable__content\"><pre>KMeans(n_clusters=4, n_init=&#x27;auto&#x27;)</pre></div></div></div></div></div>"
      ]
     },
     "execution_count": 7,
     "metadata": {},
     "output_type": "execute_result"
    }
   ],
   "execution_count": 7
  },
  {
   "metadata": {
    "ExecuteTime": {
     "end_time": "2024-05-22T14:39:25.155960Z",
     "start_time": "2024-05-22T14:39:25.153111Z"
    }
   },
   "cell_type": "code",
   "source": "kmeans.labels_",
   "id": "7640d1f9b18aff18",
   "outputs": [
    {
     "data": {
      "text/plain": [
       "array([3, 1, 1, 1, 0, 0, 2, 2], dtype=int32)"
      ]
     },
     "execution_count": 8,
     "metadata": {},
     "output_type": "execute_result"
    }
   ],
   "execution_count": 8
  },
  {
   "metadata": {
    "ExecuteTime": {
     "end_time": "2024-05-22T14:39:25.158033Z",
     "start_time": "2024-05-22T14:39:25.156840Z"
    }
   },
   "cell_type": "code",
   "source": "",
   "id": "5fe0aa357c9e1cc",
   "outputs": [],
   "execution_count": 8
  }
 ],
 "metadata": {
  "kernelspec": {
   "display_name": "Python 3",
   "language": "python",
   "name": "python3"
  },
  "language_info": {
   "codemirror_mode": {
    "name": "ipython",
    "version": 2
   },
   "file_extension": ".py",
   "mimetype": "text/x-python",
   "name": "python",
   "nbconvert_exporter": "python",
   "pygments_lexer": "ipython2",
   "version": "2.7.6"
  }
 },
 "nbformat": 4,
 "nbformat_minor": 5
}
