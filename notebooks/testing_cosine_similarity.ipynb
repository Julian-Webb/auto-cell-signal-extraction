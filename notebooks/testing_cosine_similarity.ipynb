{
 "cells": [
  {
   "cell_type": "code",
   "id": "initial_id",
   "metadata": {
    "collapsed": true,
    "ExecuteTime": {
     "end_time": "2024-04-29T13:16:37.175421Z",
     "start_time": "2024-04-29T13:16:37.172245Z"
    }
   },
   "source": [
    "from sklearn.metrics.pairwise import cosine_similarity\n",
    "import numpy as np"
   ],
   "outputs": [],
   "execution_count": 3
  },
  {
   "metadata": {
    "ExecuteTime": {
     "end_time": "2024-04-29T13:24:24.583710Z",
     "start_time": "2024-04-29T13:24:24.578561Z"
    }
   },
   "cell_type": "code",
   "source": [
    "sig1 = np.arange(0, 8).reshape(1, -1)\n",
    "sig2 = np.arange(0, 8).reshape(1, -1)\n",
    "cosine_similarity(sig1, sig2)"
   ],
   "id": "3215aad68fd67173",
   "outputs": [
    {
     "data": {
      "text/plain": [
       "array([[1.]])"
      ]
     },
     "execution_count": 20,
     "metadata": {},
     "output_type": "execute_result"
    }
   ],
   "execution_count": 20
  },
  {
   "metadata": {
    "ExecuteTime": {
     "end_time": "2024-04-29T13:22:50.495984Z",
     "start_time": "2024-04-29T13:22:50.492183Z"
    }
   },
   "cell_type": "code",
   "source": "sig1.shape",
   "id": "af6fd41b5575d92",
   "outputs": [
    {
     "data": {
      "text/plain": [
       "(8,)"
      ]
     },
     "execution_count": 13,
     "metadata": {},
     "output_type": "execute_result"
    }
   ],
   "execution_count": 13
  },
  {
   "metadata": {
    "ExecuteTime": {
     "end_time": "2024-04-29T13:23:08.209689Z",
     "start_time": "2024-04-29T13:23:08.206044Z"
    }
   },
   "cell_type": "code",
   "source": [
    "rs = sig1.reshape(-1, 1)\n",
    "rs"
   ],
   "id": "578d79089f6cb510",
   "outputs": [
    {
     "data": {
      "text/plain": [
       "array([[0],\n",
       "       [1],\n",
       "       [2],\n",
       "       [3],\n",
       "       [4],\n",
       "       [5],\n",
       "       [6],\n",
       "       [7]])"
      ]
     },
     "execution_count": 17,
     "metadata": {},
     "output_type": "execute_result"
    }
   ],
   "execution_count": 17
  },
  {
   "metadata": {
    "ExecuteTime": {
     "end_time": "2024-04-29T13:22:52.559368Z",
     "start_time": "2024-04-29T13:22:52.555459Z"
    }
   },
   "cell_type": "code",
   "source": "rs.shape",
   "id": "4d914c5e2f944017",
   "outputs": [
    {
     "data": {
      "text/plain": [
       "(1, 8)"
      ]
     },
     "execution_count": 15,
     "metadata": {},
     "output_type": "execute_result"
    }
   ],
   "execution_count": 15
  },
  {
   "metadata": {
    "ExecuteTime": {
     "end_time": "2024-04-29T13:23:00.937947Z",
     "start_time": "2024-04-29T13:23:00.935686Z"
    }
   },
   "cell_type": "code",
   "source": "sig1",
   "id": "6adfe0fbb614c5c0",
   "outputs": [
    {
     "data": {
      "text/plain": [
       "array([0, 1, 2, 3, 4, 5, 6, 7])"
      ]
     },
     "execution_count": 16,
     "metadata": {},
     "output_type": "execute_result"
    }
   ],
   "execution_count": 16
  },
  {
   "metadata": {},
   "cell_type": "code",
   "outputs": [],
   "execution_count": null,
   "source": "",
   "id": "248c33a4d06591e7"
  }
 ],
 "metadata": {
  "kernelspec": {
   "display_name": "Python 3",
   "language": "python",
   "name": "python3"
  },
  "language_info": {
   "codemirror_mode": {
    "name": "ipython",
    "version": 2
   },
   "file_extension": ".py",
   "mimetype": "text/x-python",
   "name": "python",
   "nbconvert_exporter": "python",
   "pygments_lexer": "ipython2",
   "version": "2.7.6"
  }
 },
 "nbformat": 4,
 "nbformat_minor": 5
}
