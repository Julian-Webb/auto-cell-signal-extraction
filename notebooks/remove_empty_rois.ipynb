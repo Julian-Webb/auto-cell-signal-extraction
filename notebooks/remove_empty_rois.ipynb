{
 "cells": [
  {
   "cell_type": "code",
   "id": "initial_id",
   "metadata": {
    "collapsed": true,
    "ExecuteTime": {
     "end_time": "2024-04-11T11:48:41.494443Z",
     "start_time": "2024-04-11T11:48:41.489507Z"
    }
   },
   "source": [
    "import numpy as np\n",
    "import pandas as pd\n",
    "\n",
    "from src.utils.ROI import ROI\n",
    "\n",
    "signals_df = pd.DataFrame({\n",
    "    ROI(0, 0): np.array([0, 1, 1.5, 0.5, 2]),\n",
    "    ROI(0, 1): np.array([1, 2, 3, 0.5, 4]),\n",
    "    ROI(0, 2): np.array([4, 2, 3, 0.5, 2]),\n",
    "})\n",
    "stds = signals_df.std()\n",
    "stds"
   ],
   "outputs": [
    {
     "data": {
      "text/plain": [
       "(0;0)    0.790569\n",
       "(0;1)    1.431782\n",
       "(0;2)    1.303840\n",
       "dtype: float64"
      ]
     },
     "execution_count": 29,
     "metadata": {},
     "output_type": "execute_result"
    }
   ],
   "execution_count": 29
  },
  {
   "metadata": {
    "ExecuteTime": {
     "end_time": "2024-04-11T11:48:43.835180Z",
     "start_time": "2024-04-11T11:48:43.829524Z"
    }
   },
   "cell_type": "code",
   "source": "stds.where(stds >= 1)\n",
   "id": "ea41bbd77bfc258a",
   "outputs": [
    {
     "data": {
      "text/plain": [
       "(0;0)         NaN\n",
       "(0;1)    1.431782\n",
       "(0;2)    1.303840\n",
       "dtype: float64"
      ]
     },
     "execution_count": 30,
     "metadata": {},
     "output_type": "execute_result"
    }
   ],
   "execution_count": 30
  },
  {
   "metadata": {
    "ExecuteTime": {
     "end_time": "2024-04-11T11:48:44.379970Z",
     "start_time": "2024-04-11T11:48:44.375902Z"
    }
   },
   "cell_type": "code",
   "source": [
    "above_thresh = stds >= 1\n",
    "above_thresh"
   ],
   "id": "3acd9200e43a195f",
   "outputs": [
    {
     "data": {
      "text/plain": [
       "(0;0)    False\n",
       "(0;1)     True\n",
       "(0;2)     True\n",
       "dtype: bool"
      ]
     },
     "execution_count": 31,
     "metadata": {},
     "output_type": "execute_result"
    }
   ],
   "execution_count": 31
  },
  {
   "metadata": {
    "ExecuteTime": {
     "end_time": "2024-04-11T11:48:44.978445Z",
     "start_time": "2024-04-11T11:48:44.973338Z"
    }
   },
   "cell_type": "code",
   "source": [
    "# signals_df.loc[:, signals_df >= 1]\n",
    "signals_df.loc[:, above_thresh]"
   ],
   "id": "c9ab2f6ca65cf2cf",
   "outputs": [
    {
     "data": {
      "text/plain": [
       "   (0;1)  (0;2)\n",
       "0    1.0    4.0\n",
       "1    2.0    2.0\n",
       "2    3.0    3.0\n",
       "3    0.5    0.5\n",
       "4    4.0    2.0"
      ],
      "text/html": [
       "<div>\n",
       "<style scoped>\n",
       "    .dataframe tbody tr th:only-of-type {\n",
       "        vertical-align: middle;\n",
       "    }\n",
       "\n",
       "    .dataframe tbody tr th {\n",
       "        vertical-align: top;\n",
       "    }\n",
       "\n",
       "    .dataframe thead th {\n",
       "        text-align: right;\n",
       "    }\n",
       "</style>\n",
       "<table border=\"1\" class=\"dataframe\">\n",
       "  <thead>\n",
       "    <tr style=\"text-align: right;\">\n",
       "      <th></th>\n",
       "      <th>(0;1)</th>\n",
       "      <th>(0;2)</th>\n",
       "    </tr>\n",
       "  </thead>\n",
       "  <tbody>\n",
       "    <tr>\n",
       "      <th>0</th>\n",
       "      <td>1.0</td>\n",
       "      <td>4.0</td>\n",
       "    </tr>\n",
       "    <tr>\n",
       "      <th>1</th>\n",
       "      <td>2.0</td>\n",
       "      <td>2.0</td>\n",
       "    </tr>\n",
       "    <tr>\n",
       "      <th>2</th>\n",
       "      <td>3.0</td>\n",
       "      <td>3.0</td>\n",
       "    </tr>\n",
       "    <tr>\n",
       "      <th>3</th>\n",
       "      <td>0.5</td>\n",
       "      <td>0.5</td>\n",
       "    </tr>\n",
       "    <tr>\n",
       "      <th>4</th>\n",
       "      <td>4.0</td>\n",
       "      <td>2.0</td>\n",
       "    </tr>\n",
       "  </tbody>\n",
       "</table>\n",
       "</div>"
      ]
     },
     "execution_count": 32,
     "metadata": {},
     "output_type": "execute_result"
    }
   ],
   "execution_count": 32
  },
  {
   "metadata": {
    "ExecuteTime": {
     "end_time": "2024-04-11T11:48:45.242859Z",
     "start_time": "2024-04-11T11:48:45.239334Z"
    }
   },
   "cell_type": "code",
   "source": "~above_thresh",
   "id": "fbe0c817ab0e576",
   "outputs": [
    {
     "data": {
      "text/plain": [
       "(0;0)     True\n",
       "(0;1)    False\n",
       "(0;2)    False\n",
       "dtype: bool"
      ]
     },
     "execution_count": 33,
     "metadata": {},
     "output_type": "execute_result"
    }
   ],
   "execution_count": 33
  },
  {
   "metadata": {
    "ExecuteTime": {
     "end_time": "2024-04-11T11:48:45.906478Z",
     "start_time": "2024-04-11T11:48:45.899806Z"
    }
   },
   "cell_type": "code",
   "source": "signals_df.loc[:, ~above_thresh]",
   "id": "e584217b6c7cdd03",
   "outputs": [
    {
     "data": {
      "text/plain": [
       "   (0;0)\n",
       "0    0.0\n",
       "1    1.0\n",
       "2    1.5\n",
       "3    0.5\n",
       "4    2.0"
      ],
      "text/html": [
       "<div>\n",
       "<style scoped>\n",
       "    .dataframe tbody tr th:only-of-type {\n",
       "        vertical-align: middle;\n",
       "    }\n",
       "\n",
       "    .dataframe tbody tr th {\n",
       "        vertical-align: top;\n",
       "    }\n",
       "\n",
       "    .dataframe thead th {\n",
       "        text-align: right;\n",
       "    }\n",
       "</style>\n",
       "<table border=\"1\" class=\"dataframe\">\n",
       "  <thead>\n",
       "    <tr style=\"text-align: right;\">\n",
       "      <th></th>\n",
       "      <th>(0;0)</th>\n",
       "    </tr>\n",
       "  </thead>\n",
       "  <tbody>\n",
       "    <tr>\n",
       "      <th>0</th>\n",
       "      <td>0.0</td>\n",
       "    </tr>\n",
       "    <tr>\n",
       "      <th>1</th>\n",
       "      <td>1.0</td>\n",
       "    </tr>\n",
       "    <tr>\n",
       "      <th>2</th>\n",
       "      <td>1.5</td>\n",
       "    </tr>\n",
       "    <tr>\n",
       "      <th>3</th>\n",
       "      <td>0.5</td>\n",
       "    </tr>\n",
       "    <tr>\n",
       "      <th>4</th>\n",
       "      <td>2.0</td>\n",
       "    </tr>\n",
       "  </tbody>\n",
       "</table>\n",
       "</div>"
      ]
     },
     "execution_count": 34,
     "metadata": {},
     "output_type": "execute_result"
    }
   ],
   "execution_count": 34
  },
  {
   "metadata": {
    "ExecuteTime": {
     "end_time": "2024-04-11T11:51:51.901604Z",
     "start_time": "2024-04-11T11:51:51.897537Z"
    }
   },
   "cell_type": "code",
   "source": [
    "removed_rois = signals_df.loc[:, ~above_thresh].columns\n",
    "removed_rois"
   ],
   "id": "664bd7859efed4ef",
   "outputs": [
    {
     "data": {
      "text/plain": [
       "array([ROI(0;0)], dtype=object)"
      ]
     },
     "execution_count": 40,
     "metadata": {},
     "output_type": "execute_result"
    }
   ],
   "execution_count": 40
  },
  {
   "metadata": {
    "ExecuteTime": {
     "end_time": "2024-04-11T11:52:55.246166Z",
     "start_time": "2024-04-11T11:52:55.243577Z"
    }
   },
   "cell_type": "code",
   "source": [
    "filtered_rois = signals_df.loc[:, above_thresh].columns\n",
    "filtered_rois"
   ],
   "id": "9590ce15faf914e",
   "outputs": [
    {
     "data": {
      "text/plain": [
       "Index([(0;1), (0;2)], dtype='object')"
      ]
     },
     "execution_count": 45,
     "metadata": {},
     "output_type": "execute_result"
    }
   ],
   "execution_count": 45
  },
  {
   "metadata": {
    "ExecuteTime": {
     "end_time": "2024-04-11T11:53:27.573814Z",
     "start_time": "2024-04-11T11:53:27.569184Z"
    }
   },
   "cell_type": "code",
   "source": [
    "filtered_df = signals_df[filtered_rois]\n",
    "filtered_df"
   ],
   "id": "a7dd5974814c2e12",
   "outputs": [
    {
     "data": {
      "text/plain": [
       "   (0;1)  (0;2)\n",
       "0    1.0    4.0\n",
       "1    2.0    2.0\n",
       "2    3.0    3.0\n",
       "3    0.5    0.5\n",
       "4    4.0    2.0"
      ],
      "text/html": [
       "<div>\n",
       "<style scoped>\n",
       "    .dataframe tbody tr th:only-of-type {\n",
       "        vertical-align: middle;\n",
       "    }\n",
       "\n",
       "    .dataframe tbody tr th {\n",
       "        vertical-align: top;\n",
       "    }\n",
       "\n",
       "    .dataframe thead th {\n",
       "        text-align: right;\n",
       "    }\n",
       "</style>\n",
       "<table border=\"1\" class=\"dataframe\">\n",
       "  <thead>\n",
       "    <tr style=\"text-align: right;\">\n",
       "      <th></th>\n",
       "      <th>(0;1)</th>\n",
       "      <th>(0;2)</th>\n",
       "    </tr>\n",
       "  </thead>\n",
       "  <tbody>\n",
       "    <tr>\n",
       "      <th>0</th>\n",
       "      <td>1.0</td>\n",
       "      <td>4.0</td>\n",
       "    </tr>\n",
       "    <tr>\n",
       "      <th>1</th>\n",
       "      <td>2.0</td>\n",
       "      <td>2.0</td>\n",
       "    </tr>\n",
       "    <tr>\n",
       "      <th>2</th>\n",
       "      <td>3.0</td>\n",
       "      <td>3.0</td>\n",
       "    </tr>\n",
       "    <tr>\n",
       "      <th>3</th>\n",
       "      <td>0.5</td>\n",
       "      <td>0.5</td>\n",
       "    </tr>\n",
       "    <tr>\n",
       "      <th>4</th>\n",
       "      <td>4.0</td>\n",
       "      <td>2.0</td>\n",
       "    </tr>\n",
       "  </tbody>\n",
       "</table>\n",
       "</div>"
      ]
     },
     "execution_count": 49,
     "metadata": {},
     "output_type": "execute_result"
    }
   ],
   "execution_count": 49
  },
  {
   "metadata": {},
   "cell_type": "code",
   "outputs": [],
   "execution_count": null,
   "source": "",
   "id": "735c96425e29489"
  }
 ],
 "metadata": {
  "kernelspec": {
   "display_name": "Python 3",
   "language": "python",
   "name": "python3"
  },
  "language_info": {
   "codemirror_mode": {
    "name": "ipython",
    "version": 2
   },
   "file_extension": ".py",
   "mimetype": "text/x-python",
   "name": "python",
   "nbconvert_exporter": "python",
   "pygments_lexer": "ipython2",
   "version": "2.7.6"
  }
 },
 "nbformat": 4,
 "nbformat_minor": 5
}
