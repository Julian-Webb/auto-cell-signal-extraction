{
 "cells": [
  {
   "cell_type": "code",
   "id": "initial_id",
   "metadata": {
    "collapsed": true,
    "ExecuteTime": {
     "end_time": "2024-04-29T12:28:49.189236Z",
     "start_time": "2024-04-29T12:28:49.030262Z"
    }
   },
   "source": [
    "import pandas as pd\n",
    "\n",
    "from src.utils.coordinate_system import Dimensions\n",
    "import numpy as np\n",
    "from src.utils.ROI import ROI\n",
    "\n",
    "img_dims = Dimensions(2048, 1536)\n",
    "\n",
    "ROI.WIDTH = ROI.HEIGHT = 64\n",
    "\n",
    "ROI.N_HORIZONTAL = img_dims.width // ROI.WIDTH\n",
    "ROI.N_VERTICAL = img_dims.height // ROI.HEIGHT\n",
    "\n",
    "comparison_range_pixels = 400  # the furthest we compare ROIs to in terms of pixels\n",
    "\n",
    "rois = np.zeros(shape=(ROI.N_HORIZONTAL, ROI.N_VERTICAL), dtype=ROI)\n",
    "for x in range(ROI.N_HORIZONTAL):\n",
    "    for y in range(ROI.N_VERTICAL):\n",
    "        rois[x, y] = ROI(x, y)\n",
    "\n",
    "# filtering ROIs\n",
    "filtering_mask = np.random.rand(ROI.N_HORIZONTAL, ROI.N_VERTICAL) < 0.5\n",
    "\n",
    "filtered_rois = rois[filtering_mask]\n",
    "filtered_rois = filtered_rois.flatten()\n",
    "\n",
    "# filtered_rois = rois.flatten()\n",
    "\n",
    "# print('Filtered ROIs:\\n', filtered_rois, '\\n')\n",
    "# \n",
    "# # printing\n",
    "# print(f\"ROI width: {ROI.WIDTH}, ROI height: {ROI.HEIGHT}\")\n",
    "# print(f\"N_HORIZONTAL: {ROI.N_HORIZONTAL}, N_VERTICAL: {ROI.N_VERTICAL}\")\n",
    "# print(f\"N ROIs: {len(filtered_rois)}\")\n",
    "# # filtered_rois"
   ],
   "execution_count": 1,
   "outputs": []
  },
  {
   "metadata": {
    "ExecuteTime": {
     "end_time": "2024-04-29T12:28:49.197579Z",
     "start_time": "2024-04-29T12:28:49.190221Z"
    }
   },
   "cell_type": "code",
   "source": [
    "distances = pd.DataFrame(1, columns=filtered_rois, index=filtered_rois)\n",
    "# make the diagonal 0\n",
    "for i in range(len(filtered_rois)):\n",
    "    distances.iloc[i, i] = 0"
   ],
   "id": "224765e78161cde5",
   "execution_count": 2,
   "outputs": []
  },
  {
   "metadata": {},
   "cell_type": "markdown",
   "source": [
    "\n",
    "# 2nd Approach (within range)"
   ],
   "id": "d91170544b3f74d8"
  },
  {
   "metadata": {
    "ExecuteTime": {
     "end_time": "2024-04-25T12:36:14.908597Z",
     "start_time": "2024-04-25T12:36:14.902736Z"
    }
   },
   "cell_type": "code",
   "source": [
    "import time\n",
    "import math\n",
    "\n",
    "st = time.time()\n",
    "\n",
    "# Convert the pixel distance into a distance of ROI indexes\n",
    "# We do this by dividing the range in pixels by the ROI width/height and then rounding it up\n",
    "x_range = math.ceil(comparison_range_pixels / ROI.WIDTH)\n",
    "y_range = math.ceil(comparison_range_pixels / ROI.HEIGHT)\n",
    "\n",
    "# create a dictionary with an entry for each of the filtered ROIs and tells us which other ROIs it should be compared with\n",
    "comparisons = {}\n",
    "\n",
    "# construct a new empty matrix for the ROIs\n",
    "rois_matrix = np.zeros((ROI.N_HORIZONTAL, ROI.N_VERTICAL), dtype=ROI)\n",
    "\n",
    "# fill it with the filtered ROIs. Leave the rest blank\n",
    "for roi in filtered_rois:\n",
    "    rois_matrix[roi.x_idx, roi.y_idx] = roi\n",
    "\n",
    "# go through each of the filtered ROIs and fill the dictionary by checking which filtered ROIs are within range\n",
    "rois_matrix_copy = rois_matrix.copy()\n",
    "\n",
    "for roi in filtered_rois:\n",
    "    # Calculate the boundaries of the ROI indexes\n",
    "    x_left = roi.x_idx - x_range\n",
    "    y_top = roi.y_idx - y_range\n",
    "    x_right = roi.x_idx + x_range\n",
    "    y_bottom = roi.y_idx + y_range\n",
    "\n",
    "    # They need to be bounded between 0 and the maximum index on that axis\n",
    "    x_left = max(0, x_left)\n",
    "    y_top = max(0, y_top)\n",
    "    x_right = min(x_right, ROI.N_HORIZONTAL - 1)\n",
    "    y_bottom = min(y_bottom, ROI.N_VERTICAL - 1)\n",
    "\n",
    "    # We remove this ROI from the matrix, so that it's not compared with itself, and so that the ROIs aren't compared in the reverse order as well (only in one order)\n",
    "    # E.g. if we compare ROI(0;0) to ROI(1;0), we don't want ROI(1;0) to also be compared to ROI(0;0) in that order because that would be an unnecessary comparison.\n",
    "    rois_matrix_copy[roi.x_idx, roi.y_idx] = 0\n",
    "\n",
    "    # Select the ROIs within these boundaries\n",
    "    # We add 1 because the upper boundary is not included when indexing\n",
    "    within_bounds = rois_matrix_copy[x_left: x_right + 1, y_top: y_bottom + 1]\n",
    "\n",
    "    # print(roi)\n",
    "    # print(within_bounds)\n",
    "    # print()\n",
    "\n",
    "    # Now we select all the values that are not nan    \n",
    "    # rois_within_bounds = within_bounds.stack(dropna=True).to_numpy()\n",
    "    rois_within_bounds = within_bounds[within_bounds != 0]\n",
    "\n",
    "    # we set this as the dict entry\n",
    "    if rois_within_bounds.size > 0:\n",
    "        comparisons[roi] = rois_within_bounds\n",
    "\n",
    "print(f'Elapsed time: {time.time() - st}s')"
   ],
   "id": "e1dda422b9d49e39",
   "execution_count": 72,
   "outputs": []
  },
  {
   "metadata": {
    "ExecuteTime": {
     "end_time": "2024-04-25T12:36:15.869689Z",
     "start_time": "2024-04-25T12:36:15.865651Z"
    }
   },
   "cell_type": "code",
   "source": "rois_matrix",
   "id": "d8a2cebd03dfb09",
   "execution_count": 73,
   "outputs": []
  },
  {
   "metadata": {
    "ExecuteTime": {
     "end_time": "2024-04-25T12:07:48.034033Z",
     "start_time": "2024-04-25T12:07:48.031522Z"
    }
   },
   "cell_type": "code",
   "source": [
    "for key, value in comparisons.items():\n",
    "    print(key)\n",
    "    for roi in value:\n",
    "        print(f'{roi}, ', end='')\n",
    "    if value.size == 0:\n",
    "        print('-', end='')\n",
    "    print('\\n')"
   ],
   "id": "b948159fbc60b3f4",
   "execution_count": 67,
   "outputs": []
  },
  {
   "metadata": {},
   "cell_type": "markdown",
   "source": "# 1st Approach (\"dumb\" comparison)",
   "id": "bb8274c2190978c0"
  },
  {
   "metadata": {
    "ExecuteTime": {
     "end_time": "2024-04-25T11:48:13.014951Z",
     "start_time": "2024-04-25T11:48:13.012216Z"
    }
   },
   "cell_type": "code",
   "source": [
    "from scipy.spatial import distance\n",
    "\n",
    "\n",
    "def roi_spatial_distance(roi1: ROI, roi2: ROI):\n",
    "    \"\"\"This is our adjacency measure. If the ROIs are too far apart, they can't be from the same cell, and we needn't\n",
    "    compare them\"\"\"\n",
    "    # get the upper left corners of both ROIs\n",
    "    ul_1, _ = roi1.coordinates()\n",
    "    ul_2, _ = roi2.coordinates()\n",
    "\n",
    "    # Compare the upper left corners. this should be the same distance as if we compared the centers\n",
    "    return distance.euclidean((ul_1.x, ul_1.y), (ul_2.x, ul_2.y))\n"
   ],
   "id": "edcff11996f8da4c",
   "execution_count": 59,
   "outputs": []
  },
  {
   "metadata": {
    "ExecuteTime": {
     "end_time": "2024-04-25T11:48:30.538333Z",
     "start_time": "2024-04-25T11:48:14.265468Z"
    }
   },
   "cell_type": "code",
   "source": [
    "import time\n",
    "\n",
    "# -- Parameters --------------\n",
    "distance_threshold_rois = 1.5\n",
    "dist_thresh_pixels = 400\n",
    "# ----------------------------\n",
    "\n",
    "st = time.time()\n",
    "\n",
    "comparisons = {}\n",
    "rois_copy = list(filtered_rois)\n",
    "n_comparisons = 0\n",
    "\n",
    "# for each roi, check if each remaining roi in the list is within its range. \n",
    "for roi1 in filtered_rois:\n",
    "    # delete this roi from rois_copy, so that comparisons are only made in one order of the pairs\n",
    "    rois_copy.remove(roi1)\n",
    "\n",
    "    # check which rois are within the distance for this roi\n",
    "    within_dist = []\n",
    "    for roi2 in rois_copy:\n",
    "        spatial_dist = roi_spatial_distance(roi1, roi2)\n",
    "        n_comparisons += 1\n",
    "\n",
    "        # print(roi1, roi2, ' : ', f'{spatial_dist:.2f}', ':', spatial_dist < dist_thresh_pixels)\n",
    "        if spatial_dist < dist_thresh_pixels:\n",
    "            within_dist.append(roi2)\n",
    "\n",
    "    comparisons[roi1] = within_dist\n",
    "\n",
    "print(f\"\\nCalculating Comparisons: {time.time() - st:.2f}s\")\n",
    "\n",
    "# comparisons\n",
    "n_comparisons"
   ],
   "id": "e1481e6a174ad76a",
   "execution_count": 60,
   "outputs": []
  },
  {
   "metadata": {},
   "cell_type": "markdown",
   "source": [
    "# Timing\n",
    "## 1st Approach (comparing whole list)\n",
    "| Size | n_rois | Duration    | n_comparisons |\n",
    "|------|--------|-------------|---------------|\n",
    "| 64   | 768    | 1.03s       | 294.528       |\n",
    "| 32   | 3072   | 16.61s      | 4.717.056     |\n",
    "| 16   | 12288  | 260s (est.) | 75.491.328    | \n",
    "| 8    | 49152  |             | 1.207.934.976 | \n",
    "\n",
    "\n",
    "To calculate n_comparisons with $r$ ROIs, we calculate$\\frac{r^2-r}{2}$.  \n",
    "290.000 comparisons take about 1s. This will probably increase when RAM runs out and memory swap is activated though!\n",
    "\n",
    "## 2nd Approach (comparing within bounds)\n",
    "comparison_range_pixels = 400\n",
    "\n",
    "| Size | n_rois | Duration | n_comparisons |\n",
    "|------|--------|----------|---------------|\n",
    "| 64   | 768    | 0.01s    |               |\n",
    "| 32   | 3072   | 0.05s    |               |\n",
    "| 16   | 12288  | 0.46s    |               | \n",
    "| 8    | 49152  | 6.47s    |               | \n",
    "\n"
   ],
   "id": "9a3ae60531209808"
  },
  {
   "metadata": {},
   "cell_type": "code",
   "execution_count": null,
   "source": "",
   "id": "b554442cff0f6b90",
   "outputs": []
  }
 ],
 "metadata": {
  "kernelspec": {
   "display_name": "Python 3",
   "language": "python",
   "name": "python3"
  },
  "language_info": {
   "codemirror_mode": {
    "name": "ipython",
    "version": 2
   },
   "file_extension": ".py",
   "mimetype": "text/x-python",
   "name": "python",
   "nbconvert_exporter": "python",
   "pygments_lexer": "ipython2",
   "version": "2.7.6"
  }
 },
 "nbformat": 4,
 "nbformat_minor": 5
}
