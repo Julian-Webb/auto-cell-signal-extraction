{
 "cells": [
  {
   "cell_type": "code",
   "id": "initial_id",
   "metadata": {
    "collapsed": true,
    "ExecuteTime": {
     "end_time": "2024-04-15T14:24:22.574051Z",
     "start_time": "2024-04-15T14:24:22.568803Z"
    }
   },
   "source": [
    "from src.utils.coordinate_system import Dimensions\n",
    "import numpy as np\n",
    "from src.utils.ROI import ROI\n",
    "\n",
    "img_dims = Dimensions(2048, 1536)\n",
    "\n",
    "ROI.N_HORIZONTAL = 3\n",
    "ROI.N_VERTICAL = 2\n",
    "\n",
    "ROI.WIDTH = img_dims[0] / ROI.N_HORIZONTAL\n",
    "ROI.HEIGHT = img_dims[1] / ROI.N_VERTICAL\n",
    "\n",
    "rois = np.zeros(shape=(ROI.N_HORIZONTAL, ROI.N_VERTICAL), dtype=ROI)\n",
    "for x in range(ROI.N_HORIZONTAL):\n",
    "    for y in range(ROI.N_VERTICAL):\n",
    "        rois[x, y] = ROI(x, y)\n",
    "\n",
    "# filtered_rois = rois.flatten()[[0, 1, 2, 5]]\n",
    "filtered_rois = rois.flatten()\n",
    "filtered_rois"
   ],
   "outputs": [
    {
     "data": {
      "text/plain": [
       "array([ROI(0;0), ROI(0;1), ROI(1;0), ROI(1;1), ROI(2;0), ROI(2;1)],\n",
       "      dtype=object)"
      ]
     },
     "execution_count": 21,
     "metadata": {},
     "output_type": "execute_result"
    }
   ],
   "execution_count": 21
  },
  {
   "metadata": {
    "ExecuteTime": {
     "end_time": "2024-04-15T14:27:07.548730Z",
     "start_time": "2024-04-15T14:27:07.545443Z"
    }
   },
   "cell_type": "code",
   "source": [
    "from scipy.spatial import distance\n",
    "\n",
    "\n",
    "def roi_spatial_distance(roi1: ROI, roi2: ROI):\n",
    "    \"\"\"This is our adjacency measure. If the ROIs are too far apart, they can't be from the same cell, and we needn't\n",
    "    compare them\"\"\"\n",
    "    # get the upper left corners of both ROIs\n",
    "    ul_1, _ = roi1.coordinates()\n",
    "    ul_2, _ = roi2.coordinates()\n",
    "    \n",
    "    # Compare the upper left corners. this should be the same distance as if we compared the centers\n",
    "    return  distance.euclidean((ul_1.x, ul_1.y), (ul_2.x, ul_2.y))\n",
    "\n",
    "distance_threshold_rois = 1.5\n",
    "dist_thresh_pixels = 100"
   ],
   "id": "edcff11996f8da4c",
   "outputs": [],
   "execution_count": 29
  },
  {
   "metadata": {
    "ExecuteTime": {
     "end_time": "2024-04-15T14:28:11.549839Z",
     "start_time": "2024-04-15T14:28:11.542765Z"
    }
   },
   "cell_type": "code",
   "source": [
    "comparisons = {}\n",
    "rois_copy = list(filtered_rois)\n",
    "\n",
    "# for each roi, check if each remaining roi in the list is within its range. \n",
    "for roi1 in filtered_rois:\n",
    "    # delete this roi from rois_copy, so that comparisons are only made in one order of the pairs\n",
    "    rois_copy.remove(roi1)\n",
    "\n",
    "    # get the upper left corner for roi1\n",
    "    ul1, _ = roi1.coordinates()\n",
    "\n",
    "    # check which rois are within the distance for this roi\n",
    "    within_dist = []\n",
    "    for roi2 in rois_copy:\n",
    "        ul2, _ = roi2.coordinates()\n",
    "        print(roi1, roi2, ' : ', f'{roi_spatial_distance(roi1, roi2):.2f}', ':',\n",
    "              roi_spatial_distance(roi1, roi2) < distance_threshold_rois)\n",
    "        if roi_spatial_distance(roi1, roi2) < distance_threshold_rois:\n",
    "            within_dist.append(roi2)\n",
    "\n",
    "    comparisons[roi1] = within_dist\n",
    "\n",
    "comparisons"
   ],
   "id": "e1481e6a174ad76a",
   "outputs": [
    {
     "name": "stdout",
     "output_type": "stream",
     "text": [
      "(0;0) (0;1)  :  1.00 : True\n",
      "(0;0) (1;0)  :  1.00 : True\n",
      "(0;0) (1;1)  :  1.41 : True\n",
      "(0;0) (2;0)  :  2.00 : False\n",
      "(0;0) (2;1)  :  2.24 : False\n",
      "(0;1) (1;0)  :  1.41 : True\n",
      "(0;1) (1;1)  :  1.00 : True\n",
      "(0;1) (2;0)  :  2.24 : False\n",
      "(0;1) (2;1)  :  2.00 : False\n",
      "(1;0) (1;1)  :  1.00 : True\n",
      "(1;0) (2;0)  :  1.00 : True\n",
      "(1;0) (2;1)  :  1.41 : True\n",
      "(1;1) (2;0)  :  1.41 : True\n",
      "(1;1) (2;1)  :  1.00 : True\n",
      "(2;0) (2;1)  :  1.00 : True\n"
     ]
    },
    {
     "data": {
      "text/plain": [
       "{ROI(0;0): [ROI(0;1), ROI(1;0), ROI(1;1)],\n",
       " ROI(0;1): [ROI(1;0), ROI(1;1)],\n",
       " ROI(1;0): [ROI(1;1), ROI(2;0), ROI(2;1)],\n",
       " ROI(1;1): [ROI(2;0), ROI(2;1)],\n",
       " ROI(2;0): [ROI(2;1)],\n",
       " ROI(2;1): []}"
      ]
     },
     "execution_count": 33,
     "metadata": {},
     "output_type": "execute_result"
    }
   ],
   "execution_count": 33
  },
  {
   "metadata": {},
   "cell_type": "code",
   "outputs": [],
   "execution_count": null,
   "source": "",
   "id": "58624d2ca0bf89a5"
  }
 ],
 "metadata": {
  "kernelspec": {
   "display_name": "Python 3",
   "language": "python",
   "name": "python3"
  },
  "language_info": {
   "codemirror_mode": {
    "name": "ipython",
    "version": 2
   },
   "file_extension": ".py",
   "mimetype": "text/x-python",
   "name": "python",
   "nbconvert_exporter": "python",
   "pygments_lexer": "ipython2",
   "version": "2.7.6"
  }
 },
 "nbformat": 4,
 "nbformat_minor": 5
}
