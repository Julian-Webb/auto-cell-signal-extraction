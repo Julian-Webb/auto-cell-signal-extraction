{
 "cells": [
  {
   "cell_type": "code",
   "execution_count": 3,
   "id": "initial_id",
   "metadata": {
    "collapsed": true,
    "ExecuteTime": {
     "end_time": "2024-03-19T13:19:07.924261Z",
     "start_time": "2024-03-19T13:19:07.922600Z"
    }
   },
   "outputs": [],
   "source": [
    "from PIL import Image, ImageSequence\n",
    "import numpy as np\n",
    "import os"
   ]
  },
  {
   "cell_type": "code",
   "outputs": [],
   "source": [
    "base_dir = '/Users/julian/development/PycharmProjects/glioblastoma'\n",
    "\n",
    "# calcium image\n",
    "# calcium_img_dir = os.path.join(base_dir, 'data', '01_raw', '276_AZD3965_Mathieu')\n",
    "# calcium_img_path = os.path.join(calcium_img_dir, '276_AZD3965_Mathieu.TIF')\n",
    "# directory = calcium_img_dir\n",
    "# image_path = calcium_img_path\n",
    "\n",
    "# test stack\n",
    "test_stack_dir = os.path.join(base_dir, 'data', '01_raw', 'high_res_test_stack')\n",
    "test_stack_path = os.path.join(test_stack_dir, 'high_res_test_stack.tif')\n",
    "directory = test_stack_dir\n",
    "image_path = test_stack_path\n",
    "\n",
    "# single image\n",
    "# single_image_dir = '/Users/julian/development/PycharmProjects/glioblastoma/data/01_raw/single_image/'\n",
    "# single_image_path = os.path.join(single_image_dir, 'single_image.tiff')\n"
   ],
   "metadata": {
    "collapsed": false,
    "ExecuteTime": {
     "end_time": "2024-03-19T13:36:16.732882Z",
     "start_time": "2024-03-19T13:36:16.725039Z"
    }
   },
   "id": "6facbc36d18a76a7",
   "execution_count": 14
  },
  {
   "cell_type": "code",
   "outputs": [
    {
     "name": "stdout",
     "output_type": "stream",
     "text": [
      "13\n"
     ]
    }
   ],
   "source": [
    "im = Image.open(image_path) \n",
    "print(im.n_frames)"
   ],
   "metadata": {
    "collapsed": false,
    "ExecuteTime": {
     "end_time": "2024-03-19T13:36:16.913849Z",
     "start_time": "2024-03-19T13:36:16.905498Z"
    }
   },
   "id": "6a98edecef87ed9f",
   "execution_count": 15
  },
  {
   "cell_type": "code",
   "outputs": [],
   "source": [
    "im"
   ],
   "metadata": {
    "collapsed": false
   },
   "id": "b335accc38729eb4",
   "execution_count": null
  }
 ],
 "metadata": {
  "kernelspec": {
   "display_name": "Python 3",
   "language": "python",
   "name": "python3"
  },
  "language_info": {
   "codemirror_mode": {
    "name": "ipython",
    "version": 2
   },
   "file_extension": ".py",
   "mimetype": "text/x-python",
   "name": "python",
   "nbconvert_exporter": "python",
   "pygments_lexer": "ipython2",
   "version": "2.7.6"
  }
 },
 "nbformat": 4,
 "nbformat_minor": 5
}
