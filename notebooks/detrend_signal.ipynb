{
 "cells": [
  {
   "cell_type": "code",
   "id": "initial_id",
   "metadata": {
    "collapsed": true,
    "ExecuteTime": {
     "end_time": "2024-04-12T10:24:13.420486Z",
     "start_time": "2024-04-12T10:24:13.416480Z"
    }
   },
   "source": [
    "import pandas as pd\n",
    "\n",
    "df = pd.DataFrame(\n",
    "    {\n",
    "        'ROI1': [31354, 43688, 54995, 65532, 6553],\n",
    "        'ROI2': [49343, 65534, 37521, 17476, 0],\n",
    "        'ROI3': [49343, 65534, 37521, 17476, 0],\n",
    "    }\n",
    ")\n",
    "\n"
   ],
   "outputs": [],
   "execution_count": 23
  },
  {
   "metadata": {
    "ExecuteTime": {
     "end_time": "2024-04-12T10:24:13.715433Z",
     "start_time": "2024-04-12T10:24:13.707685Z"
    }
   },
   "cell_type": "code",
   "source": [
    "rolling_mean = df.rolling(3, center=True).mean()\n",
    "rolling_mean"
   ],
   "id": "80cde6b5286f20c1",
   "outputs": [
    {
     "data": {
      "text/plain": [
       "           ROI1          ROI2          ROI3\n",
       "0           NaN           NaN           NaN\n",
       "1  43345.666667  50799.333333  50799.333333\n",
       "2  54738.333333  40177.000000  40177.000000\n",
       "3  42360.000000  18332.333333  18332.333333\n",
       "4           NaN           NaN           NaN"
      ],
      "text/html": [
       "<div>\n",
       "<style scoped>\n",
       "    .dataframe tbody tr th:only-of-type {\n",
       "        vertical-align: middle;\n",
       "    }\n",
       "\n",
       "    .dataframe tbody tr th {\n",
       "        vertical-align: top;\n",
       "    }\n",
       "\n",
       "    .dataframe thead th {\n",
       "        text-align: right;\n",
       "    }\n",
       "</style>\n",
       "<table border=\"1\" class=\"dataframe\">\n",
       "  <thead>\n",
       "    <tr style=\"text-align: right;\">\n",
       "      <th></th>\n",
       "      <th>ROI1</th>\n",
       "      <th>ROI2</th>\n",
       "      <th>ROI3</th>\n",
       "    </tr>\n",
       "  </thead>\n",
       "  <tbody>\n",
       "    <tr>\n",
       "      <th>0</th>\n",
       "      <td>NaN</td>\n",
       "      <td>NaN</td>\n",
       "      <td>NaN</td>\n",
       "    </tr>\n",
       "    <tr>\n",
       "      <th>1</th>\n",
       "      <td>43345.666667</td>\n",
       "      <td>50799.333333</td>\n",
       "      <td>50799.333333</td>\n",
       "    </tr>\n",
       "    <tr>\n",
       "      <th>2</th>\n",
       "      <td>54738.333333</td>\n",
       "      <td>40177.000000</td>\n",
       "      <td>40177.000000</td>\n",
       "    </tr>\n",
       "    <tr>\n",
       "      <th>3</th>\n",
       "      <td>42360.000000</td>\n",
       "      <td>18332.333333</td>\n",
       "      <td>18332.333333</td>\n",
       "    </tr>\n",
       "    <tr>\n",
       "      <th>4</th>\n",
       "      <td>NaN</td>\n",
       "      <td>NaN</td>\n",
       "      <td>NaN</td>\n",
       "    </tr>\n",
       "  </tbody>\n",
       "</table>\n",
       "</div>"
      ]
     },
     "execution_count": 24,
     "metadata": {},
     "output_type": "execute_result"
    }
   ],
   "execution_count": 24
  },
  {
   "metadata": {
    "ExecuteTime": {
     "end_time": "2024-04-12T10:24:15.131742Z",
     "start_time": "2024-04-12T10:24:15.125232Z"
    }
   },
   "cell_type": "code",
   "source": "df - rolling_mean",
   "id": "8033aecd9dd27871",
   "outputs": [
    {
     "data": {
      "text/plain": [
       "           ROI1          ROI2          ROI3\n",
       "0           NaN           NaN           NaN\n",
       "1    342.333333  14734.666667  14734.666667\n",
       "2    256.666667  -2656.000000  -2656.000000\n",
       "3  23172.000000   -856.333333   -856.333333\n",
       "4           NaN           NaN           NaN"
      ],
      "text/html": [
       "<div>\n",
       "<style scoped>\n",
       "    .dataframe tbody tr th:only-of-type {\n",
       "        vertical-align: middle;\n",
       "    }\n",
       "\n",
       "    .dataframe tbody tr th {\n",
       "        vertical-align: top;\n",
       "    }\n",
       "\n",
       "    .dataframe thead th {\n",
       "        text-align: right;\n",
       "    }\n",
       "</style>\n",
       "<table border=\"1\" class=\"dataframe\">\n",
       "  <thead>\n",
       "    <tr style=\"text-align: right;\">\n",
       "      <th></th>\n",
       "      <th>ROI1</th>\n",
       "      <th>ROI2</th>\n",
       "      <th>ROI3</th>\n",
       "    </tr>\n",
       "  </thead>\n",
       "  <tbody>\n",
       "    <tr>\n",
       "      <th>0</th>\n",
       "      <td>NaN</td>\n",
       "      <td>NaN</td>\n",
       "      <td>NaN</td>\n",
       "    </tr>\n",
       "    <tr>\n",
       "      <th>1</th>\n",
       "      <td>342.333333</td>\n",
       "      <td>14734.666667</td>\n",
       "      <td>14734.666667</td>\n",
       "    </tr>\n",
       "    <tr>\n",
       "      <th>2</th>\n",
       "      <td>256.666667</td>\n",
       "      <td>-2656.000000</td>\n",
       "      <td>-2656.000000</td>\n",
       "    </tr>\n",
       "    <tr>\n",
       "      <th>3</th>\n",
       "      <td>23172.000000</td>\n",
       "      <td>-856.333333</td>\n",
       "      <td>-856.333333</td>\n",
       "    </tr>\n",
       "    <tr>\n",
       "      <th>4</th>\n",
       "      <td>NaN</td>\n",
       "      <td>NaN</td>\n",
       "      <td>NaN</td>\n",
       "    </tr>\n",
       "  </tbody>\n",
       "</table>\n",
       "</div>"
      ]
     },
     "execution_count": 25,
     "metadata": {},
     "output_type": "execute_result"
    }
   ],
   "execution_count": 25
  },
  {
   "metadata": {},
   "cell_type": "code",
   "outputs": [],
   "execution_count": null,
   "source": "\n",
   "id": "59d50ba4ed4086b"
  }
 ],
 "metadata": {
  "kernelspec": {
   "display_name": "Python 3",
   "language": "python",
   "name": "python3"
  },
  "language_info": {
   "codemirror_mode": {
    "name": "ipython",
    "version": 2
   },
   "file_extension": ".py",
   "mimetype": "text/x-python",
   "name": "python",
   "nbconvert_exporter": "python",
   "pygments_lexer": "ipython2",
   "version": "2.7.6"
  }
 },
 "nbformat": 4,
 "nbformat_minor": 5
}
