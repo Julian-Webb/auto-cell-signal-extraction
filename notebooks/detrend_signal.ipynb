{
 "cells": [
  {
   "cell_type": "code",
   "id": "initial_id",
   "metadata": {
    "collapsed": true,
    "ExecuteTime": {
     "end_time": "2024-04-12T10:24:13.420486Z",
     "start_time": "2024-04-12T10:24:13.416480Z"
    }
   },
   "source": [
    "import pandas as pd\n",
    "\n",
    "df = pd.DataFrame(\n",
    "    {\n",
    "        'ROI1': [31354, 43688, 54995, 65532, 6553],\n",
    "        'ROI2': [49343, 65534, 37521, 17476, 0],\n",
    "        'ROI3': [49343, 65534, 37521, 17476, 0],\n",
    "    }\n",
    ")\n",
    "\n"
   ],
   "execution_count": 23,
   "outputs": []
  },
  {
   "metadata": {
    "ExecuteTime": {
     "end_time": "2024-04-12T10:24:13.715433Z",
     "start_time": "2024-04-12T10:24:13.707685Z"
    }
   },
   "cell_type": "code",
   "source": [
    "rolling_mean = df.rolling(3, center=True).mean()\n",
    "rolling_mean"
   ],
   "id": "80cde6b5286f20c1",
   "execution_count": 24,
   "outputs": []
  },
  {
   "metadata": {
    "ExecuteTime": {
     "end_time": "2024-04-12T10:24:15.131742Z",
     "start_time": "2024-04-12T10:24:15.125232Z"
    }
   },
   "cell_type": "code",
   "source": "df - rolling_mean",
   "id": "8033aecd9dd27871",
   "execution_count": 25,
   "outputs": []
  },
  {
   "metadata": {},
   "cell_type": "code",
   "execution_count": null,
   "source": "\n",
   "id": "59d50ba4ed4086b",
   "outputs": []
  }
 ],
 "metadata": {
  "kernelspec": {
   "display_name": "Python 3",
   "language": "python",
   "name": "python3"
  },
  "language_info": {
   "codemirror_mode": {
    "name": "ipython",
    "version": 2
   },
   "file_extension": ".py",
   "mimetype": "text/x-python",
   "name": "python",
   "nbconvert_exporter": "python",
   "pygments_lexer": "ipython2",
   "version": "2.7.6"
  }
 },
 "nbformat": 4,
 "nbformat_minor": 5
}
